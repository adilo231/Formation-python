{
 "cells": [
  {
   "cell_type": "markdown",
   "metadata": {
    "id": "kPpCo82Kj-HT"
   },
   "source": [
    "# TP 6: Numpy\n",
    "\n",
    "NumPy est le package fondamental pour le calcul scientifique en Python. Il s'agit d'une bibliothèque Python qui fournit un objet tableau multidimensionnel, divers objets dérivés (tels que des tableaux masqués et des matrices) et un assortiment de routines pour des opérations rapides sur des tableaux, y compris mathématiques, logiques, manipulation de forme, tri, sélection, E/S , transformées de Fourier discrètes, algèbre linéaire de base, opérations statistiques de base, simulation aléatoire et bien plus encore."
   ]
  },
  {
   "cell_type": "markdown",
   "metadata": {},
   "source": [
    "Pour accéder à NumPy et à ses fonctions, importez-le dans votre code Python comme ceci :\n",
    "\n"
   ]
  },
  {
   "cell_type": "code",
   "execution_count": 1,
   "metadata": {
    "id": "1pmhE3K-j8uk"
   },
   "outputs": [],
   "source": [
    "import numpy as np"
   ]
  },
  {
   "cell_type": "markdown",
   "metadata": {},
   "source": [
    "Nous raccourcissons le nom importé en np pour une meilleure lisibilité du code à l'aide de NumPy. Il s'agit d'une convention largement adoptée que vous devez suivre afin que toute personne travaillant avec votre code puisse facilement la comprendre."
   ]
  },
  {
   "cell_type": "markdown",
   "metadata": {
    "id": "ueEc8h86slN-"
   },
   "source": [
    "## Générateurs de tableaux **ndarray**\n",
    "\n",
    "\n",
    "La méthode la plus simple pour créer un tableau NumPy est de partir d'une liste Python existante. Vous pouvez utiliser la fonction `numpy.array()` pour convertir une liste en un tableau NumPy.\n",
    "\n",
    "```python\n",
    "import numpy as np\n",
    "\n",
    "# Création d'un tableau NumPy à partir d'une liste\n",
    "ma_liste = [1, 2, 3, 4, 5]\n",
    "mon_tableau = np.array(ma_liste)\n",
    "```\n",
    "\n",
    "###  Création de Tableaux NumPy avec des Valeurs Initiales\n",
    "\n",
    "Vous pouvez également créer un tableau NumPy avec des valeurs initiales en utilisant des fonctions spécifiques de NumPy. Par exemple, la fonction `numpy.zeros()` crée un tableau rempli de zéros, tandis que `numpy.ones()` crée un tableau rempli de uns.\n",
    "\n",
    "```python\n",
    "# Création d'un tableau rempli de zéros\n",
    "tableau_zeros = np.zeros((3, 4))  # Un tableau de forme (3, 4)\n",
    "\n",
    "# Création d'un tableau rempli de uns\n",
    "tableau_ones = np.ones((2, 2))  # Un tableau de forme (2, 2)\n",
    "```\n",
    "\n",
    "### Création de Séquences Numériques\n",
    "\n",
    "NumPy propose des fonctions pour créer des séquences numériques régulières. Par exemple, vous pouvez utiliser `numpy.arange()` pour générer une séquence de nombres espacés de manière régulière.\n",
    "\n",
    "```python\n",
    "# Création d'une séquence de nombres de 0 à 9\n",
    "sequence = np.arange(10)  # Les nombres vont de 0 à 9\n",
    "```\n",
    "\n",
    "### Génération de Nombres Aléatoires\n",
    "\n",
    "Pour créer des tableaux NumPy avec des nombres aléatoires, NumPy propose le module `numpy.random`. Vous pouvez utiliser `numpy.random.rand()` pour générer des nombres aléatoires dans une distribution uniforme entre 0 et 1.\n",
    "\n",
    "```python\n",
    "# Génération de nombres aléatoires entre 0 et 1\n",
    "nombres_aleatoires = np.random.rand(3, 3)  # Un tableau 3x3 de nombres aléatoires\n",
    "```\n",
    "\n",
    "\n"
   ]
  },
  {
   "cell_type": "code",
   "execution_count": 2,
   "metadata": {
    "id": "FAALhYpise2W"
   },
   "outputs": [],
   "source": [
    "A = np.array([1, 2, 3]) # générateur par défaut, qui permet de convertir des listes (ou autres objets) en tableau ndarray\n",
    "A = np.zeros((2, 3)) # tableau de 0 aux dimensions 2x3\n",
    "B = np.ones((2, 3)) # tableau de 1 aux dimensions 2x3\n",
    "np.random.seed(0)\n",
    "C = np.random.randn(2, 3) # tableau aléatoire (distribution normale) aux dimensions 2x3\n",
    "D = np.random.rand(2, 3) # tableau aléatoire (distribution uniforme)\n",
    "size = (2, 3)\n",
    "E = np.random.randint(0, 10, size) # tableau d'entiers aléatoires de 0 a 10 et de dimension 2x3\n",
    "B = np.eye(4, dtype=bool) # créer une matrice identité et convertit les éléments en type bool.\n"
   ]
  },
  {
   "cell_type": "code",
   "execution_count": 3,
   "metadata": {
    "id": "2_wG1YYM3cKL"
   },
   "outputs": [
    {
     "name": "stdout",
     "output_type": "stream",
     "text": [
      "[0.         0.26315789 0.52631579 0.78947368 1.05263158 1.31578947\n",
      " 1.57894737 1.84210526 2.10526316 2.36842105 2.63157895 2.89473684\n",
      " 3.15789474 3.42105263 3.68421053 3.94736842 4.21052632 4.47368421\n",
      " 4.73684211 5.        ]\n",
      "[0.  0.5 1.  1.5 2.  2.5 3.  3.5 4.  4.5]\n"
     ]
    }
   ],
   "source": [
    "A = np.linspace(0,5, 20) # np.linspace(start,end, number of elements)\n",
    "B = np.arange(0, 5, 0.5) # np.linspace(start,end, step)\n",
    "print(A)\n",
    "print(B)"
   ]
  },
  {
   "cell_type": "code",
   "execution_count": 7,
   "metadata": {},
   "outputs": [
    {
     "name": "stdout",
     "output_type": "stream",
     "text": [
      "float16:  [ 5.     5.832  6.668  7.5    8.336  9.164 10.   ]\n",
      "float32:  [ 5.         5.8333335  6.6666665  7.5        8.333333   9.166667\n",
      " 10.       ]\n",
      "float64:  [ 5.          5.83333333  6.66666667  7.5         8.33333333  9.16666667\n",
      " 10.        ]\n"
     ]
    }
   ],
   "source": [
    "A = np.linspace(5, 10,7, dtype=np.float16) # définit le type et la place a occuper sur la mémoire\n",
    "print(\"float16: \",A)\n",
    "A = np.linspace(5,10,7, dtype=np.float32)\n",
    "print(\"float32: \",A)\n",
    "A = np.linspace(5,10,7, dtype=np.float64)\n",
    "print(\"float64: \",A)"
   ]
  },
  {
   "cell_type": "markdown",
   "metadata": {
    "id": "O0gPhrkatFCq"
   },
   "source": [
    "## Attributs importants"
   ]
  },
  {
   "cell_type": "code",
   "execution_count": 8,
   "metadata": {
    "colab": {
     "base_uri": "https://localhost:8080/",
     "height": 85
    },
    "id": "49om7hC7s7PY",
    "outputId": "11656a58-5b8c-4a61-df58-8092d792bbd7"
   },
   "outputs": [
    {
     "name": "stdout",
     "output_type": "stream",
     "text": [
      "6\n",
      "(2, 3)\n",
      "<class 'tuple'>\n",
      "2\n"
     ]
    }
   ],
   "source": [
    "A = np.zeros((2, 3)) # création d'un tableau de shape (2, 3)\n",
    " \n",
    "print(A.size) # le nombre d'éléments dans le tableau A\n",
    "print(A.shape) # les dimensions du tableau A (sous forme de Tuple)\n",
    "print(type(A.shape)) # voici la preuve que la shape est un tuple\n",
    "print(A.shape[0]) # le nombre d'éléments dans la premiere dimension de A"
   ]
  },
  {
   "cell_type": "markdown",
   "metadata": {
    "id": "LJxuYLLptW4U"
   },
   "source": [
    "## Méthodes importantes\n",
    "\n",
    "###  **reshape() : Redimensionner un Tableau**\n",
    "\n",
    "La fonction `reshape()` de NumPy permet de modifier la forme d'un tableau existant sans changer les données qu'il contient. Elle est utilisée pour transformer un tableau multi-dimensionnel en une forme différente tout en maintenant le même nombre total d'éléments.\n",
    "\n",
    "```python\n",
    "\n",
    "# Création d'un tableau de forme (4, 3)\n",
    "tableau_original = np.arange(12).reshape(4, 3)\n",
    "\n",
    "# Redimensionnement en un tableau de forme (3, 4)\n",
    "tableau_redimensionné = tableau_original.reshape(3, 4)\n",
    "```\n",
    "\n",
    "La fonction `reshape()` est utile lorsque vous avez besoin de changer la structure d'un tableau NumPy pour qu'il corresponde aux exigences d'une opération spécifique.\n",
    "\n",
    "###  **ravel() : Aplatir un Tableau**\n",
    "\n",
    "La fonction `ravel()` est utilisée pour aplatir un tableau multidimensionnel en un tableau à une seule dimension. Elle crée une vue du tableau original, ce qui signifie que les données ne sont pas copiées, mais elles sont simplement réorganisées pour former une seule dimension.\n",
    "\n",
    "```python\n",
    "import numpy as np\n",
    "\n",
    "# Création d'un tableau multidimensionnel\n",
    "tableau_original = np.array([[1, 2, 3], [4, 5, 6]])\n",
    "\n",
    "# Aplatir le tableau en un tableau à une dimension\n",
    "tableau_aplati = tableau_original.ravel()\n",
    "```\n",
    "\n",
    "L'utilisation de `ravel()` est courante lorsque vous avez besoin de travailler avec des données sous forme de tableau à une seule dimension, par exemple lors de l'application de certaines opérations mathématiques.\n",
    "\n",
    "###  **squeeze() : Supprimer les Dimensions Unitaires**\n",
    "\n",
    "La fonction `squeeze()` est utilisée pour supprimer les dimensions qui ont une taille de 1 dans un tableau NumPy. Elle permet de simplifier la structure du tableau en éliminant les dimensions inutiles.\n",
    "\n",
    "```python\n",
    "import numpy as np\n",
    "\n",
    "# Création d'un tableau avec une dimension unitaire\n",
    "tableau_original = np.array([[[1, 2, 3]]])\n",
    "\n",
    "# Suppression de la dimension unitaire\n",
    "tableau_squeezé = np.squeeze(tableau_original)\n",
    "```\n",
    "\n",
    "L'utilisation de `squeeze()` est utile lorsque vous avez des dimensions inutiles dans votre tableau et que vous souhaitez les éliminer pour simplifier le tableau.\n",
    "\n",
    "###  **concatenate() : Assembler des Tableaux**\n",
    "\n",
    "La fonction `concatenate()` de NumPy permet d'assembler deux tableaux le long d'un axe spécifié. Vous pouvez choisir l'axe le long duquel les tableaux seront concaténés (0 pour les lignes, 1 pour les colonnes, etc.).\n",
    "\n",
    "```python\n",
    "import numpy as np\n",
    "\n",
    "# Création de deux tableaux\n",
    "tableau1 = np.array([[1, 2], [3, 4]])\n",
    "tableau2 = np.array([[5, 6]])\n",
    "\n",
    "# Concaténation le long de l'axe des colonnes (axis=1)\n",
    "tableau_concaténé = np.concatenate((tableau1, tableau2.T), axis=1)\n",
    "```\n",
    "\n",
    "La fonction `concatenate()` est utile lorsque vous avez besoin de fusionner deux tableaux NumPy le long d'un axe spécifié pour former un nouveau tableau.\n",
    "\n"
   ]
  },
  {
   "cell_type": "code",
   "execution_count": 9,
   "metadata": {
    "colab": {
     "base_uri": "https://localhost:8080/",
     "height": 68
    },
    "id": "nzys1OiQtTS1",
    "outputId": "894bea04-06a6-4e23-e335-abe43764c7e0"
   },
   "outputs": [
    {
     "name": "stdout",
     "output_type": "stream",
     "text": [
      "reshape:  [[0. 0.]\n",
      " [0. 0.]\n",
      " [0. 0.]]\n",
      "ravel:  [0. 0. 0. 0. 0. 0.]\n"
     ]
    }
   ],
   "source": [
    "A = np.zeros((2, 3)) # création d'un tableau de shape (2, 3)\n",
    " \n",
    "A = A.reshape((3, 2)) # redimensionne le tableau A (3 lignes, 2 colonnes)\n",
    "print(\"reshape: \",A)\n",
    "B = A.ravel() # Aplatit le tableau A (une seule dimension)\n",
    "print(\"ravel: \",B)"
   ]
  },
  {
   "cell_type": "code",
   "execution_count": 10,
   "metadata": {},
   "outputs": [
    {
     "name": "stdout",
     "output_type": "stream",
     "text": [
      "[1 2 5 3]\n",
      "(4,)\n",
      "(4, 1)\n",
      "(4,)\n"
     ]
    }
   ],
   "source": [
    "A= np.array([1,2,5,3])\n",
    "print(A)\n",
    "print(A.shape)\n",
    "\n",
    "A= A.reshape((A.shape[0],1))\n",
    "print(A.shape)\n",
    "\n",
    "A=A.squeeze()\n",
    "print(A.shape)"
   ]
  },
  {
   "cell_type": "markdown",
   "metadata": {},
   "source": [
    "\n",
    "\n",
    "###  `concatenate()`\n",
    "\n",
    "La fonction `concatenate()` en NumPy est une fonction polyvalente utilisée pour concaténer deux tableaux ou plus le long d'un axe spécifié. Vous pouvez spécifier l'axe le long duquel les tableaux doivent être concaténés. Par défaut, elle concatène le long de l'axe 0 (les lignes), créant un tableau plus grand.\n",
    "\n",
    "```python\n",
    "import numpy as np\n",
    "\n",
    "# Création de deux tableaux\n",
    "arr1 = np.array([1, 2, 3])\n",
    "arr2 = np.array([4, 5, 6])\n",
    "\n",
    "# Concaténation le long de l'axe 0 (les lignes)\n",
    "result = np.concatenate((arr1, arr2))\n",
    "```\n",
    "\n",
    "Dans cet exemple, `result` sera `[1, 2, 3, 4, 5, 6]`.\n",
    "\n",
    "Vous pouvez également spécifier explicitement l'axe, comme ceci :\n",
    "\n",
    "```python\n",
    "result = np.concatenate((arr1, arr2), axis=0)\n",
    "```\n",
    "\n",
    "###  `vstack()`\n",
    "\n",
    "La fonction `vstack()` est une fonction spécialisée pour l'empilement vertical des tableaux, ce qui signifie qu'elle empile les tableaux les uns au-dessus des autres le long de l'axe 0 (les lignes). Elle est équivalente à l'utilisation de `concatenate()` avec `axis=0`.\n",
    "\n",
    "```python\n",
    "import numpy as np\n",
    "\n",
    "# Création de deux tableaux\n",
    "arr1 = np.array([[1, 2], [3, 4]])\n",
    "arr2 = np.array([[5, 6]])\n",
    "\n",
    "# Empilement vertical des tableaux\n",
    "result = np.vstack((arr1, arr2))\n",
    "```\n",
    "\n",
    "Dans cet exemple, `result` sera :\n",
    "```\n",
    "array([[1, 2],\n",
    "       [3, 4],\n",
    "       [5, 6]])\n",
    "```\n",
    "\n",
    "###  `hstack()`\n",
    "\n",
    "La fonction `hstack()` est utilisée pour l'empilement horizontal des tableaux, ce qui signifie qu'elle empile les tableaux côte à côte le long de l'axe 1 (les colonnes). Elle est équivalente à l'utilisation de `concatenate()` avec `axis=1`.\n",
    "\n",
    "```python\n",
    "import numpy as np\n",
    "\n",
    "# Création de deux tableaux\n",
    "arr1 = np.array([[1, 2], [3, 4]])\n",
    "arr2 = np.array([[5], [6]])\n",
    "\n",
    "# Empilement horizontal des tableaux\n",
    "result = np.hstack((arr1, arr2))\n",
    "```\n",
    "\n",
    "Dans cet exemple, `result` sera :\n",
    "```\n",
    "array([[1, 2, 5],\n",
    "       [3, 4, 6]])\n",
    "```\n",
    "\n",
    "`vstack()` et `hstack()` sont souvent utilisées lorsque vous avez des tableaux avec des formes compatibles et que vous souhaitez les combiner dans une direction spécifique sans spécifier explicitement l'axe.\n",
    "\n"
   ]
  },
  {
   "cell_type": "code",
   "execution_count": 11,
   "metadata": {
    "colab": {
     "base_uri": "https://localhost:8080/",
     "height": 85
    },
    "id": "1sBGP0vxtlNT",
    "outputId": "7ad91082-e579-4084-c8a8-391f3e25d505"
   },
   "outputs": [
    {
     "data": {
      "text/plain": [
       "array([[0., 0., 0.],\n",
       "       [0., 0., 0.],\n",
       "       [1., 1., 1.],\n",
       "       [1., 1., 1.]])"
      ]
     },
     "execution_count": 11,
     "metadata": {},
     "output_type": "execute_result"
    }
   ],
   "source": [
    "A = np.zeros((2, 3)) # création d'un tableau de shape (2, 3)\n",
    "B = np.ones((2, 3)) # création d'un tableau de shape (2, 3)\n",
    "\n",
    "np.concatenate((A, B), axis=0) # axe 0 : équivalent de np.vstack((A, B))"
   ]
  },
  {
   "cell_type": "code",
   "execution_count": 12,
   "metadata": {
    "colab": {
     "base_uri": "https://localhost:8080/",
     "height": 51
    },
    "id": "Ped85c9YuN5t",
    "outputId": "3b5936d1-b344-40ef-950a-ca44e0c8c09a"
   },
   "outputs": [
    {
     "data": {
      "text/plain": [
       "array([[0., 0., 0., 1., 1., 1.],\n",
       "       [0., 0., 0., 1., 1., 1.]])"
      ]
     },
     "execution_count": 12,
     "metadata": {},
     "output_type": "execute_result"
    }
   ],
   "source": [
    "np.concatenate((A, B), axis=1) # axe 1 : équivalent de np.hstack((A, B))"
   ]
  },
  {
   "cell_type": "code",
   "execution_count": 8,
   "metadata": {
    "id": "qg_S5VLTvBh0"
   },
   "outputs": [
    {
     "name": "stdout",
     "output_type": "stream",
     "text": [
      "[[0. 0. 0. 1. 1. 1.]\n",
      " [0. 0. 0. 1. 1. 1.]]\n",
      "(2, 6)\n"
     ]
    }
   ],
   "source": [
    "A = np.zeros((2, 3)) # création d'un tableau de shape (2, 3)\n",
    "B = np.ones((2, 3)) # création d'un tableau de shape (2, 3)\n",
    "C = np.hstack((A,B))\n",
    "print(C)\n",
    "print(C.shape)\n",
    "\n"
   ]
  },
  {
   "cell_type": "code",
   "execution_count": 9,
   "metadata": {},
   "outputs": [
    {
     "name": "stdout",
     "output_type": "stream",
     "text": [
      "[[0. 0. 0.]\n",
      " [0. 0. 0.]\n",
      " [1. 1. 1.]\n",
      " [1. 1. 1.]]\n",
      "(4, 3)\n"
     ]
    }
   ],
   "source": [
    "C = np.vstack((A,B))\n",
    "print(C)\n",
    "print(C.shape)"
   ]
  },
  {
   "cell_type": "markdown",
   "metadata": {
    "colab_type": "text",
    "id": "fSHwZpIIwFpJ"
   },
   "source": [
    "## Slicing et Indexing\n",
    "\n",
    "\n",
    "### Indexing (Indexation)\n",
    "\n",
    "L'indexation en NumPy consiste à accéder à des éléments spécifiques d'un tableau en utilisant des indices. Les indices sont utilisés pour cibler des éléments individuels ou des sous-tableaux en fonction de leur position dans le tableau.\n",
    "\n",
    "Par exemple, pour accéder à un élément spécifique d'un tableau, vous utilisez un ou plusieurs indices entre crochets :\n",
    "\n",
    "```python\n",
    "import numpy as np\n",
    "\n",
    "# Création d'un tableau NumPy\n",
    "tableau = np.array([1, 2, 3, 4, 5])\n",
    "\n",
    "# Accès à un élément individuel par son index\n",
    "element = tableau[2]  # Accède à l'élément à l'index 2 (valeur 3)\n",
    "```\n",
    "\n",
    "L'indexation en NumPy commence toujours à 0, donc l'élément à l'index 2 est le troisième élément du tableau.\n",
    "\n",
    "### Slicing (Découpage)\n",
    "\n",
    "Le \"slicing\" en NumPy permet d'extraire des parties spécifiques d'un tableau en spécifiant une plage d'indices. Il est utilisé pour obtenir des sous-tableaux à partir d'un tableau plus grand.\n",
    "\n",
    "Le \"slicing\" se fait en utilisant la notation avec deux points `:` entre les indices de début et de fin. Par exemple, pour extraire une partie d'un tableau :\n",
    "\n",
    "```python\n",
    "import numpy as np\n",
    "\n",
    "# Création d'un tableau NumPy\n",
    "tableau = np.array([1, 2, 3, 4, 5])\n",
    "\n",
    "# Extraction d'une sous-partie du tableau\n",
    "sous_tableau = tableau[1:4]  # Extrait les éléments de l'index 1 à 3 inclus (valeurs 2, 3, 4)\n",
    "```\n",
    "\n",
    "Dans cet exemple, `sous_tableau` contiendra `[2, 3, 4]`. Le premier indice est inclus, tandis que le second indice est exclu.\n",
    "\n",
    "Le \"slicing\" en NumPy peut également être utilisé avec des tableaux multidimensionnels pour extraire des sous-tableaux de manière similaire le long de plusieurs axes.\n"
   ]
  },
  {
   "cell_type": "code",
   "execution_count": null,
   "metadata": {
    "colab": {
     "base_uri": "https://localhost:8080/",
     "height": 51
    },
    "colab_type": "code",
    "id": "L2GYzkyLwL4b",
    "outputId": "1b40595a-b960-4bdd-8ca6-016ea6982019"
   },
   "outputs": [
    {
     "name": "stdout",
     "output_type": "stream",
     "text": [
      "[[1 2 3]\n",
      " [4 5 6]]\n"
     ]
    }
   ],
   "source": [
    "A = np.array([[1, 2, 3], [4, 5, 6]])\n",
    "print(A)"
   ]
  },
  {
   "cell_type": "code",
   "execution_count": 14,
   "metadata": {
    "colab": {
     "base_uri": "https://localhost:8080/",
     "height": 34
    },
    "colab_type": "code",
    "id": "n4QxLfEvwW6D",
    "outputId": "717ae00a-8876-4eef-f4c0-16e97d57c0c2"
   },
   "outputs": [
    {
     "data": {
      "text/plain": [
       "10"
      ]
     },
     "execution_count": 14,
     "metadata": {
      "tags": []
     },
     "output_type": "execute_result"
    }
   ],
   "source": [
    "# Pour acceder a la ligne 0, colonne 1\n",
    "A[0, 1] "
   ]
  },
  {
   "cell_type": "code",
   "execution_count": 16,
   "metadata": {
    "colab": {
     "base_uri": "https://localhost:8080/",
     "height": 51
    },
    "colab_type": "code",
    "id": "80zuAM1XweEX",
    "outputId": "3cdd7044-4393-4a38-b565-7303e1e049bb"
   },
   "outputs": [
    {
     "data": {
      "text/plain": [
       "array([[10, 10],\n",
       "       [10, 10]])"
      ]
     },
     "execution_count": 16,
     "metadata": {
      "tags": []
     },
     "output_type": "execute_result"
    }
   ],
   "source": [
    "# Pour selectionner les blocs de la ligne (0-1) colonne (0-1)\n",
    "A[0:2, 0:2]"
   ]
  },
  {
   "cell_type": "code",
   "execution_count": 17,
   "metadata": {
    "colab": {
     "base_uri": "https://localhost:8080/",
     "height": 51
    },
    "colab_type": "code",
    "id": "46t18720wvGQ",
    "outputId": "2093eb31-9d98-4ecf-c20f-e0f46f5e6892"
   },
   "outputs": [
    {
     "name": "stdout",
     "output_type": "stream",
     "text": [
      "[[10 10  3]\n",
      " [10 10  6]]\n"
     ]
    }
   ],
   "source": [
    "A[0:2, 0:2] = 10\n",
    "print(A)"
   ]
  },
  {
   "cell_type": "markdown",
   "metadata": {
    "colab_type": "text",
    "id": "b47UQK5SxrrB"
   },
   "source": [
    "## Boolean Indexing\n",
    "\n",
    "\n",
    "\n",
    "\n",
    "L'indexation booléenne est une technique puissante en NumPy qui permet de filtrer et d'extraire des éléments d'un tableau en se basant sur des conditions logiques. Cette méthode repose sur l'utilisation de tableaux de valeurs booléennes pour sélectionner les éléments qui satisfont une condition spécifique.\n",
    "\n",
    "### Création d'un Tableau Booléen\n",
    "\n",
    "Pour effectuer une indexation booléenne, vous commencez par créer un tableau de valeurs booléennes en appliquant une condition à un tableau existant. Par exemple, pour créer un tableau booléen indiquant les éléments supérieurs à 5 dans un tableau `tableau` :\n",
    "\n",
    "```python\n",
    "import numpy as np\n",
    "\n",
    "# Création d'un tableau NumPy\n",
    "tableau = np.array([1, 7, 3, 9, 4, 8])\n",
    "\n",
    "# Création d'un tableau booléen en appliquant une condition\n",
    "tableau_bool = tableau > 5  # Crée un tableau booléen avec True pour les valeurs > 5\n",
    "```\n",
    "\n",
    "Dans cet exemple, `tableau_bool` contiendra `[False, True, False, True, False, True]`.\n",
    "\n",
    "### Indexation à l'aide du Tableau Booléen\n",
    "\n",
    "Une fois que vous avez créé un tableau booléen, vous pouvez l'utiliser pour extraire les éléments correspondants du tableau d'origine. Vous placez simplement le tableau booléen entre crochets pour effectuer la sélection. Les éléments associés à `True` seront extraits.\n",
    "\n",
    "```python\n",
    "# Indexation à l'aide du tableau booléen\n",
    "resultat = tableau[tableau_bool]  # Sélectionne les éléments > 5\n",
    "\n",
    "# Affichage du résultat\n",
    "print(resultat)  # Affichera [7, 9, 8]\n",
    "```\n",
    "\n",
    "L'indexation booléenne permet de filtrer rapidement et efficacement les données dans un tableau en fonction de conditions complexes. Elle est largement utilisée dans le traitement de données et l'analyse pour extraire des sous-ensembles spécifiques de données qui répondent à des critères spécifiques.\n",
    "\n"
   ]
  },
  {
   "cell_type": "code",
   "execution_count": 16,
   "metadata": {
    "colab": {
     "base_uri": "https://localhost:8080/",
     "height": 102
    },
    "colab_type": "code",
    "id": "ZTi_PHKXxqL7",
    "outputId": "e16c2c9f-063c-4cdb-e518-15716e35f515"
   },
   "outputs": [
    {
     "name": "stdout",
     "output_type": "stream",
     "text": [
      "[[ True  True  True]\n",
      " [ True False False]]\n",
      "[1 2 3 4]\n",
      "[[4 4 4]\n",
      " [4 5 6]]\n"
     ]
    }
   ],
   "source": [
    "A = np.array([[1, 2, 3], [4, 5, 6]])\n",
    " \n",
    "print(A<5) # masque booléen\n",
    " \n",
    "print(A[A < 5]) # sous-ensemble filtré par le masque booléen\n",
    " \n",
    "A[A<5] = 4 # convertit les valeurs sélectionnées.\n",
    "print(A)"
   ]
  },
  {
   "cell_type": "markdown",
   "metadata": {
    "colab_type": "text",
    "id": "1CXrPX3b1Fqz"
   },
   "source": [
    "## Numpy : Mathématiques"
   ]
  },
  {
   "cell_type": "markdown",
   "metadata": {
    "colab_type": "text",
    "id": "6_N90vFm1T7v"
   },
   "source": [
    "### Méthodes de bases (les plus utiles) de la classe ndarray"
   ]
  },
  {
   "cell_type": "code",
   "execution_count": 34,
   "metadata": {
    "colab": {
     "base_uri": "https://localhost:8080/",
     "height": 221
    },
    "colab_type": "code",
    "id": "d8cWapdZ1Cho",
    "outputId": "5aaafff2-6c19-4a6e-db40-0ad1fdba78b5"
   },
   "outputs": [
    {
     "name": "stdout",
     "output_type": "stream",
     "text": [
      "[[1 2 3]\n",
      " [4 5 6]]\n",
      "la somme des elements 21\n",
      "la somme des elements colone [5 7 9]\n",
      "la somme des elements ligne [ 6 15]\n",
      "la somme cumulative [[1 2 3]\n",
      " [5 7 9]]\n",
      "720\n",
      "[  1   2   6  24 120 720]\n",
      "1\n",
      "6\n",
      "3.5\n",
      "1.707825127659933\n",
      "2.9166666666666665\n"
     ]
    }
   ],
   "source": [
    "A = np.array([[1, 2, 3], [4, 5, 6]])\n",
    "print(A)\n",
    "print(\"la somme des elements\",A.sum()) # effectue la somme de tous les éléments du tableau\n",
    "print(\"la somme des elements colone\",A.sum(axis=0)) # effectue la somme des colonnes (somme sur éléments des les lignes)\n",
    "print(\"la somme des elements ligne\",A.sum(axis=1)) # effectue la somme des lignes (somme sur les éléments des colonnes)\n",
    "print(\"la somme cumulative\",A.cumsum(axis=0)) # effectue la somme cumulée\n",
    " \n",
    "print(A.prod()) # effectue le produit\n",
    "print(A.cumprod()) # effectue le produit cumulé\n",
    " \n",
    "print(A.min()) # trouve le minimum du tableau\n",
    "print(A.max()) # trouve le maximum du tableau\n",
    " \n",
    "print(A.mean()) # calcule la moyenne\n",
    "print(A.std()) # calcule l'ecart type,\n",
    "print(A.var()) # calcule la variance"
   ]
  },
  {
   "cell_type": "markdown",
   "metadata": {
    "colab_type": "text",
    "id": "f2YyhT1a10_D"
   },
   "source": [
    "Une méthode tres importante : la méthode **argsort()**"
   ]
  },
  {
   "cell_type": "code",
   "execution_count": 19,
   "metadata": {
    "colab": {
     "base_uri": "https://localhost:8080/",
     "height": 102
    },
    "colab_type": "code",
    "id": "B4VpaKBC1gP5",
    "outputId": "ece0dc47-6e25-4467-8489-2853d84246ee"
   },
   "outputs": [
    {
     "name": "stdout",
     "output_type": "stream",
     "text": [
      "[[4 2 6 2 4]\n",
      " [7 7 4 0 1]\n",
      " [6 6 6 3 3]\n",
      " [2 0 7 7 3]\n",
      " [5 7 4 9 7]]\n"
     ]
    }
   ],
   "source": [
    "A = np.random.randint(0, 10, [5, 5]) # tableau aléatoire\n",
    "print(A)"
   ]
  },
  {
   "cell_type": "code",
   "execution_count": 20,
   "metadata": {
    "colab": {
     "base_uri": "https://localhost:8080/",
     "height": 102
    },
    "colab_type": "code",
    "id": "2QQRptNH2CoJ",
    "outputId": "ca55206b-fdf7-412e-af1a-ffb6ae9658e2"
   },
   "outputs": [
    {
     "name": "stdout",
     "output_type": "stream",
     "text": [
      "[[1 3 0 4 2]\n",
      " [3 4 2 0 1]\n",
      " [3 4 0 1 2]\n",
      " [1 0 4 2 3]\n",
      " [2 0 1 4 3]]\n"
     ]
    }
   ],
   "source": [
    "print(A.argsort()) # retourne les index pour trier chaque ligne du tableau "
   ]
  },
  {
   "cell_type": "code",
   "execution_count": 21,
   "metadata": {
    "colab": {
     "base_uri": "https://localhost:8080/",
     "height": 34
    },
    "colab_type": "code",
    "id": "Th0JUW9F1z4O",
    "outputId": "789633ef-0cef-4a83-dbe1-12662c1f4165"
   },
   "outputs": [
    {
     "name": "stdout",
     "output_type": "stream",
     "text": [
      "[3 0 4 2 1]\n"
     ]
    }
   ],
   "source": [
    "print(A[:,0].argsort()) # retourne les index pour trier la colonne 0 de A"
   ]
  },
  {
   "cell_type": "code",
   "execution_count": 22,
   "metadata": {
    "colab": {
     "base_uri": "https://localhost:8080/",
     "height": 102
    },
    "colab_type": "code",
    "id": "7pbSRQAm2GBW",
    "outputId": "2c9c6496-089f-4822-c509-6ff81ebd5b77"
   },
   "outputs": [
    {
     "data": {
      "text/plain": [
       "array([[2, 0, 7, 7, 3],\n",
       "       [4, 2, 6, 2, 4],\n",
       "       [5, 7, 4, 9, 7],\n",
       "       [6, 6, 6, 3, 3],\n",
       "       [7, 7, 4, 0, 1]])"
      ]
     },
     "execution_count": 22,
     "metadata": {
      "tags": []
     },
     "output_type": "execute_result"
    }
   ],
   "source": [
    "A = A[A[:,0].argsort(), :] # trie les colonnes du tableau selon la colonne 0.\n",
    "A"
   ]
  },
  {
   "cell_type": "markdown",
   "metadata": {
    "colab_type": "text",
    "id": "NNIcngt72OHO"
   },
   "source": [
    "### Numpy Statistics\n"
   ]
  },
  {
   "cell_type": "code",
   "execution_count": null,
   "metadata": {
    "colab": {
     "base_uri": "https://localhost:8080/",
     "height": 68
    },
    "colab_type": "code",
    "id": "6JKPrFu52Gcj",
    "outputId": "914d328d-2e39-4d6e-86a5-93f7868c5115"
   },
   "outputs": [
    {
     "name": "stdout",
     "output_type": "stream",
     "text": [
      "[[ 1.         -0.63427277  0.99937797]\n",
      " [-0.63427277  1.         -0.66114251]\n",
      " [ 0.99937797 -0.66114251  1.        ]]\n"
     ]
    }
   ],
   "source": [
    "B = np.random.randn(3, 3) # nombres aléatoires 3x3\n",
    " \n",
    "# retourne la matrice de corrélation de B\n",
    "print(np.corrcoef(B))"
   ]
  },
  {
   "cell_type": "code",
   "execution_count": 24,
   "metadata": {
    "colab": {
     "base_uri": "https://localhost:8080/",
     "height": 51
    },
    "colab_type": "code",
    "id": "gqrA5qDh2RpN",
    "outputId": "6c490485-2626-447d-91e4-a22e901c865c"
   },
   "outputs": [
    {
     "name": "stdout",
     "output_type": "stream",
     "text": [
      "[[1.         0.81847981]\n",
      " [0.81847981 1.        ]]\n"
     ]
    }
   ],
   "source": [
    "# retourne la matrice de corrélation entre les lignes 0 et 1 de B\n",
    "print(np.corrcoef(B[:,0], B[:, 1]))"
   ]
  },
  {
   "cell_type": "markdown",
   "metadata": {
    "colab_type": "text",
    "id": "WHndpMUN5dqP"
   },
   "source": [
    "np.unique() :"
   ]
  },
  {
   "cell_type": "code",
   "execution_count": 4,
   "metadata": {
    "colab": {
     "base_uri": "https://localhost:8080/",
     "height": 102
    },
    "colab_type": "code",
    "id": "DU4Gx07Q5gVs",
    "outputId": "93ce7095-3cff-429d-d31c-a25221459283"
   },
   "outputs": [
    {
     "data": {
      "text/plain": [
       "array([[4, 0, 3, 3, 3],\n",
       "       [1, 3, 2, 4, 0],\n",
       "       [0, 4, 2, 1, 0],\n",
       "       [1, 1, 0, 1, 4],\n",
       "       [3, 0, 3, 0, 2]])"
      ]
     },
     "execution_count": 4,
     "metadata": {},
     "output_type": "execute_result"
    }
   ],
   "source": [
    "np.random.seed(0)\n",
    "A = np.random.randint(0, 5, [5,5])\n",
    "A"
   ]
  },
  {
   "cell_type": "code",
   "execution_count": 16,
   "metadata": {
    "colab": {
     "base_uri": "https://localhost:8080/",
     "height": 34
    },
    "colab_type": "code",
    "id": "GmkYmQUJ5qG8",
    "outputId": "81ffe749-55a1-434c-ec96-60fdf579f9ab"
   },
   "outputs": [
    {
     "data": {
      "text/plain": [
       "array([0, 1, 2, 3, 4])"
      ]
     },
     "execution_count": 16,
     "metadata": {},
     "output_type": "execute_result"
    }
   ],
   "source": [
    "np.unique(A)"
   ]
  },
  {
   "cell_type": "code",
   "execution_count": 5,
   "metadata": {
    "colab": {
     "base_uri": "https://localhost:8080/",
     "height": 187
    },
    "colab_type": "code",
    "id": "Ax4tl32b2YYJ",
    "outputId": "54fbaa2d-44d1-450e-e773-be9a30277235"
   },
   "outputs": [
    {
     "name": "stdout",
     "output_type": "stream",
     "text": [
      "[0 1 2 3 4] [7 5 3 6 4]\n",
      "valeur 2 apparait 3\n",
      "valeur 4 apparait 4\n",
      "valeur 1 apparait 5\n",
      "valeur 3 apparait 6\n",
      "valeur 0 apparait 7\n"
     ]
    }
   ],
   "source": [
    "values, counts = np.unique(A, return_counts=True)\n",
    "print(values, counts)\n",
    "for i, j in zip(values[counts.argsort()], counts[counts.argsort()]):\n",
    "    print(f'valeur {i} apparait {j}')"
   ]
  },
  {
   "cell_type": "markdown",
   "metadata": {
    "colab_type": "text",
    "id": "E9A4AEs96YLs"
   },
   "source": [
    "Calculs statistiques en présence de données manquates (NaN)"
   ]
  },
  {
   "cell_type": "code",
   "execution_count": 36,
   "metadata": {
    "colab": {
     "base_uri": "https://localhost:8080/",
     "height": 51
    },
    "colab_type": "code",
    "id": "AQGnQU3x6XrI",
    "outputId": "baec5b01-99fb-4f4c-df49-b1253a1f5a07"
   },
   "outputs": [
    {
     "name": "stdout",
     "output_type": "stream",
     "text": [
      "ratio NaN/zise: 0.04\n",
      "moyenne sans NaN: 0.1832816316588837\n"
     ]
    }
   ],
   "source": [
    "A = np.random.randn(5, 5)\n",
    "A[0, 2] = np.nan # insere un NaN dans la matrice A\n",
    " \n",
    "print('ratio NaN/zise:', (np.isnan(A).sum()/A.size)) # calcule la proportion de NaN dans A\n",
    " \n",
    "print('moyenne sans NaN:', np.nanmean(A)) # calcule la moyenne de A en ignorant les NaN"
   ]
  },
  {
   "cell_type": "markdown",
   "metadata": {
    "colab_type": "text",
    "id": "SqhHhU7E6PtE"
   },
   "source": [
    "### Algebre Linéaire"
   ]
  },
  {
   "cell_type": "code",
   "execution_count": 38,
   "metadata": {
    "colab": {
     "base_uri": "https://localhost:8080/",
     "height": 68
    },
    "colab_type": "code",
    "id": "NDl2nFYr2ZAb",
    "outputId": "3ef70159-d729-4a17-b551-faabfeadd73d"
   },
   "outputs": [
    {
     "name": "stdout",
     "output_type": "stream",
     "text": [
      "[[1. 1.]\n",
      " [1. 1.]\n",
      " [1. 1.]]\n"
     ]
    }
   ],
   "source": [
    "A = np.ones((2,3))\n",
    "B = np.ones((3,3))\n",
    "\n",
    "print(A.T) # transposé de la matrice A (c'est un attribut de ndarray)"
   ]
  },
  {
   "cell_type": "code",
   "execution_count": 39,
   "metadata": {
    "colab": {
     "base_uri": "https://localhost:8080/",
     "height": 51
    },
    "colab_type": "code",
    "id": "mRiT3DCd6HGR",
    "outputId": "eac920ee-2bb9-4d35-f2f7-7344bdee52c1"
   },
   "outputs": [
    {
     "name": "stdout",
     "output_type": "stream",
     "text": [
      "[[3. 3. 3.]\n",
      " [3. 3. 3.]]\n"
     ]
    }
   ],
   "source": [
    "print(A.dot(B)) # produit matriciel A.B"
   ]
  },
  {
   "cell_type": "code",
   "execution_count": 45,
   "metadata": {
    "colab": {
     "base_uri": "https://localhost:8080/",
     "height": 102
    },
    "colab_type": "code",
    "id": "qGIj8xxX7GwO",
    "outputId": "a15c309c-5525-4e18-887c-68d6d2613d50"
   },
   "outputs": [
    {
     "name": "stdout",
     "output_type": "stream",
     "text": [
      "det= 61.00000000000001\n",
      "inv A:\n",
      " [[ 0.08196721  0.63934426 -0.60655738]\n",
      " [-0.13114754 -0.62295082  0.7704918 ]\n",
      " [ 0.21311475  0.26229508 -0.37704918]]\n"
     ]
    }
   ],
   "source": [
    "A = np.random.randint(0, 10, [3, 3])\n",
    " \n",
    "print('det=', np.linalg.det(A)) # calcule le determinant de A\n",
    "print('inv A:\\n', np.linalg.inv(A)) # calcul l'inverse de A"
   ]
  },
  {
   "cell_type": "code",
   "execution_count": 44,
   "metadata": {
    "colab": {
     "base_uri": "https://localhost:8080/",
     "height": 119
    },
    "colab_type": "code",
    "id": "d5EXW7GU7KbI",
    "outputId": "57c52695-99ee-42cc-af95-0bb144d0c798"
   },
   "outputs": [
    {
     "name": "stdout",
     "output_type": "stream",
     "text": [
      "valeur propre:\n",
      " [ 8.91371956 -0.86320273  1.94948316]\n",
      "vecteur propre:\n",
      " [[-0.27183844 -0.6838339   0.39494311]\n",
      " [-0.4097407  -0.15279739 -0.73291062]\n",
      " [-0.87075623  0.71345929  0.55395123]]\n"
     ]
    }
   ],
   "source": [
    "val, vec = np.linalg.eig(A)\n",
    "print('valeur propre:\\n', val) # valeur propre\n",
    "print('vecteur propre:\\n', vec) # vecteur propre"
   ]
  },
  {
   "cell_type": "markdown",
   "metadata": {},
   "source": [
    "### Fonctions mathématiques"
   ]
  },
  {
   "cell_type": "code",
   "execution_count": 13,
   "metadata": {},
   "outputs": [
    {
     "name": "stdout",
     "output_type": "stream",
     "text": [
      "[2.71828183e+00 7.38905610e+00 2.00855369e+01 5.45981500e+01\n",
      " 1.48413159e+02 4.03428793e+02 1.09663316e+03 2.98095799e+03\n",
      " 8.10308393e+03 2.20264658e+04]\n",
      "[0.         0.69314718 1.09861229 1.38629436 1.60943791 1.79175947\n",
      " 1.94591015 2.07944154 2.19722458 2.30258509]\n",
      "[ 0.54030231 -0.41614684 -0.9899925  -0.65364362  0.28366219  0.96017029\n",
      "  0.75390225 -0.14550003 -0.91113026 -0.83907153]\n",
      "[ 0.84147098  0.90929743  0.14112001 -0.7568025  -0.95892427 -0.2794155\n",
      "  0.6569866   0.98935825  0.41211849 -0.54402111]\n"
     ]
    }
   ],
   "source": [
    "A = np.linspace(1,10,10)\n",
    "print(np.exp(A)) # calclule l'exponontielle pour tous les element d'un tableau\n",
    "print(np.log(A)) # calclule le logaritheme pour tous les element d'un tableau\n",
    "print(np.cos(A)) # calclule le cosinus pour tous les element d'un tableau\n",
    "print(np.sin(A)) # calclule le sinus pour tous les element d'un tableau"
   ]
  },
  {
   "cell_type": "markdown",
   "metadata": {},
   "source": [
    "## Exercices\n",
    "\n",
    "1. Array Creation and Manipulation:\n",
    "Create a NumPy array of shape (3, 4) filled with random integers between 1 and 10. Then, reshape it into a (2, 6) array.\n",
    "\n",
    "2. Array Concatenation:\n",
    "Create two NumPy arrays of the same shape (3, 3) filled with random numbers. Concatenate them vertically using vstack() and horizontally using hstack().\n",
    "\n",
    "3. Indexing and Slicing:\n",
    "Create a NumPy array of shape (5, 5) filled with sequential integers from 1 to 25. Use array indexing and slicing to extract the middle 3x3 subarray.\n",
    "\n",
    "4. Array Operations:\n",
    "Create a NumPy array of shape (4, 4) filled with random integers. Calculate the sum, mean, and standard deviation of the array's elements.\n",
    "\n",
    "5. Boolean Indexing:\n",
    "Create a NumPy array of random integers between 1 and 100. Use boolean indexing to extract all values greater than 50.\n",
    "\n",
    "\n",
    "6. Sur l'image ci dessous, effectuer un slicing pour ne garder que la moitié de l'image (en son centre) et remplacer tous les pixels > 150 par des "
   ]
  },
  {
   "cell_type": "code",
   "execution_count": null,
   "metadata": {},
   "outputs": [],
   "source": [
    "pixels = 255\n",
    "from scipy import misc\n",
    "import matplotlib.pyplot as plt\n",
    "face = misc.face(gray=True)\n",
    "plt.imshow(face, cmap=plt.cm.gray)\n",
    "plt.show()\n",
    "face.shape"
   ]
  },
  {
   "cell_type": "markdown",
   "metadata": {},
   "source": [
    "7. Standardisez la matrice suivante, c'est a dire effectuez le calcul suivant :\n",
    "$A = \\frac{A - mean(A_{colonne})}{std(A_{colonne})}$"
   ]
  },
  {
   "cell_type": "code",
   "execution_count": null,
   "metadata": {},
   "outputs": [],
   "source": [
    "np.random.seed(0)\n",
    "A = np.random.randint(0, 100, [10, 5])\n",
    "A"
   ]
  }
 ],
 "metadata": {
  "celltoolbar": "Raw Cell Format",
  "colab": {
   "authorship_tag": "ABX9TyOBDpBixGknnBtNmIz7Zvhf",
   "include_colab_link": true,
   "name": "Untitled7.ipynb",
   "provenance": []
  },
  "kernelspec": {
   "display_name": "base",
   "language": "python",
   "name": "python3"
  },
  "language_info": {
   "codemirror_mode": {
    "name": "ipython",
    "version": 3
   },
   "file_extension": ".py",
   "mimetype": "text/x-python",
   "name": "python",
   "nbconvert_exporter": "python",
   "pygments_lexer": "ipython3",
   "version": "3.8.5"
  },
  "vscode": {
   "interpreter": {
    "hash": "7b34b089ce0dfc9935940e0a22050b2949fa617f7a2b73925623c261bed16aeb"
   }
  }
 },
 "nbformat": 4,
 "nbformat_minor": 1
}
