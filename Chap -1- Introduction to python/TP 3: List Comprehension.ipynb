{
 "cells": [
  {
   "cell_type": "markdown",
   "metadata": {
    "colab_type": "text",
    "id": "GhAiPHEG5IUO"
   },
   "source": [
    "# TP 3: List Comprehension et fonctions intégrées\n",
    "## List Comprehension\n",
    "La compréhension de liste, souvent appelée \"list comprehension\" en anglais, est une manière concise et puissante de créer des listes en Python. Elle permet de générer rapidement une nouvelle liste en appliquant une expression à chaque élément d'une séquence (comme une liste, un tuple, ou une chaîne de caractères) ou en utilisant des conditions pour filtrer les éléments de la séquence d'origine. Voici une explication détaillée de la compréhension de liste :\n",
    "\n",
    "Syntaxe de base de la compréhension de liste :\n",
    "\n",
    "La syntaxe générale de la compréhension de liste est la suivante :\n",
    "\n",
    "\n",
    "```python \n",
    "nouvelle_liste = [expression for élément in séquence if condition]\n",
    "```\n",
    "\n",
    "- nouvelle_liste : C'est la nouvelle liste que vous allez créer.\n",
    "- expression : C'est une expression Python qui sera évaluée pour chaque élément de la séquence.\n",
    "- élément : C'est une variable temporaire qui prend la valeur de chaque élément de la séquence à chaque itération.\n",
    "- séquence : C'est la séquence d'origine (liste, tuple, chaîne de caractères, etc.) que vous parcourez.\n",
    "- condition (optionnelle) : C'est une condition qui filtre les éléments de la séquence. Seuls les éléments pour lesquels cette condition est vraie seront inclus dans la nouvelle liste.\n",
    "\n",
    "Exemple d'utilisation :\n",
    "\n",
    "Voici un exemple simple de compréhension de liste pour créer une liste des carrés des nombres de 0 à 9 :\n",
    "\n",
    "\n",
    "\n",
    "```python \n",
    "carres = [x**2 for x in range(10)]\n",
    "```\n",
    "\n",
    "Dans cet exemple, x prend la valeur de chaque nombre de 0 à 9, l'expression x**2 calcule le carré de chaque nombre, et la nouvelle liste carres contient les carrés des nombres.\n",
    "\n",
    "Utilisation de la condition :\n",
    "\n",
    "Vous pouvez également utiliser une condition pour filtrer les éléments de la séquence d'origine. Par exemple, pour créer une liste des nombres pairs entre 0 et 9 :\n",
    "\n",
    "\n",
    "\n",
    "```python\n",
    "nombres_pairs = [x for x in range(10) if x % 2 == 0]\n",
    "```\n",
    "\n",
    "Dans cet exemple, seuls les nombres pairs (ceux pour lesquels x % 2 == 0 est vrai) sont inclus dans la nouvelle liste nombres_pairs.\n",
    "\n",
    "Avantages de la compréhension de liste :\n",
    "\n",
    "- Concision : La compréhension de liste permet d'exprimer des opérations de création de liste de manière concise et lisible.\n",
    "\n",
    "- Performance : Elle est généralement plus rapide que l'utilisation de boucles for traditionnelles pour la création de listes.\n",
    "\n",
    "- Clarté : Elle améliore la lisibilité du code en évitant d'avoir à déclarer une liste vide et à ajouter des éléments un par un.\n",
    "\n",
    "Les deux code ci-dessous effectuent chacun la meme opération. On peut voir (grace a la commande %%time) que le temps d'execution avec liste comprehenion est bien inférieur au temps d'execution avec la méthode append() "
   ]
  },
  {
   "cell_type": "code",
   "execution_count": 5,
   "metadata": {
    "colab": {
     "base_uri": "https://localhost:8080/",
     "height": 51
    },
    "colab_type": "code",
    "id": "Lzgj8bJa3Z4E",
    "outputId": "13281391-08be-4407-e169-7ecc21e8e80a"
   },
   "outputs": [
    {
     "name": "stdout",
     "output_type": "stream",
     "text": [
      "CPU times: user 406 ms, sys: 22.3 ms, total: 428 ms\n",
      "Wall time: 526 ms\n"
     ]
    }
   ],
   "source": [
    "%%time\n",
    "liste = []\n",
    "for i in range(1000000):\n",
    "  liste.append(i**2)"
   ]
  },
  {
   "cell_type": "code",
   "execution_count": 6,
   "metadata": {
    "colab": {
     "base_uri": "https://localhost:8080/",
     "height": 51
    },
    "colab_type": "code",
    "id": "CIvxRMVe6vsw",
    "outputId": "ba0c4b1f-805a-45c7-f845-ceea90e48eda"
   },
   "outputs": [
    {
     "name": "stdout",
     "output_type": "stream",
     "text": [
      "CPU times: user 334 ms, sys: 27.7 ms, total: 361 ms\n",
      "Wall time: 427 ms\n"
     ]
    }
   ],
   "source": [
    "%%time\n",
    "liste = [i**2 for i in range(1000000)]"
   ]
  },
  {
   "cell_type": "code",
   "execution_count": 7,
   "metadata": {},
   "outputs": [
    {
     "name": "stdout",
     "output_type": "stream",
     "text": [
      "[[0, 4, 16, 36, 64], [0, 4, 16, 36, 64], [0, 4, 16, 36, 64]]\n"
     ]
    }
   ],
   "source": [
    "liste = [[i**2 for i in range(0,10,2)] for i in range(3)]\n",
    "print(liste)"
   ]
  },
  {
   "cell_type": "markdown",
   "metadata": {
    "colab_type": "text",
    "id": "fvZgGNE18t6Z"
   },
   "source": [
    "On peut rajouter des conditions **if** dans les listes comprehension, par exemple :"
   ]
  },
  {
   "cell_type": "code",
   "execution_count": 8,
   "metadata": {
    "colab": {
     "base_uri": "https://localhost:8080/",
     "height": 34
    },
    "colab_type": "code",
    "id": "KeCjT4gz7Dgm",
    "outputId": "71ef2147-1333-4a38-aedc-f9a5874f7e2b"
   },
   "outputs": [
    {
     "name": "stdout",
     "output_type": "stream",
     "text": [
      "[0, 4, 16, 36, 64, 100, 144, 196, 256, 324]\n"
     ]
    }
   ],
   "source": [
    "liste = [i**2 for i in range(100000) if (i % 2) == 0] # calcule i**2 seulement pour les nombres pairs.\n",
    "\n",
    "print(liste[:10]) #affiche les 10 premiers éléments de la liste"
   ]
  },
  {
   "cell_type": "code",
   "execution_count": 9,
   "metadata": {},
   "outputs": [
    {
     "name": "stdout",
     "output_type": "stream",
     "text": [
      "{'adel': 0, 'omar': 1, 'moktar': 2, 'ali': 3}\n",
      "dict_keys(['adel', 'omar', 'moktar', 'ali'])\n",
      "dict_values([0, 1, 2, 3])\n"
     ]
    }
   ],
   "source": [
    "names=['adel','omar','moktar','ali']\n",
    "dico1={name:idx for idx,name in enumerate(names)}\n",
    "print((dico1))\n",
    "print(dico1.keys())\n",
    "print(dico1.values())"
   ]
  },
  {
   "cell_type": "code",
   "execution_count": 10,
   "metadata": {},
   "outputs": [
    {
     "name": "stdout",
     "output_type": "stream",
     "text": [
      "{'adel': 30, 'omar': 23, 'moktar': 25, 'ali': 26}\n",
      "dict_keys(['adel', 'omar', 'moktar', 'ali'])\n",
      "dict_values([30, 23, 25, 26])\n"
     ]
    }
   ],
   "source": [
    "ages=[30,23,25,26]\n",
    "dico2={names:ages for names,ages in zip(names,ages)}\n",
    "print((dico2))\n",
    "print(dico2.keys())\n",
    "print(dico2.values())"
   ]
  },
  {
   "cell_type": "code",
   "execution_count": 16,
   "metadata": {},
   "outputs": [
    {
     "name": "stdout",
     "output_type": "stream",
     "text": [
      "{'omar': 23, 'moktar': 25, 'ali': 26}\n",
      "dict_keys(['omar', 'moktar', 'ali'])\n",
      "dict_values([23, 25, 26])\n"
     ]
    }
   ],
   "source": [
    "ages=[30,23,25,26]\n",
    "dico2={names:ages for names,ages in zip(names,ages) if ages< 30}\n",
    "print((dico2))\n",
    "print(dico2.keys())\n",
    "print(dico2.values())"
   ]
  },
  {
   "cell_type": "markdown",
   "metadata": {
    "colab_type": "text",
    "id": "VVszUmwz-bFM"
   },
   "source": [
    "## Built-in Functions\n",
    "Python contient un grand nombre de fonctions intégrées tres utiles a connaitre. Cela vous permet de construire des codes plus rapidement, sans avoir a développer vos propres fonctions pour les taches les plus basique. Dans ce notebook, je vous montre les plus importantes :\n",
    "\n",
    "\n"
   ]
  },
  {
   "cell_type": "markdown",
   "metadata": {
    "colab_type": "text",
    "id": "i_Gg60cR_oFB"
   },
   "source": [
    "### Fonction de bases\n",
    "Utiles en toute circonstance !"
   ]
  },
  {
   "cell_type": "code",
   "execution_count": 2,
   "metadata": {
    "colab": {
     "base_uri": "https://localhost:8080/",
     "height": 51
    },
    "colab_type": "code",
    "id": "EAfp-li6-ZSD",
    "outputId": "c6a56073-a7b7-40b9-cdeb-114e9a607ce1"
   },
   "outputs": [
    {
     "name": "stdout",
     "output_type": "stream",
     "text": [
      "3.141592653589793\n",
      "3.14159265\n"
     ]
    }
   ],
   "source": [
    "import numpy as np\n",
    "x = np.pi\n",
    "print(abs(x)) # valeur absolue\n",
    "print(round(x,8)) # arrondi"
   ]
  },
  {
   "cell_type": "code",
   "execution_count": 3,
   "metadata": {
    "colab": {
     "base_uri": "https://localhost:8080/",
     "height": 85
    },
    "colab_type": "code",
    "id": "YnTEUj20_3Wq",
    "outputId": "349fb051-30e0-4366-8411-2e994071c9bb"
   },
   "outputs": [
    {
     "name": "stdout",
     "output_type": "stream",
     "text": [
      "-4\n",
      "3\n",
      "5\n",
      "-2\n"
     ]
    }
   ],
   "source": [
    "liste = [-2, 3, 1, 0, -4]\n",
    "\n",
    "print(min(liste)) # minimum\n",
    "print(max(liste)) # maximum\n",
    "print(len(liste)) # longueur\n",
    "print(sum(liste)) # somme des éléments"
   ]
  },
  {
   "cell_type": "code",
   "execution_count": 4,
   "metadata": {
    "colab": {
     "base_uri": "https://localhost:8080/",
     "height": 51
    },
    "colab_type": "code",
    "id": "c3I6FPVkANmN",
    "outputId": "a155cc37-193e-458c-b8af-132bb972ed4b"
   },
   "outputs": [
    {
     "name": "stdout",
     "output_type": "stream",
     "text": [
      "True\n",
      "False\n"
     ]
    }
   ],
   "source": [
    "liste = [False, False, True]\n",
    "\n",
    "print(any(liste)) # y-a-t'il au moins un élément True ?\n",
    "print(all(liste)) # est-ce-que tous les éléments sont True ?"
   ]
  },
  {
   "cell_type": "markdown",
   "metadata": {
    "colab_type": "text",
    "id": "2CKqQf0YAuvN"
   },
   "source": [
    "### Fonction de conversion\n",
    "Il peut etre tres utile de convertir une variable d'un type a un autre (par exemple pour faire des calculs). Pour cela, on dispose des fonctions int(), str() et float().\n",
    "\n",
    "La fonction **type()** est tres utile pour inspecter les types de nos variables"
   ]
  },
  {
   "cell_type": "code",
   "execution_count": 5,
   "metadata": {
    "colab": {
     "base_uri": "https://localhost:8080/",
     "height": 34
    },
    "colab_type": "code",
    "id": "-_P3CGAvAatE",
    "outputId": "b7d86d2a-ac56-4165-80cd-4c98e19f6d04"
   },
   "outputs": [
    {
     "data": {
      "text/plain": [
       "str"
      ]
     },
     "execution_count": 5,
     "metadata": {},
     "output_type": "execute_result"
    }
   ],
   "source": [
    "age = '32'\n",
    "type(age)"
   ]
  },
  {
   "cell_type": "code",
   "execution_count": 6,
   "metadata": {
    "colab": {
     "base_uri": "https://localhost:8080/",
     "height": 34
    },
    "colab_type": "code",
    "id": "9QkhdpCEBK0W",
    "outputId": "f0a8a95c-d0cb-4551-9f08-a4021a68ed93"
   },
   "outputs": [
    {
     "data": {
      "text/plain": [
       "int"
      ]
     },
     "execution_count": 6,
     "metadata": {},
     "output_type": "execute_result"
    }
   ],
   "source": [
    "age = int(age)\n",
    "type(age)"
   ]
  },
  {
   "cell_type": "code",
   "execution_count": 7,
   "metadata": {
    "colab": {
     "base_uri": "https://localhost:8080/",
     "height": 34
    },
    "colab_type": "code",
    "id": "5DDHy7qBBT9l",
    "outputId": "cef6fe90-15f3-40ad-9239-e742c56db63c"
   },
   "outputs": [
    {
     "data": {
      "text/plain": [
       "42"
      ]
     },
     "execution_count": 7,
     "metadata": {},
     "output_type": "execute_result"
    }
   ],
   "source": [
    "age + 10"
   ]
  },
  {
   "cell_type": "code",
   "execution_count": 8,
   "metadata": {},
   "outputs": [
    {
     "data": {
      "text/plain": [
       "float"
      ]
     },
     "execution_count": 8,
     "metadata": {},
     "output_type": "execute_result"
    }
   ],
   "source": [
    "float(x)\n",
    "type(x)"
   ]
  },
  {
   "cell_type": "markdown",
   "metadata": {
    "colab_type": "text",
    "id": "MYxly1nnBhxL"
   },
   "source": [
    "On peut également convertir des listes en tuples, ou des tableaux Numpy (que l'on verra par la suite) en liste..."
   ]
  },
  {
   "cell_type": "code",
   "execution_count": 9,
   "metadata": {
    "colab": {
     "base_uri": "https://localhost:8080/",
     "height": 34
    },
    "colab_type": "code",
    "id": "sl7n5xP8BWCW",
    "outputId": "b0e48c93-f717-427e-be8c-83864da48fdd"
   },
   "outputs": [
    {
     "name": "stdout",
     "output_type": "stream",
     "text": [
      "[1, 2, 3, 4]\n"
     ]
    },
    {
     "data": {
      "text/plain": [
       "list"
      ]
     },
     "execution_count": 9,
     "metadata": {},
     "output_type": "execute_result"
    }
   ],
   "source": [
    "tuple_1 = (1, 2, 3, 4)\n",
    "\n",
    "liste_1 = list(tuple_1) # convertir un tuple en liste\n",
    "print(liste_1)\n",
    "type(liste_1)"
   ]
  },
  {
   "cell_type": "code",
   "execution_count": 10,
   "metadata": {},
   "outputs": [
    {
     "name": "stdout",
     "output_type": "stream",
     "text": [
      "0b1111 0b100000\n",
      "0o17 0o40\n",
      "0xf 0x20\n"
     ]
    }
   ],
   "source": [
    "print(bin(15),bin(32))\n",
    "print(oct(15),oct(32))\n",
    "print(hex(15),hex(32))"
   ]
  },
  {
   "cell_type": "markdown",
   "metadata": {
    "colab_type": "text",
    "id": "orx_mdrPCCqx"
   },
   "source": [
    "### La fonction **input()**\n",
    "La fonction input() en Python est une fonction intégrée qui permet à un programme d'obtenir des données en entrée depuis l'utilisateur via le clavier. Elle est principalement utilisée pour interagir avec l'utilisateur en demandant des informations ou des réponses à des questions. Voici une brève explication de la fonction input() :\n",
    "\n",
    "- Lorsque la fonction input() est appelée, elle affiche un message d'invite (généralement une chaîne de caractères) à l'utilisateur, qui apparaît dans la console.\n",
    "- L'utilisateur peut alors saisir des données depuis le clavier, suivi de la touche \"Entrée\".\n",
    "- La fonction input() attend que l'utilisateur entre des données et retourne une chaîne de caractères (string) contenant les données saisies.\n",
    "L'application de la fonction input() est très utile pour créer des programmes interactifs, des questionnaires, des formulaires de saisie, etc.\n",
    "- Il est important de noter que la fonction input() renvoie toujours une chaîne de caractères (string). Si vous avez besoin de manipuler des données numériques, vous devrez les convertir en types de données appropriés, tels que des entiers ou des nombres à virgule flottante, à l'aide des fonctions de conversion telles que int() ou float()."
   ]
  },
  {
   "cell_type": "code",
   "execution_count": 12,
   "metadata": {
    "colab": {
     "base_uri": "https://localhost:8080/",
     "height": 34
    },
    "colab_type": "code",
    "id": "VRzdH0oeB3w8",
    "outputId": "4535b183-4540-477d-c649-e0446c75d2a8"
   },
   "outputs": [
    {
     "name": "stdout",
     "output_type": "stream",
     "text": [
      "quel age avez-vous ?30 ans\n"
     ]
    }
   ],
   "source": [
    "age = input('quel age avez-vous ?')"
   ]
  },
  {
   "cell_type": "code",
   "execution_count": 14,
   "metadata": {
    "colab": {
     "base_uri": "https://localhost:8080/",
     "height": 34
    },
    "colab_type": "code",
    "id": "mR0irKo7CXFj",
    "outputId": "2df066f9-12a1-4ba5-dc82-05cc376598f2"
   },
   "outputs": [
    {
     "data": {
      "text/plain": [
       "str"
      ]
     },
     "execution_count": 14,
     "metadata": {
      "tags": []
     },
     "output_type": "execute_result"
    }
   ],
   "source": [
    "type(age) # age est de type string. il faut penser a le convertir si on désire faire un calcul avec"
   ]
  },
  {
   "cell_type": "markdown",
   "metadata": {
    "colab_type": "text",
    "id": "ClGnpncTCpSh"
   },
   "source": [
    "### La fonction **format()**\n",
    "En Python, la méthode format() est utilisée pour formater des chaînes de caractères en y insérant des valeurs ou des variables dans des emplacements spécifiés, appelés \"emplacements de remplacement\" ou \"placeholders\". Elle permet de créer des chaînes de caractères dynamiques en insérant des valeurs dans des positions prédéfinies. Voici une explication en français :\n",
    "\n",
    "- La méthode format() est appelée sur une chaîne de caractères (la chaîne de format) et accepte un ou plusieurs arguments qui seront insérés dans la chaîne aux emplacements spécifiés.\n",
    "- Les emplacements de remplacement sont indiqués par des accolades {} dans la chaîne de format. Par exemple, \"Bonjour, {} !\" est une chaîne de format avec un emplacement de remplacement.\n",
    "- Vous pouvez spécifier l'ordre dans lequel les valeurs seront insérées en utilisant des indices numériques à l'intérieur des accolades. Par exemple, \"{} {} {}\" utilisera les trois premiers arguments dans cet ordre.\n",
    "- Vous pouvez également nommer les emplacements de remplacement pour une utilisation plus explicite. Par exemple, \"Bonjour, {prenom} !\" utilise un emplacement nommé {prenom}.\n",
    "- Les valeurs à insérer sont passées comme arguments à la méthode format(), soit dans l'ordre, soit en utilisant des noms de paramètres si des emplacements nommés sont utilisés.\n",
    "- La méthode format() effectue automatiquement la conversion de types, ce qui signifie que vous pouvez insérer des valeurs de différents types (entiers, nombres à virgule flottante, chaînes de caractères, etc.) dans la chaîne de format."
   ]
  },
  {
   "cell_type": "code",
   "execution_count": 15,
   "metadata": {
    "colab": {
     "base_uri": "https://localhost:8080/",
     "height": 34
    },
    "colab_type": "code",
    "id": "YNo1gncmCZjb",
    "outputId": "e4e51b60-5b8d-422b-a1c8-2d26fa34f4e0"
   },
   "outputs": [
    {
     "name": "stdout",
     "output_type": "stream",
     "text": [
      "il faut 25 degrés a Paris\n"
     ]
    }
   ],
   "source": [
    "x = 25\n",
    "ville = 'Paris'\n",
    "\n",
    "message = 'il fait {} degrés a {}'.format(x, ville)\n",
    "print(message)"
   ]
  },
  {
   "cell_type": "code",
   "execution_count": 17,
   "metadata": {
    "colab": {
     "base_uri": "https://localhost:8080/",
     "height": 34
    },
    "colab_type": "code",
    "id": "h3xtfGoHDCmu",
    "outputId": "45d10f11-4183-4daa-852c-3b86dac38002"
   },
   "outputs": [
    {
     "name": "stdout",
     "output_type": "stream",
     "text": [
      "il fait 25 degrées a Paris\n"
     ]
    }
   ],
   "source": [
    "message = f'il fait {x} degrées a {ville}'\n",
    "print(message)"
   ]
  },
  {
   "cell_type": "markdown",
   "metadata": {},
   "source": [
    "oici quelques astuces et techniques que vous pouvez utiliser avec la méthode format() en Python pour formater vos chaînes de caractères de manière plus efficace et lisible :\n",
    "\n",
    "- Alignement du texte :\n",
    "    Vous pouvez spécifier l'alignement du texte à l'intérieur de l'emplacement de remplacement en utilisant les caractères <, >, ou ^. Par exemple : \"{:>10}\".format(\"texte\") alignera le texte à droite sur une largeur de 10 caractères.\n"
   ]
  },
  {
   "cell_type": "code",
   "execution_count": 10,
   "metadata": {},
   "outputs": [
    {
     "name": "stdout",
     "output_type": "stream",
     "text": [
      "-         banana\n",
      "-         grapes\n",
      "-   strawberries\n",
      "-           pear\n",
      "-          peach\n"
     ]
    }
   ],
   "source": [
    "fruits=['banana','grapes','strawberries','pear','peach']\n",
    "for fruit in fruits:\n",
    "    print(\"-{:>15}\".format(fruit))"
   ]
  },
  {
   "cell_type": "markdown",
   "metadata": {},
   "source": [
    "\n",
    "- Remplacement conditionnel :\n",
    "    Vous pouvez conditionnellement choisir quelle valeur insérer en fonction d'une condition. Par exemple : \"Bonjour, {} !\".format(nom if condition else \"Cher utilisateur\").\n"
   ]
  },
  {
   "cell_type": "code",
   "execution_count": 12,
   "metadata": {},
   "outputs": [
    {
     "name": "stdout",
     "output_type": "stream",
     "text": [
      "Bonjour, Omar !\n",
      "Bonjour, Cher utilisateur !\n"
     ]
    }
   ],
   "source": [
    "a=3\n",
    "condition=True\n",
    "nom='Omar'\n",
    "print(\"Bonjour, {} !\".format(nom if condition else \"Cher utilisateur\"))\n",
    "\n",
    "condition=False\n",
    "\n",
    "print(\"Bonjour, {} !\".format(nom if condition else \"Cher utilisateur\"))"
   ]
  },
  {
   "cell_type": "markdown",
   "metadata": {},
   "source": [
    "\n",
    "Répétition d'un motif :\n",
    "    Vous pouvez répéter un motif dans un emplacement de remplacement. Par exemple : \"-\" * 20 crée une chaîne composée de 20 tirets.\n"
   ]
  },
  {
   "cell_type": "code",
   "execution_count": 15,
   "metadata": {},
   "outputs": [
    {
     "data": {
      "text/plain": [
       "('--------------------', '********************')"
      ]
     },
     "execution_count": 15,
     "metadata": {},
     "output_type": "execute_result"
    }
   ],
   "source": [
    "\"-\"*20,\"*\"*20"
   ]
  },
  {
   "cell_type": "markdown",
   "metadata": {
    "colab_type": "text",
    "id": "PWFMzobFDkfP"
   },
   "source": [
    "### La fonction **open()**\n",
    "Cette fonction est l'une des plus utile de Python. Elle permet d'ouvrir n'importe quel fichier de votre ordinateur et de l'utiliser dans Python. Différents modes existent :\n",
    "- le mode 'r' : lire un fichier de votre ordinateur\n",
    "- le mode 'w' : écrire un fichier sur votre ordinateur\n",
    "- le mode 'a' : (append) ajouter du contenu dans un fichier existant"
   ]
  },
  {
   "cell_type": "code",
   "execution_count": 5,
   "metadata": {
    "colab": {},
    "colab_type": "code",
    "id": "ovu_J5rhDS0-"
   },
   "outputs": [],
   "source": [
    "f = open('./assets/text.txt', 'w') # ouverture d'un objet fichier f\n",
    "f.write('hello')\n",
    "f.close() # il faut fermer notre fichier une fois le travail terminé"
   ]
  },
  {
   "cell_type": "code",
   "execution_count": 6,
   "metadata": {
    "colab": {
     "base_uri": "https://localhost:8080/",
     "height": 34
    },
    "colab_type": "code",
    "id": "3GjqncN3NvO8",
    "outputId": "c94ca820-e42b-47d4-8840-425110ad62ef"
   },
   "outputs": [
    {
     "name": "stdout",
     "output_type": "stream",
     "text": [
      "hello\n"
     ]
    }
   ],
   "source": [
    "f = open('./assets/text.txt', 'r')\n",
    "print(f.read())\n",
    "f.close() "
   ]
  },
  {
   "cell_type": "markdown",
   "metadata": {
    "colab_type": "text",
    "id": "tjuY60QsN3Ax"
   },
   "source": [
    "Dans la pratique, on écrit plus souvent **with open() as f** pour ne pas avoir a fermer le fichier une fois le travail effectué :"
   ]
  },
  {
   "cell_type": "code",
   "execution_count": 7,
   "metadata": {
    "colab": {
     "base_uri": "https://localhost:8080/",
     "height": 34
    },
    "colab_type": "code",
    "id": "8NeneA9zNy6N",
    "outputId": "74c9c575-68f2-4250-82b5-eca1c73669ee"
   },
   "outputs": [
    {
     "name": "stdout",
     "output_type": "stream",
     "text": [
      "hello\n"
     ]
    }
   ],
   "source": [
    "with open('./assets/text.txt', 'r') as f:\n",
    "    print(f.read())"
   ]
  },
  {
   "cell_type": "markdown",
   "metadata": {
    "colab_type": "text",
    "id": "4W96D02DOVmC"
   },
   "source": [
    "## Exercice \n",
    "1. Le code ci-dessous permet de créer un fichier qui contient les nombres carrée de 0 jusqu'a 19.\n",
    "L'exercice est d'implémenter un code qui permet de lire ce fichier et d'écrire chaque ligne dans une liste.\n",
    "\n",
    "Note_1 : la fonction **read().splitlines()** sera tres utile\n",
    "\n",
    "Note_2 : Pour un meilleur résultat, essayer d'utiliser une liste comprehension !"
   ]
  },
  {
   "cell_type": "code",
   "execution_count": 8,
   "metadata": {
    "colab": {},
    "colab_type": "code",
    "id": "5NOsB5k5OAlC"
   },
   "outputs": [],
   "source": [
    "# Ce bout de code permet d'écrire le fichier \n",
    "with open('./assets/fichier.txt', 'w') as f:\n",
    "    for i in range(0, 20):\n",
    "        f.write(f'{i}: {i**2} \\n')\n",
    "    f.close()\n",
    "\n",
    "# Écrivez ici le code pour lire le fichier et enregistrer chaque lignes dans une liste."
   ]
  }
 ],
 "metadata": {
  "colab": {
   "authorship_tag": "ABX9TyO7juhPo5Ghi3/QHXMS+UvK",
   "include_colab_link": true,
   "name": "Untitled3.ipynb",
   "provenance": []
  },
  "kernelspec": {
   "display_name": "base",
   "language": "python",
   "name": "python3"
  },
  "language_info": {
   "codemirror_mode": {
    "name": "ipython",
    "version": 3
   },
   "file_extension": ".py",
   "mimetype": "text/x-python",
   "name": "python",
   "nbconvert_exporter": "python",
   "pygments_lexer": "ipython3",
   "version": "3.8.5"
  },
  "vscode": {
   "interpreter": {
    "hash": "7b34b089ce0dfc9935940e0a22050b2949fa617f7a2b73925623c261bed16aeb"
   }
  }
 },
 "nbformat": 4,
 "nbformat_minor": 1
}
