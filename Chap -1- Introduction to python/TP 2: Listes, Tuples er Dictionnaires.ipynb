{
 "cells": [
  {
   "cell_type": "markdown",
   "metadata": {
    "colab_type": "text",
    "id": "zZAigZmjo-Eu"
   },
   "source": [
    "# Structure de données (Listes et Tuples)\n",
    "\n",
    "En Python, les listes et les tuples sont deux structures de données fondamentales qui permettent de stocker et de gérer des collections d'éléments. Bien qu'ils partagent certaines similitudes, ils présentent des différences essentielles en termes de mutabilité, d'utilisation et de syntaxe. Voici une introduction aux listes et aux tuples en Python :\n",
    "\n",
    "- Listes en Python :\n",
    "\n",
    "    Une liste est une collection ordonnée et mutable d'éléments.\n",
    "    Les éléments d'une liste sont séparés par des virgules et sont entourés de crochets [].\n",
    "    Les listes peuvent contenir des éléments de différents types (nombres, chaînes de caractères, autres listes, objets, etc.).\n",
    "    Les listes peuvent être modifiées après leur création, ce qui signifie que vous pouvez ajouter, supprimer ou modifier des éléments.\n",
    "    Pour accéder à un élément d'une liste, utilisez son index (l'indice), en commençant par 0 pour le premier élément.\n",
    "    Exemple : ma_liste = [1, 2, 3, 'quatre', 'cinq']\n",
    "\n",
    "- Tuples en Python :\n",
    "\n",
    "    Un tuple est une collection ordonnée et immuable d'éléments.\n",
    "    Les éléments d'un tuple sont séparés par des virgules et sont entourés de parenthèses ().\n",
    "    Les tuples peuvent également contenir des éléments de différents types.\n",
    "    Contrairement aux listes, les tuples ne peuvent pas être modifiés après leur création. Ils sont immuables.\n",
    "    Pour accéder à un élément d'un tuple, utilisez son index de la même manière qu'avec les listes.\n",
    "    Exemple : mon_tuple = (1, 2, 3, 'quatre', 'cinq')\n",
    "\n",
    "- Utilisation Courante :\n",
    "\n",
    "    Les listes sont couramment utilisées pour stocker des collections d'éléments lorsque vous avez besoin de modifier ces éléments au fil du temps. Par exemple, une liste peut représenter une liste de tâches à faire, des éléments dans un panier d'achat, etc.\n",
    "    Les tuples sont souvent utilisés lorsque vous voulez vous assurer que les données restent constantes et ne doivent pas être modifiées accidentellement. Par exemple, les coordonnées géographiques d'un lieu, les dimensions d'un objet, etc.-"
   ]
  },
  {
   "cell_type": "markdown",
   "metadata": {
    "colab_type": "text",
    "id": "GYmh0u3Gp2vR"
   },
   "source": [
    "##  Création de Listes et de Tuples\n",
    "une liste ou un tuple peuvent contenir tout types de valeurs (int, float, bool, string). On dit que ce sont des structures hétérogenes.\n",
    "\n",
    "La différence entre les 2 est qu'une liste est **mutable** alors qu'un Tuple ne l'est pas (on ne peut pas le changer apres qu'il soit crée)"
   ]
  },
  {
   "cell_type": "code",
   "execution_count": 1,
   "metadata": {
    "colab": {},
    "colab_type": "code",
    "id": "lMrHIDBro9Ul"
   },
   "outputs": [],
   "source": [
    "# Listes\n",
    "liste_1 = [1, 4, 2, 7, 35, 84]\n",
    "villes = ['Paris', 'Berlin', 'Londres', 'Bruxelles']\n",
    "nested_list = [liste_1, villes] # une liste peut meme contenir des listes ! On appelle cela une nested list\n",
    "\n",
    "#Tuples\n",
    "tuple_1 = (1, 2, 6, 2)"
   ]
  },
  {
   "cell_type": "code",
   "execution_count": 2,
   "metadata": {
    "colab": {
     "base_uri": "https://localhost:8080/",
     "height": 34
    },
    "colab_type": "code",
    "id": "6fmme6vsq9mp",
    "outputId": "9eb5c9e1-ecef-4560-8e22-318e683a3d9d"
   },
   "outputs": [
    {
     "name": "stdout",
     "output_type": "stream",
     "text": [
      "['Paris', 'Berlin', 'Londres', 'Bruxelles']\n"
     ]
    }
   ],
   "source": [
    "print(villes)"
   ]
  },
  {
   "cell_type": "markdown",
   "metadata": {
    "colab_type": "text",
    "id": "if5Og4U5rFJT"
   },
   "source": [
    "## Indexing et Slicing\n",
    "Indexing :\n",
    "\n",
    "En Python, l'indexing fait référence à l'accès à un élément spécifique dans une séquence (comme une liste, une chaîne de caractères ou un tuple) en utilisant un numéro d'index. L'index est un entier qui identifie la position de l'élément dans la séquence. Voici quelques points importants concernant l'indexing :\n",
    "\n",
    "- L'indexing commence généralement à 0 pour le premier élément de la séquence. Par exemple, 0 est l'index du premier élément, 1 est l'index du deuxième élément, et ainsi de suite.\n",
    "- Vous pouvez également utiliser des indices négatifs pour compter à partir de la fin de la séquence. \n",
    "        Par exemple, \n",
    "        - 1 représente le dernier élément, \n",
    "        - 2 le deuxième élément en partant de la fin, et ainsi de suite.\n",
    "- Pour accéder à un élément spécifique, utilisez la notation [indice] après le nom de la séquence. Par exemple, ma_liste[0] accède au premier élément d'une liste.\n",
    "- Si l'indice spécifié est en dehors de la plage valide, une erreur \"IndexError\" sera levée.\n",
    "\n",
    "Slicing :\n",
    "\n",
    "Le slicing en Python consiste à extraire une partie d'une séquence en spécifiant une plage d'indices. Il vous permet de créer une nouvelle séquence à partir d'une partie de la séquence d'origine. Voici comment fonctionne le slicing :\n",
    "\n",
    "- Utilisez la notation [début:fin] après le nom de la séquence pour spécifier la plage d'indices que vous souhaitez extraire.\n",
    "- Le slicing inclut l'élément au niveau de l'index de début, mais exclut l'élément au niveau de l'index de fin. Cela signifie que ma_liste[1:4] extrait les éléments à l'indice 1, 2 et 3, mais pas l'élément à l'indice 4.\n",
    "- Si vous omettez l'indice de début, le slicing commencera à partir du premier élément. Si vous omettez l'indice de fin, le slicing ira jusqu'au dernier élément inclus.\n",
    "- Vous pouvez également spécifier un pas en ajoutant un troisième paramètre [début:fin:pas]. Par exemple, ma_liste[0:5:2] extraira les éléments aux indices 0, 2 et 4.\n",
    "- Le slicing fonctionne de la même manière pour les chaînes de caractères et les tuples."
   ]
  },
  {
   "cell_type": "code",
   "execution_count": 7,
   "metadata": {
    "colab": {
     "base_uri": "https://localhost:8080/",
     "height": 85
    },
    "colab_type": "code",
    "id": "J1EuMMrSq_X2",
    "outputId": "a642c0a2-9906-4478-f0e1-3c766f32dbd8"
   },
   "outputs": [
    {
     "name": "stdout",
     "output_type": "stream",
     "text": [
      "séquence complete: ['Paris', 'Berlin', 'Londres', 'Bruxelles']\n",
      "index 0: Paris\n",
      "index 1: Berlin\n",
      "dernier index (-1): Bruxelles\n"
     ]
    }
   ],
   "source": [
    "# INDEXING\n",
    "\n",
    "print('séquence complete:', villes)\n",
    "print('index 0:', villes[0])\n",
    "print('index 1:', villes[1])\n",
    "print('dernier index (-1):', villes[-1])"
   ]
  },
  {
   "cell_type": "code",
   "execution_count": 9,
   "metadata": {
    "colab": {
     "base_uri": "https://localhost:8080/",
     "height": 85
    },
    "colab_type": "code",
    "id": "8rmbVqLNsHIy",
    "outputId": "39855646-5c98-4c97-cac4-fec5c2b9428d"
   },
   "outputs": [
    {
     "name": "stdout",
     "output_type": "stream",
     "text": [
      "séquence complete: ['Paris', 'Berlin', 'Londres', 'Bruxelles']\n",
      "index 0-2: ['Paris', 'Berlin', 'Londres']\n",
      "index 1-2: ['Berlin', 'Londres']\n",
      "ordre inverse: ['Bruxelles', 'Londres', 'Berlin', 'Paris']\n"
     ]
    }
   ],
   "source": [
    "# SLICING [début (inclus) : fin (exclus) : pas]\n",
    "\n",
    "print('séquence complete:', villes)\n",
    "print('index 0-2:', villes[0:3])\n",
    "print('index 1-2:', villes[1:3])\n",
    "print('ordre inverse:', villes[::-1])"
   ]
  },
  {
   "cell_type": "markdown",
   "metadata": {
    "colab_type": "text",
    "id": "9i0rLn2TtUwd"
   },
   "source": [
    "## Actions utiles sur les listes\n",
    "\n",
    "- append(element):\n",
    "append is a list method that adds a specified element to the end of the list.\n",
    "It is commonly used when you want to add a single element to the existing list.\n",
    "\n",
    "- insert(index, element):\n",
    "insert is a list method that allows you to insert an element at a specific index (position) within the list.\n",
    "You provide both the index where you want to insert the element and the element itself.\n",
    "\n",
    "- extend(iterable):\n",
    "extend is a list method used to add multiple elements to the end of an existing list.\n",
    "It takes an iterable (such as a list, tuple, or string) as an argument and appends all its elements to the end of the list.\n",
    "\n",
    "- sort(reverse=False):\n",
    "sort is a list method that arranges the elements of the list in a specific order.\n",
    "By default, it sorts the list in ascending order (from lowest to highest). You can also use reverse=True to sort in descending order.\n",
    "\n",
    "- count(element):\n",
    "count is a list method that counts the number of occurrences of a specific element in the list.\n",
    "It is useful when you want to determine how many times a particular value appears in the list."
   ]
  },
  {
   "cell_type": "code",
   "execution_count": 3,
   "metadata": {
    "colab": {
     "base_uri": "https://localhost:8080/",
     "height": 136
    },
    "colab_type": "code",
    "id": "8zJbTtPytH3G",
    "outputId": "4ef03019-4ace-4717-e729-197d308a2bd8"
   },
   "outputs": [
    {
     "name": "stdout",
     "output_type": "stream",
     "text": [
      "['Paris', 'Berlin', 'Londres', 'Bruxelles']\n",
      "['Paris', 'Berlin', 'Londres', 'Bruxelles', 'Dublin']\n",
      "['Paris', 'Berlin', 'Madrid', 'Londres', 'Bruxelles', 'Dublin']\n",
      "['Paris', 'Berlin', 'Madrid', 'Londres', 'Bruxelles', 'Dublin', 'Amsterdam', 'Rome']\n",
      "longeur de la liste: 8\n",
      "['Amsterdam', 'Berlin', 'Bruxelles', 'Dublin', 'Londres', 'Madrid', 'Paris', 'Rome']\n",
      "1\n"
     ]
    }
   ],
   "source": [
    "villes = ['Paris', 'Berlin', 'Londres', 'Bruxelles'] # liste initiale\n",
    "print(villes)\n",
    "\n",
    "villes.append('Dublin') # Rajoute un élément a la fin de la liste\n",
    "print(villes)\n",
    "\n",
    "villes.insert(2, 'Madrid') # Rajoute un élément a l'index indiqué\n",
    "print(villes)\n",
    "\n",
    "villes.extend(['Amsterdam', 'Rome']) # Rajoute une liste a la fin de notre liste\n",
    "print(villes)\n",
    "\n",
    "print('longeur de la liste:', len(villes)) #affiche la longueur de la liste\n",
    "\n",
    "villes.sort(reverse=False) # trie la liste par ordre alphabétique / numérique\n",
    "print(villes)\n",
    "\n",
    "print(villes.count('Paris')) # compte le nombre de fois qu'un élément apparait dans la liste"
   ]
  },
  {
   "cell_type": "markdown",
   "metadata": {
    "colab_type": "text",
    "id": "mUhBRJwqvg1p"
   },
   "source": [
    "Les listes et les tuples fonctionnent en harmonies avec les structures de controle **if/else** et **For**"
   ]
  },
  {
   "cell_type": "code",
   "execution_count": 23,
   "metadata": {
    "colab": {
     "base_uri": "https://localhost:8080/",
     "height": 34
    },
    "colab_type": "code",
    "id": "XjHrv7HjuFCE",
    "outputId": "117ddbc4-cfa8-4de5-bdc2-6e8417604a5c"
   },
   "outputs": [
    {
     "name": "stdout",
     "output_type": "stream",
     "text": [
      "oui\n"
     ]
    }
   ],
   "source": [
    "if 'Paris' in villes:\n",
    "  print('oui')\n",
    "else:\n",
    "  print('non')"
   ]
  },
  {
   "cell_type": "code",
   "execution_count": 24,
   "metadata": {
    "colab": {
     "base_uri": "https://localhost:8080/",
     "height": 153
    },
    "colab_type": "code",
    "id": "HHSiF8g5vyEh",
    "outputId": "34f919cf-1d0e-43cb-9bc4-19281d9d8872"
   },
   "outputs": [
    {
     "name": "stdout",
     "output_type": "stream",
     "text": [
      "Amsterdam\n",
      "Berlin\n",
      "Bruxelles\n",
      "Dublin\n",
      "Londres\n",
      "Madrid\n",
      "Paris\n",
      "Rome\n"
     ]
    }
   ],
   "source": [
    "for element in villes:\n",
    "  print(element)"
   ]
  },
  {
   "cell_type": "markdown",
   "metadata": {
    "colab_type": "text",
    "id": "z8o9svv2v88a"
   },
   "source": [
    "La fonction **enumerate** est tres utile pour sortir a la fois les éléments d'une liste et leurs **index**. C'est une fonction tres utilisée en datascience"
   ]
  },
  {
   "cell_type": "code",
   "execution_count": 4,
   "metadata": {
    "colab": {
     "base_uri": "https://localhost:8080/",
     "height": 153
    },
    "colab_type": "code",
    "id": "w9t8cMPzv1Ug",
    "outputId": "579039b4-91a6-4f8a-bfcd-e9d2adee574d"
   },
   "outputs": [
    {
     "name": "stdout",
     "output_type": "stream",
     "text": [
      "0 Amsterdam\n",
      "1 Berlin\n",
      "2 Bruxelles\n",
      "3 Dublin\n",
      "4 Londres\n",
      "5 Madrid\n",
      "6 Paris\n",
      "7 Rome\n"
     ]
    }
   ],
   "source": [
    "for index, element in enumerate(villes):\n",
    "  print(index, element)"
   ]
  },
  {
   "cell_type": "markdown",
   "metadata": {
    "colab_type": "text",
    "id": "r7pQ6Yl_wd-B"
   },
   "source": [
    "La fonction **zip** est aussi tres utile pour itérée a travers 2 listes en paralleles. Si une liste est plus courte que l'autre, la boucle for s'arrete a la liste la plus courte"
   ]
  },
  {
   "cell_type": "code",
   "execution_count": 7,
   "metadata": {
    "colab": {
     "base_uri": "https://localhost:8080/",
     "height": 136
    },
    "colab_type": "code",
    "id": "Ej3rTRqawN2i",
    "outputId": "48fc7aec-a096-4582-ae47-27eb0973b522"
   },
   "outputs": [
    {
     "name": "stdout",
     "output_type": "stream",
     "text": [
      "1  -  Amsterdam 312\n",
      "2  -  Berlin 52\n",
      "3  -  Bruxelles 654\n",
      "4  -  Dublin 23\n",
      "5  -  Londres 65\n",
      "6  -  Madrid 12\n",
      "7  -  Paris 678\n"
     ]
    }
   ],
   "source": [
    "liste_2 = [312, 52, 654, 23, 65, 12, 678]\n",
    "liste_3 = [1, 2, 3, 4, 5, 6, 7]\n",
    "for element_1, element_2,element_3 in zip(villes, liste_2,liste_3):\n",
    "  print(element_3,\" - \",element_1, element_2)"
   ]
  },
  {
   "cell_type": "markdown",
   "metadata": {
    "colab_type": "text",
    "id": "joYmh7TZyu-I"
   },
   "source": [
    "# Dictionnaires\n",
    "Les dictionnaires sont des structures de controle **non-ordonnées**, c'est-a-dire que les valeurs qu'ils contiennent ne sont pas rangée selon un index, mais suivant une **clef unique**.\n",
    "\n",
    "Une utilisation parfaite des dictionnaires est pour regrouper ensemble des \"variables\" dans un meme conténaire. (ces variables ne sont pas de vraies variables, mais des **keys**).\n",
    "\n",
    "*On peut par exemple crée un dictionnaire inventaire qui regroupe plusieurs produits (les clefs) et leur quantités (les valeurs)*\n",
    "\n",
    "Sommaire:\n",
    "- 1 definition\n",
    "- 2 Dict.values()\n",
    "- 3 Dict.keys()\n",
    "- 4 Dict.fromkeys()\n",
    "- 5 get information (inventaire['key'] = 30 or inventaire.get('pommes'))\n",
    "- 6 Dict.pop(\"abricots\")\n",
    "- 7 Dict.keys(), Dict.values(), Dict.items()\n"
   ]
  },
  {
   "cell_type": "code",
   "execution_count": 1,
   "metadata": {
    "colab": {},
    "colab_type": "code",
    "id": "IxAbYNGyypdD"
   },
   "outputs": [],
   "source": [
    "inventaire = {'pommes': 100,\n",
    "              'bananes': 80,\n",
    "              'poires': 120}"
   ]
  },
  {
   "cell_type": "code",
   "execution_count": 2,
   "metadata": {
    "colab": {
     "base_uri": "https://localhost:8080/",
     "height": 34
    },
    "colab_type": "code",
    "id": "KIMrwYSF0WOx",
    "outputId": "c44e65a3-4efa-4d94-e0a3-c64872120894"
   },
   "outputs": [
    {
     "data": {
      "text/plain": [
       "dict_values([100, 80, 120])"
      ]
     },
     "execution_count": 2,
     "metadata": {},
     "output_type": "execute_result"
    }
   ],
   "source": [
    "inventaire.values()"
   ]
  },
  {
   "cell_type": "code",
   "execution_count": 3,
   "metadata": {
    "colab": {
     "base_uri": "https://localhost:8080/",
     "height": 34
    },
    "colab_type": "code",
    "id": "kiVf5n2J0Yxa",
    "outputId": "b829279b-d0cd-4df5-c4a1-57b1b5d1ea35"
   },
   "outputs": [
    {
     "data": {
      "text/plain": [
       "dict_keys(['pommes', 'bananes', 'poires'])"
      ]
     },
     "execution_count": 3,
     "metadata": {},
     "output_type": "execute_result"
    }
   ],
   "source": [
    "inventaire.keys()"
   ]
  },
  {
   "cell_type": "code",
   "execution_count": 4,
   "metadata": {
    "colab": {
     "base_uri": "https://localhost:8080/",
     "height": 163
    },
    "colab_type": "code",
    "id": "buwMNYZ40agi",
    "outputId": "fef58cfb-e270-45f8-9d85-386d36ca86cf"
   },
   "outputs": [
    {
     "data": {
      "text/plain": [
       "3"
      ]
     },
     "execution_count": 4,
     "metadata": {},
     "output_type": "execute_result"
    }
   ],
   "source": [
    "len(inventaire)"
   ]
  },
  {
   "cell_type": "markdown",
   "metadata": {
    "colab_type": "text",
    "id": "P3tAq8GJ0idV"
   },
   "source": [
    "Voici comment ajouter une association key/value dans notre dictionnaire (attention si la clef existe déja elle est remplacée)"
   ]
  },
  {
   "cell_type": "code",
   "execution_count": 2,
   "metadata": {
    "colab": {
     "base_uri": "https://localhost:8080/",
     "height": 34
    },
    "colab_type": "code",
    "id": "0cPXXWkY0eCZ",
    "outputId": "da888bd9-4c15-499c-c171-306d2dafb9eb"
   },
   "outputs": [
    {
     "name": "stdout",
     "output_type": "stream",
     "text": [
      "{'pommes': 100, 'bananes': 80, 'poires': 120, 'abricots': 30}\n"
     ]
    }
   ],
   "source": [
    "inventaire['abricots'] = 30\n",
    "print(inventaire)"
   ]
  },
  {
   "cell_type": "markdown",
   "metadata": {
    "colab_type": "text",
    "id": "tCIkswDN1L9m"
   },
   "source": [
    "Attention : si vous cherchez une clef qui n'existe pas dans un dictionnaire, python vous retourne une erreur. Pour éviter cela, vous pouvez utiliser la méthode **get()**"
   ]
  },
  {
   "cell_type": "code",
   "execution_count": 6,
   "metadata": {
    "colab": {},
    "colab_type": "code",
    "id": "8v_RHt9F1KGx"
   },
   "outputs": [],
   "source": [
    "inventaire.get('peches') # n'existe pas"
   ]
  },
  {
   "cell_type": "code",
   "execution_count": 7,
   "metadata": {
    "colab": {
     "base_uri": "https://localhost:8080/",
     "height": 34
    },
    "colab_type": "code",
    "id": "IlZRIOPb1Zd_",
    "outputId": "28332b9a-6ae8-4196-e464-117f74f0b2d7"
   },
   "outputs": [
    {
     "data": {
      "text/plain": [
       "100"
      ]
     },
     "execution_count": 7,
     "metadata": {},
     "output_type": "execute_result"
    }
   ],
   "source": [
    "inventaire.get('pommes') # pomme existe"
   ]
  },
  {
   "cell_type": "code",
   "execution_count": 22,
   "metadata": {},
   "outputs": [
    {
     "data": {
      "text/plain": [
       "{'dog': 0, 'cat': 0, 'bird': 0, 'fish': 0}"
      ]
     },
     "execution_count": 22,
     "metadata": {},
     "output_type": "execute_result"
    }
   ],
   "source": [
    "Animal_list =('dog','cat','bird','fish')\n",
    "Animal_number = 0\n",
    "MyAnimals={\n",
    "    \n",
    "}\n",
    "MyAnimals.fromkeys(Animal_list,Animal_number)"
   ]
  },
  {
   "cell_type": "markdown",
   "metadata": {
    "colab_type": "text",
    "id": "OC8GzBfW1pBr"
   },
   "source": [
    "la méthode **pop()** permet de retirer une clef d'un dictionnaire tout en retournant la valeur associée a la clef."
   ]
  },
  {
   "cell_type": "code",
   "execution_count": 8,
   "metadata": {
    "colab": {
     "base_uri": "https://localhost:8080/",
     "height": 51
    },
    "colab_type": "code",
    "id": "njAZZTkf1d7H",
    "outputId": "b8f4a6a6-7e3f-4e3e-cb09-328ff4c24373"
   },
   "outputs": [
    {
     "name": "stdout",
     "output_type": "stream",
     "text": [
      "{'pommes': 100, 'bananes': 80, 'poires': 120}\n",
      "30\n"
     ]
    }
   ],
   "source": [
    "abricots = inventaire.pop(\"abricots\")\n",
    "print(inventaire) # ne contient plus de clef abricots\n",
    "print(abricots) # abricots contient la valeur du dictionnaire"
   ]
  },
  {
   "cell_type": "markdown",
   "metadata": {
    "colab_type": "text",
    "id": "giJvo0ON2nxR"
   },
   "source": [
    "Pour utiliser une boucle for avec un dictionnaire, il est utile d'utiliser la méthode **items()** qui retourne a la fois les clefs et les valeurs"
   ]
  },
  {
   "cell_type": "code",
   "execution_count": 5,
   "metadata": {
    "colab": {
     "base_uri": "https://localhost:8080/",
     "height": 68
    },
    "colab_type": "code",
    "id": "pn0mt-wh1oj0",
    "outputId": "69707cdc-8127-451e-c6ea-73942f0f1128"
   },
   "outputs": [
    {
     "name": "stdout",
     "output_type": "stream",
     "text": [
      "this is the key: pommes\n",
      "this is the key: bananes\n",
      "this is the key: poires\n",
      "this is the key: abricots\n",
      "--------------\n",
      "this is the values: \n",
      "this is the values: \n",
      "this is the values: \n",
      "this is the values: \n",
      "--------------\n",
      "this is key-value: pommes,100\n",
      "this is key-value: bananes,80\n",
      "this is key-value: poires,120\n",
      "this is key-value: abricots,30\n"
     ]
    }
   ],
   "source": [
    "for key in inventaire.keys():\n",
    "  print(f'this is the key: {key}')\n",
    "print('--------------')\n",
    "for value in inventaire.values():\n",
    "  print('this is the values: '.format(value))\n",
    "print('--------------')\n",
    "for key, value in inventaire.items():\n",
    "  print(f'this is key-value: {key},{value}' )"
   ]
  },
  {
   "attachments": {},
   "cell_type": "markdown",
   "metadata": {
    "colab_type": "text",
    "id": "qWrT3hUL3nbN"
   },
   "source": [
    "# Exercice \n",
    "\n",
    "1. Transformer le code suivant qui donne la **suite de Fibonacci** pour enregistrer les résultats dans une liste et retourner cette liste a la fin de la fonction\n",
    "\n",
    "```python \n",
    "# Exercice :\n",
    "def fibonacci(n):\n",
    "    a = 0\n",
    "    b = 1\n",
    "    while b < n:\n",
    "      a, b = b, a+b\n",
    "      print(a)\n",
    "```\n",
    "2. Implémentez une fonction *trier(classeur, valeur)* qui place une valeur dans un dictionnaire en fonction de son signe\n",
    "\n",
    "```python \n",
    "classeur = {'négatifs':[],\n",
    "            'positifs':[]\n",
    "            }\n",
    "```\n",
    "3. Implémentez un code qui permet de lire les valeur du classeur parameters\n",
    "```python\n",
    "parameters = {'Ws':[1,2,3,4,8],\n",
    "            'Bs':[1,2,3,5,6]\n",
    "            }\n",
    "```\n",
    "\n",
    "4. Écrivez un programme Python qui permet à l'utilisateur de saisir une liste de nombres, puis ajoute un nombre supplémentaire à la fin de la liste. Ensuite, le programme doit compter combien de fois ce nombre supplémentaire apparaît dans la liste et afficher le résultat.\n",
    "\n",
    "\n",
    "\n",
    "5. Créez un tuple contenant une série de nombres. Écrivez un programme Python qui génère un nouveau tuple contenant la somme cumulative des nombres du tuple d'origine. Par exemple, si le tuple initial est (1, 2, 3, 4), le nouveau tuple devrait être (1, 3, 6, 10).\n",
    "\n",
    "\n",
    "\n",
    "6. Créez un dictionnaire de contacts en utilisant les noms comme clés et les numéros de téléphone comme valeurs. Écrivez un programme Python qui permet à l'utilisateur d'ajouter de nouveaux contacts, de rechercher un numéro de téléphone par nom, de supprimer un contact existant et d'afficher la liste complète des contacts.\n",
    "\n",
    "\n",
    "\n",
    "7. Écrivez un programme Python qui prend une liste de nombres et supprime tous les éléments de la liste qui sont plus petits qu'une valeur seuil spécifiée par l'utilisateur. Affichez la liste résultante après la suppression.\n",
    "\n",
    "\n",
    "\n",
    "8. Créez deux tuples contenant des noms d'étudiants. Écrivez un programme Python qui fusionne ces deux tuples en un seul, puis trie le tuple résultant par ordre alphabétique des noms. Affichez le tuple trié.\n",
    "\n"
   ]
  },
  {
   "cell_type": "markdown",
   "metadata": {},
   "source": []
  }
 ],
 "metadata": {
  "colab": {
   "authorship_tag": "ABX9TyNJAEomf56R9Aj2AZzGRpQF",
   "collapsed_sections": [],
   "include_colab_link": true,
   "name": "Untitled4.ipynb",
   "provenance": []
  },
  "kernelspec": {
   "display_name": "base",
   "language": "python",
   "name": "python3"
  },
  "language_info": {
   "codemirror_mode": {
    "name": "ipython",
    "version": 3
   },
   "file_extension": ".py",
   "mimetype": "text/x-python",
   "name": "python",
   "nbconvert_exporter": "python",
   "pygments_lexer": "ipython3",
   "version": "3.8.5"
  },
  "vscode": {
   "interpreter": {
    "hash": "7b34b089ce0dfc9935940e0a22050b2949fa617f7a2b73925623c261bed16aeb"
   }
  }
 },
 "nbformat": 4,
 "nbformat_minor": 1
}
