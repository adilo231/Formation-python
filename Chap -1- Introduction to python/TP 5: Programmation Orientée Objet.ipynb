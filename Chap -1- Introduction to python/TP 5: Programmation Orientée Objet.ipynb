{
 "cells": [
  {
   "cell_type": "markdown",
   "metadata": {
    "colab_type": "text",
    "id": "-nGb6MtRYWC8"
   },
   "source": [
    "# TP 5: Programmation Orientée Objet\n",
    "Qu'est-ce que la Programmation Orientée Objet (POO) ? La Programmation Orientée Objet (POO) est un paradigme de programmation qui repose sur la notion d'objets. Les objets sont des entités autonomes qui regroupent des données (attributs) et des fonctionnalités (méthodes) associées. En POO, le code est organisé autour d'objets qui interagissent entre eux. La POO vise à modéliser le monde réel en utilisant des objets pour représenter des entités et des actions."
   ]
  },
  {
   "cell_type": "code",
   "execution_count": 1,
   "metadata": {},
   "outputs": [
    {
     "name": "stdout",
     "output_type": "stream",
     "text": [
      "Je m'appelle Alice et j'ai 30 ans.\n"
     ]
    }
   ],
   "source": [
    "# Exemple simple d'objet en Python\n",
    "class Personne:\n",
    "    def __init__(self, nom, age):\n",
    "        self.nom = nom\n",
    "        self.age = age\n",
    "\n",
    "    def se_presenter(self):\n",
    "        print(f\"Je m'appelle {self.nom} et j'ai {self.age} ans.\")\n",
    "\n",
    "# Création d'une instance de la classe Personne\n",
    "personne1 = Personne(\"Alice\", 30)\n",
    "personne1.se_presenter()\n"
   ]
  },
  {
   "cell_type": "markdown",
   "metadata": {},
   "source": [
    "## Avantages de la POO en Python\n",
    "\n",
    "La POO présente plusieurs avantages en Python, notamment :\n",
    "\n",
    "- Modularité : Les objets permettent de regrouper le code en modules réutilisables.\n",
    "- Encapsulation : Les données et les fonctionnalités sont encapsulées dans des objets, ce qui permet de les protéger et de les rendre plus sûres.\n",
    "- Abstraction : La POO permet de masquer les détails complexes et de se concentrer sur l'interface de l'objet.\n",
    "- Héritage : Les classes peuvent hériter de fonctionnalités d'autres classes, favorisant la réutilisation du code.\n",
    "- Polymorphisme : Les objets peuvent être utilisés de manière polymorphe, c'est-à-dire que des objets de classes différentes peuvent répondre à la même interface."
   ]
  },
  {
   "cell_type": "code",
   "execution_count": 2,
   "metadata": {},
   "outputs": [
    {
     "name": "stdout",
     "output_type": "stream",
     "text": [
      "Minou: Miaou !\n",
      "Rex: Wouaf !\n"
     ]
    }
   ],
   "source": [
    "# Exemple d'héritage en Python\n",
    "class Animal:\n",
    "    def __init__(self, nom):\n",
    "        self.nom = nom\n",
    "\n",
    "    def parler(self):\n",
    "        pass\n",
    "\n",
    "class Chat(Animal):\n",
    "    def parler(self):\n",
    "        return \"Miaou !\"\n",
    "\n",
    "class Chien(Animal):\n",
    "    def parler(self):\n",
    "        return \"Wouaf !\"\n",
    "\n",
    "# Utilisation du polymorphisme\n",
    "chat = Chat(\"Minou\")\n",
    "chien = Chien(\"Rex\")\n",
    "\n",
    "animaux = [chat, chien]\n",
    "for animal in animaux:\n",
    "    print(animal.nom + \": \" + animal.parler())\n"
   ]
  },
  {
   "cell_type": "markdown",
   "metadata": {},
   "source": [
    "## Objets et Classes\n",
    "\n",
    "En POO, une classe est un modèle pour la création d'objets. Une classe définit la structure et le comportement des objets qui en sont issus. Les objets sont des instances de classes."
   ]
  },
  {
   "cell_type": "code",
   "execution_count": 3,
   "metadata": {},
   "outputs": [
    {
     "name": "stdout",
     "output_type": "stream",
     "text": [
      "Marque : Toyota, Modèle : Camry\n",
      "Marque : Honda, Modèle : Civic\n"
     ]
    }
   ],
   "source": [
    "# Définition d'une classe en Python\n",
    "class Voiture:\n",
    "    def __init__(self, marque, modele):\n",
    "        self.marque = marque\n",
    "        self.modele = modele\n",
    "\n",
    "    def afficher_details(self):\n",
    "        print(f\"Marque : {self.marque}, Modèle : {self.modele}\")\n",
    "\n",
    "# Création d'objets à partir de la classe Voiture\n",
    "voiture1 = Voiture(\"Toyota\", \"Camry\")\n",
    "voiture2 = Voiture(\"Honda\", \"Civic\")\n",
    "\n",
    "# Appel d'une méthode de l'objet\n",
    "voiture1.afficher_details()\n",
    "voiture2.afficher_details()\n"
   ]
  },
  {
   "cell_type": "markdown",
   "metadata": {},
   "source": [
    "## Attributs et Méthodes\n",
    "\n",
    "Les attributs sont des variables qui stockent des données liées à un objet, tandis que les méthodes sont des fonctions associées à un objet. Les attributs et les méthodes définissent les caractéristiques et le comportement des objets."
   ]
  },
  {
   "cell_type": "code",
   "execution_count": 4,
   "metadata": {
    "colab": {},
    "colab_type": "code",
    "id": "pRyJ-iSwYUul"
   },
   "outputs": [],
   "source": [
    "# Exemple d'attributs et de méthodes en Python\n",
    "class Etudiant:\n",
    "    def __init__(self, nom, age):\n",
    "        self.nom = nom\n",
    "        self.age = age\n",
    "        self.notes = []\n",
    "\n",
    "    def ajouter_note(self, note):\n",
    "        self.notes.append(note)\n",
    "\n",
    "    def moyenne_notes(self):\n",
    "        if len(self.notes) == 0:\n",
    "            return 0\n",
    "        return sum(self.notes) / len(self.notes)\n",
    "\n",
    "# Création d'un objet de la classe Etudiant\n",
    "etudiant1 = Etudiant(\"Alice\", 20)\n",
    "\n",
    "# Utilisation des méthodes et des attributs\n",
    "etudiant1.ajouter_note(85)\n",
    "etudiant1.ajouter_note(92)\n",
    "moyenne = etudiant1.moyenne_notes()"
   ]
  },
  {
   "cell_type": "markdown",
   "metadata": {},
   "source": [
    "## Encapsulation\n",
    "\n",
    "L'encapsulation est le principe qui consiste à encapsuler (cacher) les détails internes d'un objet et à fournir une interface pour interagir avec lui. En Python, l'encapsulation est généralement réalisée en définissant des attributs comme publics, privés ou protégés en utilisant des conventions de nommage (par exemple, _attribut pour un attribut protégé)."
   ]
  },
  {
   "cell_type": "code",
   "execution_count": 8,
   "metadata": {
    "colab": {},
    "colab_type": "code",
    "id": "Ngx7Fh0FcdMG"
   },
   "outputs": [
    {
     "data": {
      "text/plain": [
       "1200"
      ]
     },
     "execution_count": 8,
     "metadata": {},
     "output_type": "execute_result"
    }
   ],
   "source": [
    "# Exemple d'encapsulation en Python\n",
    "class CompteBancaire:\n",
    "    def __init__(self, solde):\n",
    "        self._solde = solde\n",
    "\n",
    "    def deposer(self, montant):\n",
    "        if montant > 0:\n",
    "            self._solde += montant\n",
    "\n",
    "    def retirer(self, montant):\n",
    "        if 0 < montant <= self._solde:\n",
    "            self._solde -= montant\n",
    "\n",
    "    def consulter_solde(self):\n",
    "        return self._solde\n",
    "\n",
    "# Création d'un objet de la classe CompteBancaire\n",
    "compte = CompteBancaire(1000)\n",
    "\n",
    "# Utilisation des méthodes pour effectuer des opérations sur le solde\n",
    "compte.deposer(500)\n",
    "compte.retirer(300)\n",
    "solde_actuel = compte.consulter_solde()\n",
    "solde_actuel"
   ]
  },
  {
   "cell_type": "markdown",
   "metadata": {},
   "source": [
    "\n",
    "## Définition d'une Classe\n",
    "\n",
    "En programmation orientée objet (POO), une **classe** est un modèle ou un plan pour créer des objets. Elle définit la structure et le comportement des objets qui seront créés à partir d'elle. La définition d'une classe se fait en utilisant le mot-clé `class`.\n",
    "\n",
    "```python\n",
    "# Exemple de définition d'une classe en Python\n",
    "class Voiture:\n",
    "    def __init__(self, marque, modele):\n",
    "        self.marque = marque\n",
    "        self.modele = modele\n",
    "```\n",
    "\n",
    "Dans cet exemple, nous avons défini une classe `Voiture` avec deux attributs : `marque` et `modele`. La méthode `__init__` est un constructeur qui initialise les attributs de l'objet lorsqu'il est créé.\n",
    "\n",
    "### Constructeurs et Destructeurs\n",
    "\n",
    "Un **constructeur** est une méthode spéciale d'une classe qui est appelée lorsqu'un nouvel objet de cette classe est créé. En Python, le constructeur est généralement appelé `__init__`.\n",
    "\n",
    "```python\n",
    "# Exemple de constructeur en Python\n",
    "class Personne:\n",
    "    def __init__(self, nom, age):\n",
    "        self.nom = nom\n",
    "        self.age = age\n",
    "```\n",
    "\n",
    "Il existe également des méthodes spéciales telles que le **destructeur** `__del__`, qui est appelé lorsque l'objet est détruit. Cependant, le destructeur est rarement utilisé en Python car la gestion de la mémoire est gérée automatiquement.\n",
    "\n",
    "### Variables de Classe vs Variables d'Instance\n",
    "\n",
    "Les **variables de classe** sont partagées par toutes les instances d'une classe, tandis que les **variables d'instance** sont spécifiques à chaque instance de la classe.\n",
    "\n",
    "```python\n",
    "# Exemple de variables de classe et variables d'instance\n",
    "class CompteBancaire:\n",
    "    taux_interet = 0.05  # Variable de classe\n",
    "\n",
    "    def __init__(self, solde):\n",
    "        self.solde = solde  # Variable d'instance\n",
    "```\n",
    "\n",
    "Dans cet exemple, `taux_interet` est une variable de classe partagée par toutes les instances de `CompteBancaire`, tandis que `solde` est une variable d'instance spécifique à chaque compte bancaire.\n",
    "\n",
    "\n"
   ]
  },
  {
   "cell_type": "markdown",
   "metadata": {},
   "source": [
    "## Exercices\n",
    "\n",
    "- Créer une Classe et des Instances :\n",
    "Définissez une classe Personne avec des attributs tels que nom, âge, et pays. Créez deux instances de la classe et affichez leurs détails.\n",
    "\n",
    "- Héritage et Redéfinition de Méthode :\n",
    "Créez une classe de base Forme avec une méthode surface. Ensuite, créez deux sous-classes, Rectangle et Cercle, qui héritent de Forme et redéfinissent la méthode surface pour calculer leurs aires respectives.\n",
    "\n",
    "- Encapsulation et Décorateurs de Propriété :\n",
    "Créez une classe CompteBancaire avec des attributs privés pour solde et numéro_de_compte. Utilisez les décorateurs de propriété pour permettre un accès contrôlé à ces attributs, autorisant les dépôts et les retraits tout en préservant l'encapsulation.\n",
    "\n",
    "- Polymorphisme et Classes de Base Abstraites :\n",
    "Définissez une classe de base abstraite Animal avec une méthode parler(). Créez deux sous-classes, Chien et Chat, et implémentez la méthode parler() différemment dans chaque sous-classe. Démontrez le polymorphisme en appelant parler() sur des instances des deux classes.\n",
    "\n",
    "- Variables de Classe et Méthodes de Classe :\n",
    "Créez une classe Étudiant avec une variable de classe total_étudiants pour suivre le nombre total d'étudiants. Implémentez une méthode de classe pour incrémenter ce compteur lorsqu'un nouvel objet étudiant est créé. Testez la classe en créant plusieurs instances d'étudiants et en affichant le nombre total d'étudiants.\n",
    "\n"
   ]
  }
 ],
 "metadata": {
  "colab": {
   "authorship_tag": "ABX9TyPKq7O2+lerh4dr/+l82UHd",
   "include_colab_link": true,
   "name": "Untitled6.ipynb",
   "provenance": []
  },
  "kernelspec": {
   "display_name": "base",
   "language": "python",
   "name": "python3"
  },
  "language_info": {
   "codemirror_mode": {
    "name": "ipython",
    "version": 3
   },
   "file_extension": ".py",
   "mimetype": "text/x-python",
   "name": "python",
   "nbconvert_exporter": "python",
   "pygments_lexer": "ipython3",
   "version": "3.8.5"
  },
  "vscode": {
   "interpreter": {
    "hash": "7b34b089ce0dfc9935940e0a22050b2949fa617f7a2b73925623c261bed16aeb"
   }
  }
 },
 "nbformat": 4,
 "nbformat_minor": 1
}
