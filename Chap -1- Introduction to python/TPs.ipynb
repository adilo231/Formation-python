{
 "cells": [
  {
   "cell_type": "markdown",
   "metadata": {
    "colab_type": "text",
    "id": "Mr4YM6YJTkIz"
   },
   "source": [
    "# TP 1: Variables, Fonctions et Structure de control \n",
    "## Variables et Operations"
   ]
  },
  {
   "cell_type": "markdown",
   "metadata": {},
   "source": [
    "\n",
    "\n",
    "\n",
    "En programmation, une variable est un espace de stockage nommé qui permet de stocker des données. En Python, un langage de programmation polyvalent et largement utilisé, il existe quatre grands types de variables qui nous permettent de stocker différents types de données. Comprendre ces types de variables est essentiel pour manipuler efficacement les données dans un programme Python.\n",
    "Les Quatre Types Principaux de Variables en Python\n",
    "\n",
    "    int (nombre entier) : Les variables de type \"int\" sont utilisées pour stocker des nombres entiers. Par exemple, age = 25 stocke un nombre entier, dans ce cas l'âge de quelqu'un.\n",
    "\n",
    "    float (nombre décimal) : Les variables de type \"float\" sont utilisées pour stocker des nombres décimaux. Par exemple, prix = 19.99 stocke un nombre décimal, ici un prix en euros.\n",
    "\n",
    "    string (chaîne de caractères) : Les variables de type \"string\" sont utilisées pour stocker des séquences de caractères. Par exemple, nom = \"Alice\" stocke une chaîne de caractères, ici le nom d'une personne.\n",
    "\n",
    "    bool (booléen) : Les variables de type \"bool\" sont utilisées pour stocker des valeurs booléennes, c'est-à-dire True (Vrai) ou False (Faux). Par exemple, est_majeur = True stocke une valeur booléenne, indiquant si quelqu'un est majeur ou non.\n",
    "\n",
    "En Python, la déclaration d'une variable est simple. Vous pouvez attribuer une valeur à une variable en utilisant le signe égal (=). Par exemple, pour attribuer la valeur 42 à une variable nombre, vous feriez nombre = 42.\n",
    "\n",
    "Il est important de noter que les noms de variables en Python doivent suivre certaines conventions, telles que ne pas commencer par un chiffre et ne contenir que des lettres, des chiffres et des underscores.\n",
    "\n",
    "L'utilisation des variables est fondamentale en programmation, car elles nous permettent de stocker et de manipuler des données de manière dynamique. Dans ce cours, nous explorerons en détail chaque type de variable et comment les utiliser efficacement pour résoudre des problèmes de programmation.\n",
    "\n",
    "Maintenant que nous avons une compréhension de base des variables en Python, explorons chacun de ces types en détail dans les sections suivantes."
   ]
  },
  {
   "cell_type": "code",
   "execution_count": 4,
   "metadata": {
    "colab": {},
    "colab_type": "code",
    "id": "sB5Lw22eThZs"
   },
   "outputs": [
    {
     "name": "stdout",
     "output_type": "stream",
     "text": [
      "<class 'int'> <class 'float'> <class 'str'> <class 'bool'>\n"
     ]
    }
   ],
   "source": [
    "x = 3 # type int \n",
    "y = 2.5 # type float\n",
    "prenom = 'Pierre' # type string\n",
    "z = True # type Bool\n",
    "\n",
    "print(type(x),type(y), type(prenom),type(z))"
   ]
  },
  {
   "cell_type": "markdown",
   "metadata": {},
   "source": [
    "### Opérations Arithmétiques en Python\n",
    "\n",
    "Les opérations arithmétiques sont un aspect fondamental de la programmation en Python. Elles permettent de réaliser des calculs mathématiques de base, ce qui est essentiel dans le développement de tout type d'application. Dans cette section, nous explorerons les opérations arithmétiques de base en Python, notamment l'addition, la soustraction, la multiplication, la division et la puissance.\n",
    "\n",
    "Python offre une syntaxe simple et intuitive pour effectuer ces opérations, ce qui en fait un langage de programmation populaire pour les calculs mathématiques et scientifiques, ainsi que pour des applications plus générales.\n",
    "\n",
    "Nous aborderons les sujets suivants dans cette section :\n",
    "- Addition (+)\n",
    "- Soustraction (-)\n",
    "- Multiplication (*)\n",
    "- Division (/)\n",
    "- Opérations avec des nombres entiers\n",
    "- Utilisation de parenthèses pour contrôler l'ordre des opérations\n",
    "- Utilisation de la fonction `pow()` pour calculer les puissances\n",
    "\n",
    "Comprendre comment utiliser ces opérations est essentiel pour manipuler des données numériques et résoudre des problèmes mathématiques à l'aide de Python."
   ]
  },
  {
   "cell_type": "code",
   "execution_count": 3,
   "metadata": {
    "colab": {
     "base_uri": "https://localhost:8080/",
     "height": 119
    },
    "colab_type": "code",
    "id": "gvy__Ni0VLDg",
    "outputId": "108dc562-5cdf-493f-f804-572bb84cff36"
   },
   "outputs": [
    {
     "name": "stdout",
     "output_type": "stream",
     "text": [
      "x + y = 5.5\n",
      "x - y = 0.5\n",
      "x / y = 1.2\n",
      "x // y = 1.0\n",
      "x * y = 7.5\n",
      "x ^ y = 15.588457268119896\n"
     ]
    }
   ],
   "source": [
    "# Opérations arithmétiques\n",
    "print('x + y =', x + y)\n",
    "print('x - y =', x - y)\n",
    "print('x / y =', x / y)\n",
    "print('x // y =', x // y) # division entiere (tres utile pour les tableaux Numpy)\n",
    "print('x * y =', x * y)\n",
    "print('x ^ y =', x ** y) # x puissance y"
   ]
  },
  {
   "cell_type": "markdown",
   "metadata": {},
   "source": [
    "### Opérations de Comparaison en Python\n",
    "\n",
    "Les opérations de comparaison sont essentielles en programmation pour évaluer des conditions et prendre des décisions en fonction de ces évaluations. En Python, vous pouvez comparer des valeurs et des expressions pour déterminer si elles sont égales, plus grandes, plus petites ou d'autres relations. Dans cette section, nous explorerons les opérations de comparaison en Python.\n",
    "\n",
    "Voici les principales opérations de comparaison que nous allons aborder :\n",
    "- Égalité (==) : Vérifie si deux valeurs sont égales.\n",
    "- Inégalité (!=) : Vérifie si deux valeurs ne sont pas égales.\n",
    "- Supériorité (>) : Vérifie si une valeur est strictement supérieure à une autre.\n",
    "- Infériorité (<) : Vérifie si une valeur est strictement inférieure à une autre.\n",
    "- Supériorité ou égalité (>=) : Vérifie si une valeur est supérieure ou égale à une autre.\n",
    "- Infériorité ou égalité (<=) : Vérifie si une valeur est inférieure ou égale à une autre.\n",
    "\n",
    "Ces opérations de comparaison sont couramment utilisées pour créer des expressions conditionnelles, des boucles et d'autres structures de contrôle de flux dans vos programmes Python.\n",
    "\n",
    "\n",
    "\n"
   ]
  },
  {
   "cell_type": "code",
   "execution_count": 4,
   "metadata": {
    "colab": {
     "base_uri": "https://localhost:8080/",
     "height": 85
    },
    "colab_type": "code",
    "id": "osU_peQiV5QH",
    "outputId": "b5e7fe5a-24da-4c26-e26d-fdb680e49f1d"
   },
   "outputs": [
    {
     "name": "stdout",
     "output_type": "stream",
     "text": [
      "égalité : False\n",
      "inégalité : True\n",
      "inférieur ou égal : False\n",
      "supérieur ou égal : True\n"
     ]
    }
   ],
   "source": [
    "# Opérations de comparaison\n",
    "print('égalité :', x == y)\n",
    "print('inégalité :', x != y)\n",
    "print('inférieur ou égal :', x <= y)\n",
    "print('supérieur ou égal :', x >= y)"
   ]
  },
  {
   "cell_type": "markdown",
   "metadata": {},
   "source": [
    "### Opérations Logiques en Python\n",
    "\n",
    "Les opérations logiques sont un élément clé de la programmation en Python, utilisées pour évaluer des conditions complexes et prendre des décisions basées sur ces conditions. Les opérations logiques permettent de combiner et de manipuler des valeurs booléennes (Vrai ou Faux) de manière à construire des expressions conditionnelles puissantes. Dans cette section, nous explorerons les opérations logiques en Python.\n",
    "\n",
    "Les opérations logiques principales que nous allons aborder sont les suivantes :\n",
    "- ET logique (`and`) : Vérifie si deux conditions sont simultanément vraies.\n",
    "- OU logique (`or`) : Vérifie si au moins l'une des deux conditions est vraie.\n",
    "- NON logique (`not`) : Inverse une condition booléenne.\n",
    "\n",
    "Ces opérations logiques sont utilisées pour créer des expressions conditionnelles complexes qui permettent de contrôler le flux de votre programme. Elles sont essentielles pour prendre des décisions, exécuter certaines parties du code en fonction de conditions, et créer des boucles conditionnelles.\n",
    "\n",
    "\n"
   ]
  },
  {
   "cell_type": "code",
   "execution_count": 5,
   "metadata": {
    "colab": {
     "base_uri": "https://localhost:8080/",
     "height": 68
    },
    "colab_type": "code",
    "id": "1s4g7tZxWpm0",
    "outputId": "a9487664-4832-4e20-db7f-801835d4f111"
   },
   "outputs": [
    {
     "name": "stdout",
     "output_type": "stream",
     "text": [
      "ET : False\n",
      "OU : True\n",
      "OU exclusif : True\n"
     ]
    }
   ],
   "source": [
    "# Opérations Logiques\n",
    "print('ET :', False and True)\n",
    "print('OU :', False or True)\n",
    "print('OU exclusif :', False ^ True)"
   ]
  },
  {
   "cell_type": "markdown",
   "metadata": {
    "colab_type": "text",
    "id": "z5QvguMPYVgQ"
   },
   "source": [
    "Note : Les opérations de comparaison et de logique utilisées ensemble permettent de construire des structures algorithmiques de bases (if/esle, while, ...)"
   ]
  },
  {
   "cell_type": "code",
   "execution_count": 6,
   "metadata": {},
   "outputs": [
    {
     "name": "stdout",
     "output_type": "stream",
     "text": [
      "  A     B   ||  A and B   \n",
      "-------------------------\n",
      "False True  ||   False\n",
      "False False ||   False\n",
      "True  True  ||   True\n",
      "True  False ||   False\n"
     ]
    }
   ],
   "source": [
    "# Table Logiques de AND\n",
    "print('  A     B   ||  A and B   ')\n",
    "print('-------------------------')\n",
    "print('False True  ||  ', False and True)\n",
    "print('False False ||  ', False and False)\n",
    "print('True  True  ||  ', True and True)\n",
    "print('True  False ||  ', False and False)"
   ]
  },
  {
   "cell_type": "markdown",
   "metadata": {
    "colab_type": "text",
    "id": "pLJYfhleZRqo"
   },
   "source": [
    "## Fonctions\n",
    "\n",
    "Les fonctions sont des éléments fondamentaux de la programmation en Python. Elles permettent d'organiser et de structurer le code en le divisant en blocs de code réutilisables. Une fonction est un ensemble d'instructions qui effectuent une tâche spécifique et peuvent prendre des arguments en entrée pour personnaliser leur comportement. Les fonctions sont essentielles pour rendre le code plus lisible, modulaire et facile à entretenir.\n",
    "\n",
    "Dans Python, une fonction est définie à l'aide du mot-clé def, suivi du nom de la fonction et de ses paramètres entre parenthèses. Elle peut avoir un corps de fonction qui contient les instructions à exécuter lorsque la fonction est appelée. Les fonctions peuvent également retourner des valeurs à l'aide du mot-clé return.\n",
    "\n",
    "L'utilisation de fonctions permet de réduire la redondance du code en regroupant des actions similaires sous une seule fonction. Elles offrent également la possibilité de diviser un programme en morceaux plus petits et plus gérables, ce qui simplifie le débogage et la maintenance du code.\n",
    "\n",
    "### Les Fonctions Lambda en Python\n",
    "\n",
    "Les fonctions lambda, également connues sous le nom de fonctions anonymes, sont un concept intéressant en Python. Contrairement aux fonctions définies avec def, les fonctions lambda sont des fonctions courtes et temporaires qui peuvent être créées sans avoir à nommer explicitement la fonction. Elles sont définies à l'aide du mot-clé lambda, suivi des paramètres entre parenthèses et d'une expression unique qui est évaluée et renvoyée comme résultat.\n",
    "\n",
    "Présentation des Fonctions Lambda :\n",
    "\n",
    "Les fonctions lambda sont souvent utilisées pour des opérations simples et ponctuelles, telles que les transformations de données dans une liste, les filtres ou les opérations mathématiques simples. Elles sont particulièrement utiles lorsque vous avez besoin d'une petite fonction pour effectuer une tâche spécifique, sans la complexité d'une fonction définie avec def.\n",
    "\n",
    "Définition des Fonctions Lambda :\n",
    "\n",
    "Une fonction lambda est définie comme suit :\n",
    "```python \n",
    "lambda arguments: expression\n",
    "\n",
    "```\n",
    "\n",
    "    arguments : Les paramètres que la fonction lambda prend en entrée, séparés par des virgules.\n",
    "    expression : L'expression unique qui est évaluée et renvoyée comme résultat lorsque la fonction lambda est appelée.\n",
    "\n",
    "Voici un exemple simple d'une fonction lambda qui additionne deux nombres :"
   ]
  },
  {
   "cell_type": "code",
   "execution_count": 7,
   "metadata": {
    "colab": {
     "base_uri": "https://localhost:8080/",
     "height": 34
    },
    "colab_type": "code",
    "id": "8nUYmJJhX7s7",
    "outputId": "f675d3bc-6d69-43c2-92d9-a69b1c24182a"
   },
   "outputs": [
    {
     "name": "stdout",
     "output_type": "stream",
     "text": [
      "9\n"
     ]
    }
   ],
   "source": [
    "# Exemple d'une fonction f(x) = x^2\n",
    "f = lambda x : x**2\n",
    "\n",
    "print(f(3))"
   ]
  },
  {
   "cell_type": "code",
   "execution_count": 8,
   "metadata": {
    "colab": {
     "base_uri": "https://localhost:8080/",
     "height": 34
    },
    "colab_type": "code",
    "id": "n15GdMX1ZdjW",
    "outputId": "f36347e2-6c28-42e5-d416-9b3799b09fde"
   },
   "outputs": [
    {
     "name": "stdout",
     "output_type": "stream",
     "text": [
      "12\n"
     ]
    }
   ],
   "source": [
    "# Exemple d'une fonction g(x, y) = x^2 - y^2\n",
    "g = lambda x, y : x**2 - y**2\n",
    "\n",
    "print(g(4, 2))"
   ]
  },
  {
   "cell_type": "code",
   "execution_count": 9,
   "metadata": {},
   "outputs": [
    {
     "name": "stdout",
     "output_type": "stream",
     "text": [
      "12\n"
     ]
    }
   ],
   "source": [
    "print(g(f(2), 2))"
   ]
  },
  {
   "cell_type": "markdown",
   "metadata": {
    "colab_type": "text",
    "id": "YjgH-JfFajmb"
   },
   "source": [
    "### Fonction en Python\n",
    "\n",
    "Une fonction en Python est une portion de code qui effectue une tâche spécifique ou une série de tâches. Les fonctions sont utilisées pour organiser et réutiliser du code en le divisant en blocs autonomes. Une fonction peut être conçue pour prendre des arguments en entrée, effectuer des opérations sur ces arguments, et renvoyer un résultat en sortie. Les fonctions sont définies à l'aide du mot-clé def, suivi du nom de la fonction et de ses paramètres entre parenthèses, le cas échéant.\n",
    "\n",
    "Définition d'une Fonction :\n",
    "\n",
    "Voici la structure de base de la définition d'une fonction en Python :\n",
    "\n",
    "```python\n",
    "\n",
    "def nom_de_la_fonction(parametre1, parametre2, ...):\n",
    "    # Instructions de la fonction\n",
    "    # Ces instructions décrivent ce que la fonction fait\n",
    "    # Elles peuvent inclure des calculs, des opérations, des boucles, etc.\n",
    "    return resultat\n",
    "```\n",
    "\n",
    "    nom_de_la_fonction : Le nom que vous choisissez pour votre fonction.\n",
    "    parametre1, parametre2, ... : Les paramètres (également appelés arguments) que la fonction peut accepter en entrée. Vous pouvez en spécifier un ou plusieurs, ou même aucun.\n",
    "    return resultat : Facultatif. Si vous souhaitez que votre fonction renvoie un résultat, utilisez l'instruction return pour le spécifier. Le résultat peut être une valeur, un objet, une liste, etc."
   ]
  },
  {
   "cell_type": "code",
   "execution_count": 10,
   "metadata": {
    "colab": {
     "base_uri": "https://localhost:8080/",
     "height": 34
    },
    "colab_type": "code",
    "id": "kgDxdfuIadt1",
    "outputId": "32a0469a-d856-4206-931c-b013ae387720"
   },
   "outputs": [
    {
     "data": {
      "text/plain": [
       "5"
      ]
     },
     "execution_count": 10,
     "metadata": {},
     "output_type": "execute_result"
    }
   ],
   "source": [
    "# une fonction a un nom, prend des entrées (arguments) et les transforme pour retourner un résultat\n",
    "\n",
    "def nom_de_la_fonction(argument_1, argument_2):\n",
    "   restultat = argument_1 + argument_2\n",
    "   return restultat\n",
    "\n",
    "nom_de_la_fonction(3, 2)"
   ]
  },
  {
   "cell_type": "code",
   "execution_count": 11,
   "metadata": {
    "colab": {
     "base_uri": "https://localhost:8080/",
     "height": 34
    },
    "colab_type": "code",
    "id": "rB-yIhFxbUPa",
    "outputId": "77716e9a-5364-4be9-dec0-c8c750ac0f46"
   },
   "outputs": [
    {
     "data": {
      "text/plain": [
       "981.0"
      ]
     },
     "execution_count": 11,
     "metadata": {},
     "output_type": "execute_result"
    }
   ],
   "source": [
    "# Exemple concret : fonction qui calcul l'energie potentielle d'un corps\n",
    "\n",
    "def e_potentielle(masse, hauteur, g=9.81):\n",
    "  energie = masse * hauteur * g \n",
    "  return energie\n",
    "\n",
    "# ici g a une valeur par défaut donc nous ne sommes pas obligé de lui donner une valeur\n",
    "e_potentielle(masse=10, hauteur=10)"
   ]
  },
  {
   "cell_type": "markdown",
   "metadata": {},
   "source": [
    "a notion de docstring, ou chaîne de documentation, est un concept important en programmation Python. Il s'agit d'une convention utilisée pour documenter des fonctions, des classes, des modules ou des méthodes en fournissant une description claire et concise de ce qu'ils font, de leurs paramètres, de leurs valeurs de retour, et de toute autre information pertinente. Les docstrings sont des commentaires spéciaux dans le code Python qui sont accessibles via l'attribut __doc__ d'un objet.\n",
    "\n",
    "Voici quelques points clés pour comprendre les docstrings en Python :\n",
    "\n",
    "    Format des Docstrings : Les docstrings sont généralement encadrées par trois guillemets simples (''') ou triples guillemets doubles (\"\"\"). Voici un exemple de docstring pour une fonction "
   ]
  },
  {
   "cell_type": "code",
   "execution_count": 5,
   "metadata": {},
   "outputs": [],
   "source": [
    "def ma_fonction(parametre):\n",
    "    \"\"\"\n",
    "    Description de la fonction.\n",
    "    \n",
    "    Args:\n",
    "        parametre (type): Description du paramètre.\n",
    "    \n",
    "    Returns:\n",
    "        type_de_retour: Description de la valeur de retour.\n",
    "    \"\"\"\n",
    "    # Le code de la fonction\n"
   ]
  },
  {
   "cell_type": "markdown",
   "metadata": {},
   "source": [
    "Contenu des Docstrings : Les docstrings doivent contenir des informations claires et utiles sur l'objet qu'ils documentent. Cela peut inclure :\n",
    "\n",
    "    Une brève description de ce que fait la fonction.\n",
    "    Une liste des paramètres, avec leur type et une description.\n",
    "    Une description de la valeur de retour de la fonction.\n",
    "    Des exemples d'utilisation.\n",
    "\n",
    "Accès aux Docstrings : Vous pouvez accéder au contenu d'un docstring à l'aide de l'attribut __doc__ de l'objet. Par exemple :"
   ]
  },
  {
   "cell_type": "code",
   "execution_count": 6,
   "metadata": {},
   "outputs": [
    {
     "name": "stdout",
     "output_type": "stream",
     "text": [
      "\n",
      "    Description de la fonction.\n",
      "    \n",
      "    Args:\n",
      "        parametre (type): Description du paramètre.\n",
      "    \n",
      "    Returns:\n",
      "        type_de_retour: Description de la valeur de retour.\n",
      "    \n"
     ]
    }
   ],
   "source": [
    "print(ma_fonction.__doc__)"
   ]
  },
  {
   "cell_type": "markdown",
   "metadata": {},
   "source": [
    "Cela affichera la documentation de la fonction ma_fonction à la console.\n",
    "\n",
    "Utilité des Docstrings : Les docstrings sont utiles pour plusieurs raisons :\n",
    "\n",
    "    Ils aident les autres développeurs (ou vous-même) à comprendre rapidement comment utiliser une fonction, une classe ou un module.\n",
    "    Ils servent de référence lors de la documentation du code.\n",
    "    Ils sont utilisés par des outils de documentation automatique tels que Sphinx pour générer des documents de référence et des pages de documentation.\n"
   ]
  },
  {
   "cell_type": "markdown",
   "metadata": {
    "colab_type": "text",
    "id": "mc-EcvradiEm"
   },
   "source": [
    "## Structures de Contrôle en Programmation\n",
    "\n",
    "Les structures de contrôle jouent un rôle central dans la programmation en Python (et dans de nombreux autres langages). Elles sont essentielles pour définir le flux d'exécution d'un programme, permettant ainsi de prendre des décisions, de répéter des tâches et d'organiser le code de manière logique. Dans cette section, nous explorerons trois principales structures de contrôle qui sont fondamentales pour la création d'algorithmes efficaces :\n",
    "\n",
    "- **Les Blocks d'Instructions :** Ces structures délimitent des sections de code qui s'exécutent ensemble, souvent à l'intérieur d'une fonction ou d'une boucle. Les blocs d'instructions contribuent à organiser et à structurer votre code de manière compréhensible.\n",
    "\n",
    "- **Les Instructions Conditionnelles (If / Else) :** Les instructions conditionnelles permettent de prendre des décisions dans un programme. Selon une condition donnée, le programme peut exécuter différentes parties de code. Le constructeur \"If\" permet d'exécuter une action si une condition est vraie, tandis que \"Else\" permet de définir une action alternative si la condition n'est pas remplie.\n",
    "\n",
    "- **Les Instructions Itératives (For, While) :** Les instructions itératives sont utilisées pour répéter des actions plusieurs fois. La boucle \"For\" permet de parcourir un ensemble de données ou de répéter un bloc de code un nombre spécifique de fois. La boucle \"While\" répète un bloc de code tant qu'une condition reste vraie.\n",
    "\n"
   ]
  },
  {
   "cell_type": "markdown",
   "metadata": {},
   "source": [
    "### Les Blocks d'instructions\n",
    "En programmation, un bloc d'instructions, aussi appelé \"suite d'instructions\" ou \"bloc de code\", est une séquence d'instructions qui sont regroupées ensemble et exécutées comme une seule unité. Les blocs d'instructions sont utilisés pour organiser et structurer le code de manière logique et cohérente. Ils jouent un rôle essentiel pour rendre un programme lisible et maintenable. Voici quelques points clés pour comprendre les blocs d'instructions :\n",
    "\n",
    "    Définition des Blocs d'Instructions : Un bloc d'instructions est généralement délimité par des symboles spéciaux, tels que des accolades {} en langages comme Python, C, C++, Java, etc., ou par des mots-clés tels que begin et end en langage Pascal. Par exemple, en Python, un bloc d'instructions peut ressembler à ceci :\n",
    "\n",
    "\n"
   ]
  },
  {
   "cell_type": "code",
   "execution_count": null,
   "metadata": {},
   "outputs": [],
   "source": [
    "def ma_fonction():\n",
    "    # Ceci est le début du bloc d'instructions\n",
    "    instruction_1\n",
    "    instruction_2\n",
    "    # ...\n",
    "    instruction_n\n",
    "    # Ceci est la fin du bloc d'instructions\n"
   ]
  },
  {
   "cell_type": "markdown",
   "metadata": {},
   "source": [
    "\n",
    "Les blocs d'instructions servent principalement à :\n",
    "\n",
    "- Regrouper des instructions associées : Les instructions à l'intérieur d'un bloc ont souvent un objectif commun ou sont liées à une tâche spécifique.\n",
    "- Définir la portée : Les variables déclarées à l'intérieur d'un bloc sont généralement visibles uniquement à l'intérieur de ce bloc, ce qui permet de limiter leur portée (scope).\n",
    "- Faciliter la lisibilité : En regroupant des instructions similaires dans un bloc, le code devient plus lisible et plus facile à comprendre.\n",
    "\n",
    "Usage Courant : Les blocs d'instructions sont couramment utilisés dans les fonctions et les méthodes, où ils regroupent le code spécifique à la fonction. Les boucles et les structures conditionnelles utilisent également des blocs pour déterminer quelles parties du code doivent être répétées ou exécutées sous certaines conditions.\n",
    "\n",
    "Emboîtement de Blocs : Il est important de noter que les blocs d'instructions peuvent être emboîtés, c'est-à-dire qu'un bloc peut contenir d'autres blocs. Cela permet de hiérarchiser et de structurer le code de manière complexe. Par exemple, une fonction peut contenir une boucle, et cette boucle peut elle-même contenir un bloc conditionnel, et ainsi de suite.\n",
    "\n",
    "Indentation : En Python, contrairement à certains autres langages, l'indentation est cruciale pour définir les blocs d'instructions. Les lignes de code appartenant au même bloc doivent être indentées de la même manière, ce qui garantit la lisibilité du code"
   ]
  },
  {
   "cell_type": "markdown",
   "metadata": {
    "colab_type": "text",
    "id": "GCRRr0YTdpRc"
   },
   "source": [
    "### Les instructions conditionnelles  :\n",
    "\n",
    "\n",
    "Les instructions conditionnelles, également appelées structures de contrôle conditionnelles, sont un élément essentiel de la programmation. Elles permettent à un programme de prendre des décisions basées sur des conditions spécifiques. En Python, les instructions conditionnelles les plus couramment utilisées sont `if`, `elif` (else if), et `else`. Voici une explication détaillée des instructions conditionnelles :\n",
    "\n",
    "1. **Instruction `if` :** L'instruction `if` permet d'exécuter un bloc de code uniquement si une condition spécifiée est évaluée comme vraie (True). La syntaxe de base est la suivante :\n",
    "```python\n",
    "   if condition:\n",
    "       # Bloc de code à exécuter si la condition est vraie\n",
    "```\n",
    "Par exemple, vous pouvez utiliser une instruction if pour vérifier si un nombre est positif.\n",
    "\n",
    "2. Instruction elif (Else If) : L'instruction elif est utilisée pour spécifier une condition alternative à vérifier si la première condition (if) n'est pas remplie. Elle permet de gérer plusieurs conditions différentes. Voici comment elle est utilisée :\n",
    "\n",
    "```python\n",
    "\n",
    "if condition1:\n",
    "    # Bloc de code à exécuter si condition1 est vraie\n",
    "elif condition2:\n",
    "    # Bloc de code à exécuter si condition2 est vraie\n",
    "```\n",
    "Par exemple, vous pouvez utiliser elif pour vérifier si un nombre est nul, positif ou négatif.\n",
    "\n",
    "3. Instruction else : L'instruction else est utilisée pour spécifier un bloc de code à exécuter si aucune des conditions précédentes n'est vraie. Elle est souvent utilisée comme option de secours lorsque toutes les autres conditions échouent. Voici comment elle est utilisée :\n",
    "\n",
    "```python\n",
    "\n",
    "if condition:\n",
    "    # Bloc de code à exécuter si la condition est vraie\n",
    "else:\n",
    "    # Bloc de code à exécuter si la condition n'est pas vraie\n",
    "```\n",
    "Par exemple, dans l'exemple précédent, le bloc de code associé à else sera exécuté lorsque nombre est égal à 0."
   ]
  },
  {
   "cell_type": "code",
   "execution_count": 1,
   "metadata": {
    "colab": {},
    "colab_type": "code",
    "id": "36oymtgkdebr"
   },
   "outputs": [],
   "source": [
    "def test_du_signe(valeur):\n",
    "  if valeur < 0:\n",
    "    print('négatif')\n",
    "  elif valeur == 0:\n",
    "    print('nul')\n",
    "  else:\n",
    "    print('positif')"
   ]
  },
  {
   "cell_type": "code",
   "execution_count": 4,
   "metadata": {
    "colab": {
     "base_uri": "https://localhost:8080/",
     "height": 34
    },
    "colab_type": "code",
    "id": "eCbpqCywfazE",
    "outputId": "5f69f649-4092-473e-ed5a-2f97203b2752"
   },
   "outputs": [
    {
     "name": "stdout",
     "output_type": "stream",
     "text": [
      "négatif\n",
      "positif\n",
      "nul\n"
     ]
    }
   ],
   "source": [
    "(test_du_signe(-2))\n",
    "(test_du_signe(2))\n",
    "(test_du_signe(0))"
   ]
  },
  {
   "cell_type": "markdown",
   "metadata": {
    "colab_type": "text",
    "id": "CaHzgd9lfq5o"
   },
   "source": [
    "Note importante : Une condition est respectée si et seulement si elle correspond au résultat **booléen True**."
   ]
  },
  {
   "cell_type": "code",
   "execution_count": 5,
   "metadata": {
    "colab": {
     "base_uri": "https://localhost:8080/",
     "height": 51
    },
    "colab_type": "code",
    "id": "eT4ffeSrfeB2",
    "outputId": "80a81a89-0672-4812-a264-24e5014b059f"
   },
   "outputs": [
    {
     "name": "stdout",
     "output_type": "stream",
     "text": [
      "True\n",
      "négatif\n"
     ]
    }
   ],
   "source": [
    "valeur = -2\n",
    "print(valeur < 0) # le résultat de cette comparaison est True\n",
    "\n",
    "if valeur < 0:\n",
    "  print('négatif')"
   ]
  },
  {
   "cell_type": "markdown",
   "metadata": {
    "colab_type": "text",
    "id": "EPk6O53vhZkW"
   },
   "source": [
    "Cela permet de développer des algorithmes avec des mélanges d'opéations Logiques et d'opérations de comparaisons. Par exemple : *si il fait beau et qu'il faut chaud, alors j'irai me baigner*"
   ]
  },
  {
   "cell_type": "code",
   "execution_count": 6,
   "metadata": {
    "colab": {
     "base_uri": "https://localhost:8080/",
     "height": 34
    },
    "colab_type": "code",
    "id": "52NzMgaegVhP",
    "outputId": "e8996961-8d44-4da2-d7ae-45c8798dd543"
   },
   "outputs": [
    {
     "name": "stdout",
     "output_type": "stream",
     "text": [
      "x et y ne sont pas tous les 2 positifs\n"
     ]
    }
   ],
   "source": [
    "x = 3\n",
    "y = -1\n",
    "if (x>0) and (y>0):\n",
    "  print('x et y sont positifs')\n",
    "else:\n",
    "  print('x et y ne sont pas tous les 2 positifs')"
   ]
  },
  {
   "cell_type": "markdown",
   "metadata": {
    "colab_type": "text",
    "id": "X7ySgVEwhbFd"
   },
   "source": [
    "### 2. Les instructions itératives For, while\n",
    "Dans Python, les instructions itératives, notamment les boucles for et while, sont des structures de contrôle permettant de répéter des actions ou des séquences d'instructions un certain nombre de fois ou tant qu'une condition est remplie. Elles sont essentielles pour automatiser des tâches répétitives et pour parcourir des collections de données telles que des listes, des chaînes de caractères, ou des dictionnaires. Voici une présentation et une description détaillée de chacune de ces boucles :\n",
    "#### 1- Boucle for\n",
    "a boucle for est utilisée pour parcourir une séquence (comme une liste, une chaîne de caractères, un dictionnaire, etc.) et exécuter un bloc de code pour chaque élément de la séquence. La syntaxe de base de la boucle for est la suivante :\n",
    "\n",
    "```python\n",
    "\n",
    "for element in sequence:\n",
    "    # Bloc de code à exécuter pour chaque élément\n",
    "```\n",
    "- element : Une variable qui prend la valeur de chaque élément de la séquence à chaque itération.\n",
    "- sequence : La séquence à parcourir, telle qu'une liste, une chaîne de caractères, ou une plage générée par range().\n",
    "Exemple d'utilisation de la boucle for :\n"
   ]
  },
  {
   "cell_type": "code",
   "execution_count": 13,
   "metadata": {
    "colab": {
     "base_uri": "https://localhost:8080/",
     "height": 187
    },
    "colab_type": "code",
    "id": "4O5B4LHbhMze",
    "outputId": "6c890d52-f5fe-4ed7-e674-314687a88d70"
   },
   "outputs": [
    {
     "name": "stdout",
     "output_type": "stream",
     "text": [
      "0\n",
      "1\n",
      "2\n",
      "3\n",
      "4\n",
      "5\n",
      "6\n",
      "7\n",
      "8\n",
      "9\n"
     ]
    }
   ],
   "source": [
    "# range(début, fin, pas) est une built-in fonction tres utile de python qui retourne un itérable.\n",
    "for i in range(0, 10):\n",
    "  print(i)"
   ]
  },
  {
   "cell_type": "code",
   "execution_count": 16,
   "metadata": {
    "colab": {
     "base_uri": "https://localhost:8080/",
     "height": 357
    },
    "colab_type": "code",
    "id": "aZSpQmXRjJGx",
    "outputId": "87cbbc20-302d-42b3-aa70-c2f8ef4e8ef9"
   },
   "outputs": [
    {
     "name": "stdout",
     "output_type": "stream",
     "text": [
      "-10\n",
      "négatif\n",
      "-8\n",
      "négatif\n",
      "-6\n",
      "négatif\n",
      "-4\n",
      "négatif\n",
      "-2\n",
      "négatif\n",
      "0\n",
      "nul\n",
      "2\n",
      "positif\n",
      "4\n",
      "positif\n",
      "6\n",
      "positif\n",
      "8\n",
      "positif\n"
     ]
    }
   ],
   "source": [
    "# on peut s'amuser a combiner cette boucle avec notre fonction de tout a l'heure.\n",
    "for i in range(-10, 10, 2):\n",
    "  print(i)\n",
    "  test_du_signe(i)"
   ]
  },
  {
   "cell_type": "markdown",
   "metadata": {
    "colab_type": "text",
    "id": "_saAMgPukHO-"
   },
   "source": [
    "### 2. Boucle While\n",
    "La boucle while permet d'exécuter un bloc de code tant qu'une condition spécifiée reste vraie. Elle est utile lorsque vous ne savez pas à l'avance combien d'itérations seront nécessaires. La syntaxe de base de la boucle while est la suivante :\n",
    "\n",
    "```python\n",
    "\n",
    "while condition:\n",
    "    # Bloc de code à exécuter tant que la condition est vraie\n",
    "```\n",
    "condition : Une expression booléenne qui est évaluée à chaque itération. La boucle continue tant que cette condition est vraie."
   ]
  },
  {
   "cell_type": "code",
   "execution_count": 17,
   "metadata": {
    "colab": {
     "base_uri": "https://localhost:8080/",
     "height": 187
    },
    "colab_type": "code",
    "id": "M8qYGgBkj3m9",
    "outputId": "cb4df7df-e53c-4a74-ed59-7a83a72f4540"
   },
   "outputs": [
    {
     "name": "stdout",
     "output_type": "stream",
     "text": [
      "0\n",
      "1\n",
      "2\n",
      "3\n",
      "4\n",
      "5\n",
      "6\n",
      "7\n",
      "8\n",
      "9\n"
     ]
    }
   ],
   "source": [
    "x = 0\n",
    "while x < 10:\n",
    "  print(x)\n",
    "  x += 1 # incrémente x de 1 (équivalent de x = x+1)"
   ]
  },
  {
   "cell_type": "markdown",
   "metadata": {
    "colab_type": "text",
    "id": "uky4XsM2k1WE"
   },
   "source": [
    "## Exercices \n",
    "### Exercices Partie 1\n",
    "1. Modifiez la fonction e_potentielle définie plus haut pour retourner une valeur indiquant si l'energie calculée est supérieure ou inférieur a une **energie_limite** passée en tant que $4^{eme}$ argument\n",
    "\n",
    "\n",
    "\n",
    "2. Créez une fonction Python qui prend deux nombres et un opérateur (+, -, *, /) en entrée.\n",
    "Effectuez l'opération arithmétique correspondante et renvoyez le résultat.\n",
    "Testez la fonction avec diverses valeurs d'entrée et d'opérateurs.\n",
    "\n",
    "\n",
    "3. Écrivez une fonction Python qui calcule l'aire d'un cercle en fonction de son rayon.\n",
    "Utilisez la formule `aire = π * r^2`, où π (pi) est une constante.\n",
    "Permettez à l'utilisateur de saisir le rayon et affichez l'aire.\n",
    "\n",
    "\n",
    "4. Créez un programme Python capable de convertir entre les températures Celsius et Fahrenheit.\n",
    "Écrivez des fonctions pour la conversion de Celsius en Fahrenheit et vice versa.\n",
    "Demandez à l'utilisateur de saisir la température et affichez la température convertie.\n",
    "\n",
    "\n",
    "5. Écrivez une fonction Python qui vérifie si un entier donné est pair ou impair.\n",
    "Utilisez des déclarations conditionnelles (if/else) pour déterminer et renvoyer le résultat.\n",
    "Testez la fonction avec divers nombres.\n",
    "\n",
    "\n",
    "6. Développez une fonction Python qui vérifie si une chaîne donnée est un palindrome (se lit de la même manière de gauche à droite et de droite à gauche).\n",
    "Supprimez les espaces et convertissez la chaîne en minuscules pour une vérification insensible à la casse.\n",
    "Renvoyez True s'il s'agit d'un palindrome et False sinon.\n",
    "Testez la fonction avec différents mots et phrases.\n",
    "\n",
    "### Exercices Partie 2\n",
    "1. Implémentez la **suite de Fibonacci** [0, 1, 1, 2, 3, 5, 8, 13, 21, ...] qui part de 2 nombres a=0 et b=1, et qui calcule le nombre suivant en additionnant les 2 nombres précédents.\n",
    "\n",
    "Indices :\n",
    "- Pour cet exercice vous aurez besoin d'une bouce **While**\n",
    "- Vous pouvez imprimer cette suite jusqu'a atteindre un nombre **n** que vous aurez choisit\n",
    "- dans python il est possible de mettre a jour 2 variables simultannément sur la meme lignes : **a, b = b, a+b**"
   ]
  },
  {
   "cell_type": "markdown",
   "metadata": {
    "colab": {},
    "colab_type": "code",
    "id": "3wKUNitUntVE"
   },
   "source": [
    "2. Implémentez l'algorithme du jeu \"trouver le nombre\" qui est le suivant :\n",
    "Un nombre aléatoire sera généré et le but est de le trouver.\n",
    "- À chaque itération, l'utilisateur essaie de deviner le nombre.\n",
    "- si l'utilisateur devine le numéro correctement, le jeu se terminera et un message de félicitations apparaîtra\n",
    "- si l'utilisateur donne un nombre supérieur, un message \"inférieur\" apparaîtra\n",
    "- si l'utilisateur donne un nombre bas, un message \"supérieur\" apparaîtra"
   ]
  },
  {
   "cell_type": "code",
   "execution_count": 13,
   "metadata": {},
   "outputs": [
    {
     "name": "stdout",
     "output_type": "stream",
     "text": [
      "901\n"
     ]
    }
   ],
   "source": [
    "#vous pouvez utiliser la function random \n",
    "import random\n",
    "x= random.randint(0,1000)\n",
    "print(x)"
   ]
  },
  {
   "cell_type": "markdown",
   "metadata": {},
   "source": [
    "3. Write a Python program that prints all the multiples of 5 between 1 and 50 (inclusive).\n",
    "\n",
    "4. Create a Python function that calculates the factorial of a given positive integer. Ask the user for input and display the result.\n",
    "\n",
    "5. Create a Python program that generates prime numbers within a specified range. Ask the user to input the range and display the prime numbers found."
   ]
  },
  {
   "cell_type": "markdown",
   "metadata": {
    "colab_type": "text",
    "id": "zZAigZmjo-Eu"
   },
   "source": [
    "# TP 2: Structure de données\n",
    "##  Listes et Tuples\n",
    "\n",
    "En Python, les listes et les tuples sont deux structures de données fondamentales qui permettent de stocker et de gérer des collections d'éléments. Bien qu'ils partagent certaines similitudes, ils présentent des différences essentielles en termes de mutabilité, d'utilisation et de syntaxe. Voici une introduction aux listes et aux tuples en Python :\n",
    "\n",
    "- Listes en Python :\n",
    "\n",
    "    Une liste est une collection ordonnée et mutable d'éléments.\n",
    "    Les éléments d'une liste sont séparés par des virgules et sont entourés de crochets [].\n",
    "    Les listes peuvent contenir des éléments de différents types (nombres, chaînes de caractères, autres listes, objets, etc.).\n",
    "    Les listes peuvent être modifiées après leur création, ce qui signifie que vous pouvez ajouter, supprimer ou modifier des éléments.\n",
    "    Pour accéder à un élément d'une liste, utilisez son index (l'indice), en commençant par 0 pour le premier élément.\n",
    "    Exemple : ma_liste = [1, 2, 3, 'quatre', 'cinq']\n",
    "\n",
    "- Tuples en Python :\n",
    "\n",
    "    Un tuple est une collection ordonnée et immuable d'éléments.\n",
    "    Les éléments d'un tuple sont séparés par des virgules et sont entourés de parenthèses ().\n",
    "    Les tuples peuvent également contenir des éléments de différents types.\n",
    "    Contrairement aux listes, les tuples ne peuvent pas être modifiés après leur création. Ils sont immuables.\n",
    "    Pour accéder à un élément d'un tuple, utilisez son index de la même manière qu'avec les listes.\n",
    "    Exemple : mon_tuple = (1, 2, 3, 'quatre', 'cinq')\n",
    "\n",
    "- Utilisation Courante :\n",
    "\n",
    "    Les listes sont couramment utilisées pour stocker des collections d'éléments lorsque vous avez besoin de modifier ces éléments au fil du temps. Par exemple, une liste peut représenter une liste de tâches à faire, des éléments dans un panier d'achat, etc.\n",
    "    Les tuples sont souvent utilisés lorsque vous voulez vous assurer que les données restent constantes et ne doivent pas être modifiées accidentellement. Par exemple, les coordonnées géographiques d'un lieu, les dimensions d'un objet, etc.-"
   ]
  },
  {
   "cell_type": "markdown",
   "metadata": {
    "colab_type": "text",
    "id": "GYmh0u3Gp2vR"
   },
   "source": [
    "###  Création de Listes et de Tuples\n",
    "une liste ou un tuple peuvent contenir tout types de valeurs (int, float, bool, string). On dit que ce sont des structures hétérogenes.\n",
    "\n",
    "La différence entre les 2 est qu'une liste est **mutable** alors qu'un Tuple ne l'est pas (on ne peut pas le changer apres qu'il soit crée)"
   ]
  },
  {
   "cell_type": "code",
   "execution_count": 1,
   "metadata": {
    "colab": {},
    "colab_type": "code",
    "id": "lMrHIDBro9Ul"
   },
   "outputs": [],
   "source": [
    "# Listes\n",
    "liste_1 = [1, 4, 2, 7, 35, 84]\n",
    "villes = ['Paris', 'Berlin', 'Londres', 'Bruxelles']\n",
    "nested_list = [liste_1, villes] # une liste peut meme contenir des listes ! On appelle cela une nested list\n",
    "\n",
    "#Tuples\n",
    "tuple_1 = (1, 2, 6, 2)"
   ]
  },
  {
   "cell_type": "code",
   "execution_count": 2,
   "metadata": {
    "colab": {
     "base_uri": "https://localhost:8080/",
     "height": 34
    },
    "colab_type": "code",
    "id": "6fmme6vsq9mp",
    "outputId": "9eb5c9e1-ecef-4560-8e22-318e683a3d9d"
   },
   "outputs": [
    {
     "name": "stdout",
     "output_type": "stream",
     "text": [
      "['Paris', 'Berlin', 'Londres', 'Bruxelles']\n"
     ]
    }
   ],
   "source": [
    "print(villes)"
   ]
  },
  {
   "cell_type": "markdown",
   "metadata": {
    "colab_type": "text",
    "id": "if5Og4U5rFJT"
   },
   "source": [
    "### Indexing et Slicing\n",
    "Indexing :\n",
    "\n",
    "En Python, l'indexing fait référence à l'accès à un élément spécifique dans une séquence (comme une liste, une chaîne de caractères ou un tuple) en utilisant un numéro d'index. L'index est un entier qui identifie la position de l'élément dans la séquence. Voici quelques points importants concernant l'indexing :\n",
    "\n",
    "- L'indexing commence généralement à 0 pour le premier élément de la séquence. Par exemple, 0 est l'index du premier élément, 1 est l'index du deuxième élément, et ainsi de suite.\n",
    "- Vous pouvez également utiliser des indices négatifs pour compter à partir de la fin de la séquence. \n",
    "        Par exemple, \n",
    "        - 1 représente le dernier élément, \n",
    "        - 2 le deuxième élément en partant de la fin, et ainsi de suite.\n",
    "- Pour accéder à un élément spécifique, utilisez la notation [indice] après le nom de la séquence. Par exemple, ma_liste[0] accède au premier élément d'une liste.\n",
    "- Si l'indice spécifié est en dehors de la plage valide, une erreur \"IndexError\" sera levée.\n",
    "\n",
    "Slicing :\n",
    "\n",
    "Le slicing en Python consiste à extraire une partie d'une séquence en spécifiant une plage d'indices. Il vous permet de créer une nouvelle séquence à partir d'une partie de la séquence d'origine. Voici comment fonctionne le slicing :\n",
    "\n",
    "- Utilisez la notation [début:fin] après le nom de la séquence pour spécifier la plage d'indices que vous souhaitez extraire.\n",
    "- Le slicing inclut l'élément au niveau de l'index de début, mais exclut l'élément au niveau de l'index de fin. Cela signifie que ma_liste[1:4] extrait les éléments à l'indice 1, 2 et 3, mais pas l'élément à l'indice 4.\n",
    "- Si vous omettez l'indice de début, le slicing commencera à partir du premier élément. Si vous omettez l'indice de fin, le slicing ira jusqu'au dernier élément inclus.\n",
    "- Vous pouvez également spécifier un pas en ajoutant un troisième paramètre [début:fin:pas]. Par exemple, ma_liste[0:5:2] extraira les éléments aux indices 0, 2 et 4.\n",
    "- Le slicing fonctionne de la même manière pour les chaînes de caractères et les tuples."
   ]
  },
  {
   "cell_type": "code",
   "execution_count": 7,
   "metadata": {
    "colab": {
     "base_uri": "https://localhost:8080/",
     "height": 85
    },
    "colab_type": "code",
    "id": "J1EuMMrSq_X2",
    "outputId": "a642c0a2-9906-4478-f0e1-3c766f32dbd8"
   },
   "outputs": [
    {
     "name": "stdout",
     "output_type": "stream",
     "text": [
      "séquence complete: ['Paris', 'Berlin', 'Londres', 'Bruxelles']\n",
      "index 0: Paris\n",
      "index 1: Berlin\n",
      "dernier index (-1): Bruxelles\n"
     ]
    }
   ],
   "source": [
    "# INDEXING\n",
    "\n",
    "print('séquence complete:', villes)\n",
    "print('index 0:', villes[0])\n",
    "print('index 1:', villes[1])\n",
    "print('dernier index (-1):', villes[-1])"
   ]
  },
  {
   "cell_type": "code",
   "execution_count": 9,
   "metadata": {
    "colab": {
     "base_uri": "https://localhost:8080/",
     "height": 85
    },
    "colab_type": "code",
    "id": "8rmbVqLNsHIy",
    "outputId": "39855646-5c98-4c97-cac4-fec5c2b9428d"
   },
   "outputs": [
    {
     "name": "stdout",
     "output_type": "stream",
     "text": [
      "séquence complete: ['Paris', 'Berlin', 'Londres', 'Bruxelles']\n",
      "index 0-2: ['Paris', 'Berlin', 'Londres']\n",
      "index 1-2: ['Berlin', 'Londres']\n",
      "ordre inverse: ['Bruxelles', 'Londres', 'Berlin', 'Paris']\n"
     ]
    }
   ],
   "source": [
    "# SLICING [début (inclus) : fin (exclus) : pas]\n",
    "\n",
    "print('séquence complete:', villes)\n",
    "print('index 0-2:', villes[0:3])\n",
    "print('index 1-2:', villes[1:3])\n",
    "print('ordre inverse:', villes[::-1])"
   ]
  },
  {
   "cell_type": "markdown",
   "metadata": {
    "colab_type": "text",
    "id": "9i0rLn2TtUwd"
   },
   "source": [
    "### Actions utiles sur les listes\n",
    "\n",
    "- append(element):\n",
    "append is a list method that adds a specified element to the end of the list.\n",
    "It is commonly used when you want to add a single element to the existing list.\n",
    "\n",
    "- insert(index, element):\n",
    "insert is a list method that allows you to insert an element at a specific index (position) within the list.\n",
    "You provide both the index where you want to insert the element and the element itself.\n",
    "\n",
    "- extend(iterable):\n",
    "extend is a list method used to add multiple elements to the end of an existing list.\n",
    "It takes an iterable (such as a list, tuple, or string) as an argument and appends all its elements to the end of the list.\n",
    "\n",
    "- sort(reverse=False):\n",
    "sort is a list method that arranges the elements of the list in a specific order.\n",
    "By default, it sorts the list in ascending order (from lowest to highest). You can also use reverse=True to sort in descending order.\n",
    "\n",
    "- count(element):\n",
    "count is a list method that counts the number of occurrences of a specific element in the list.\n",
    "It is useful when you want to determine how many times a particular value appears in the list."
   ]
  },
  {
   "cell_type": "code",
   "execution_count": 3,
   "metadata": {
    "colab": {
     "base_uri": "https://localhost:8080/",
     "height": 136
    },
    "colab_type": "code",
    "id": "8zJbTtPytH3G",
    "outputId": "4ef03019-4ace-4717-e729-197d308a2bd8"
   },
   "outputs": [
    {
     "name": "stdout",
     "output_type": "stream",
     "text": [
      "['Paris', 'Berlin', 'Londres', 'Bruxelles']\n",
      "['Paris', 'Berlin', 'Londres', 'Bruxelles', 'Dublin']\n",
      "['Paris', 'Berlin', 'Madrid', 'Londres', 'Bruxelles', 'Dublin']\n",
      "['Paris', 'Berlin', 'Madrid', 'Londres', 'Bruxelles', 'Dublin', 'Amsterdam', 'Rome']\n",
      "longeur de la liste: 8\n",
      "['Amsterdam', 'Berlin', 'Bruxelles', 'Dublin', 'Londres', 'Madrid', 'Paris', 'Rome']\n",
      "1\n"
     ]
    }
   ],
   "source": [
    "villes = ['Paris', 'Berlin', 'Londres', 'Bruxelles'] # liste initiale\n",
    "print(villes)\n",
    "\n",
    "villes.append('Dublin') # Rajoute un élément a la fin de la liste\n",
    "print(villes)\n",
    "\n",
    "villes.insert(2, 'Madrid') # Rajoute un élément a l'index indiqué\n",
    "print(villes)\n",
    "\n",
    "villes.extend(['Amsterdam', 'Rome']) # Rajoute une liste a la fin de notre liste\n",
    "print(villes)\n",
    "\n",
    "print('longeur de la liste:', len(villes)) #affiche la longueur de la liste\n",
    "\n",
    "villes.sort(reverse=False) # trie la liste par ordre alphabétique / numérique\n",
    "print(villes)\n",
    "\n",
    "print(villes.count('Paris')) # compte le nombre de fois qu'un élément apparait dans la liste"
   ]
  },
  {
   "cell_type": "markdown",
   "metadata": {
    "colab_type": "text",
    "id": "mUhBRJwqvg1p"
   },
   "source": [
    "Les listes et les tuples fonctionnent en harmonies avec les structures de controle **if/else** et **For**"
   ]
  },
  {
   "cell_type": "code",
   "execution_count": 23,
   "metadata": {
    "colab": {
     "base_uri": "https://localhost:8080/",
     "height": 34
    },
    "colab_type": "code",
    "id": "XjHrv7HjuFCE",
    "outputId": "117ddbc4-cfa8-4de5-bdc2-6e8417604a5c"
   },
   "outputs": [
    {
     "name": "stdout",
     "output_type": "stream",
     "text": [
      "oui\n"
     ]
    }
   ],
   "source": [
    "if 'Paris' in villes:\n",
    "  print('oui')\n",
    "else:\n",
    "  print('non')"
   ]
  },
  {
   "cell_type": "code",
   "execution_count": 24,
   "metadata": {
    "colab": {
     "base_uri": "https://localhost:8080/",
     "height": 153
    },
    "colab_type": "code",
    "id": "HHSiF8g5vyEh",
    "outputId": "34f919cf-1d0e-43cb-9bc4-19281d9d8872"
   },
   "outputs": [
    {
     "name": "stdout",
     "output_type": "stream",
     "text": [
      "Amsterdam\n",
      "Berlin\n",
      "Bruxelles\n",
      "Dublin\n",
      "Londres\n",
      "Madrid\n",
      "Paris\n",
      "Rome\n"
     ]
    }
   ],
   "source": [
    "for element in villes:\n",
    "  print(element)"
   ]
  },
  {
   "cell_type": "markdown",
   "metadata": {
    "colab_type": "text",
    "id": "z8o9svv2v88a"
   },
   "source": [
    "### enumerate en Python :\n",
    "\n",
    "La fonction enumerate en Python est une fonction intégrée qui est utilisée pour énumérer les éléments d'une séquence, comme une liste ou une chaîne de caractères, tout en fournissant leur indice (position) dans la séquence. Elle est couramment utilisée dans les boucles pour accéder à la fois à l'élément et à son indice. Voici une explication en français :\n",
    "\n",
    "    enumerate est une fonction qui prend en entrée une séquence (comme une liste ou une chaîne de caractères) et renvoie un objet itérable qui produit des paires (indice, élément).\n",
    "    L'indice commence généralement à 0 pour le premier élément de la séquence, puis s'incrémente à chaque itération.\n",
    "    La fonction enumerate est utile lorsque vous avez besoin à la fois de la valeur de l'élément et de son indice dans une boucle.\n",
    "    Elle permet d'améliorer la lisibilité du code en évitant d'utiliser une variable de compteur pour suivre l'indice."
   ]
  },
  {
   "cell_type": "code",
   "execution_count": 4,
   "metadata": {
    "colab": {
     "base_uri": "https://localhost:8080/",
     "height": 153
    },
    "colab_type": "code",
    "id": "w9t8cMPzv1Ug",
    "outputId": "579039b4-91a6-4f8a-bfcd-e9d2adee574d"
   },
   "outputs": [
    {
     "name": "stdout",
     "output_type": "stream",
     "text": [
      "0 Amsterdam\n",
      "1 Berlin\n",
      "2 Bruxelles\n",
      "3 Dublin\n",
      "4 Londres\n",
      "5 Madrid\n",
      "6 Paris\n",
      "7 Rome\n"
     ]
    }
   ],
   "source": [
    "for index, element in enumerate(villes):\n",
    "  print(index, element)"
   ]
  },
  {
   "cell_type": "markdown",
   "metadata": {
    "colab_type": "text",
    "id": "r7pQ6Yl_wd-B"
   },
   "source": [
    "### zip en Python :\n",
    "\n",
    "La fonction zip en Python est une fonction intégrée qui combine plusieurs séquences (telles que des listes ou des tuples) en une seule séquence, en associant les éléments correspondants par position. Voici une explication en français :\n",
    "\n",
    "    zip prend en entrée une ou plusieurs séquences de même longueur et renvoie un objet itérable qui produit des tuples contenant les éléments correspondants de chaque séquence.\n",
    "    Les séquences doivent avoir la même longueur, sinon zip s'arrêtera lorsque la séquence la plus courte sera épuisée.\n",
    "    La fonction zip est couramment utilisée pour regrouper des données connexes à partir de différentes séquences, par exemple, lors de la création d'une liste de paires de valeurs à partir de deux listes distinctes.\n",
    "    Elle permet de simplifier le code en évitant l'utilisation de boucles pour parcourir simultanément plusieurs séquences."
   ]
  },
  {
   "cell_type": "code",
   "execution_count": 7,
   "metadata": {
    "colab": {
     "base_uri": "https://localhost:8080/",
     "height": 136
    },
    "colab_type": "code",
    "id": "Ej3rTRqawN2i",
    "outputId": "48fc7aec-a096-4582-ae47-27eb0973b522"
   },
   "outputs": [
    {
     "name": "stdout",
     "output_type": "stream",
     "text": [
      "1  -  Amsterdam 312\n",
      "2  -  Berlin 52\n",
      "3  -  Bruxelles 654\n",
      "4  -  Dublin 23\n",
      "5  -  Londres 65\n",
      "6  -  Madrid 12\n",
      "7  -  Paris 678\n"
     ]
    }
   ],
   "source": [
    "liste_2 = [312, 52, 654, 23, 65, 12, 678]\n",
    "liste_3 = [1, 2, 3, 4, 5, 6, 7]\n",
    "for element_1, element_2,element_3 in zip(villes, liste_2,liste_3):\n",
    "  print(element_3,\" - \",element_1, element_2)"
   ]
  },
  {
   "cell_type": "markdown",
   "metadata": {
    "colab_type": "text",
    "id": "joYmh7TZyu-I"
   },
   "source": [
    "## Dictionnaires\n",
    "Les dictionnaires sont des structures de controle **non-ordonnées**, c'est-a-dire que les valeurs qu'ils contiennent ne sont pas rangée selon un index, mais suivant une **clef unique**.\n",
    "\n",
    "Une utilisation parfaite des dictionnaires est pour regrouper ensemble des \"variables\" dans un meme conténaire. (ces variables ne sont pas de vraies variables, mais des **keys**).\n",
    "\n",
    "*On peut par exemple crée un dictionnaire inventaire qui regroupe plusieurs produits (les clefs) et leur quantités (les valeurs)*\n",
    "\n",
    "1. Dict.values() :\n",
    "\n",
    "    Dict.values() est une méthode de dictionnaire qui renvoie une vue d'ensemble (view) des valeurs du dictionnaire.\n",
    "    Cette vue d'ensemble contient toutes les valeurs du dictionnaire, sans les clés associées.\n",
    "    Il est couramment utilisé pour accéder à toutes les valeurs d'un dictionnaire sans avoir besoin de parcourir les clés.\n",
    "\n",
    "3. Dict.keys() :\n",
    "\n",
    "    Dict.keys() est une méthode de dictionnaire qui renvoie une vue d'ensemble des clés du dictionnaire.\n",
    "    Cette vue d'ensemble contient toutes les clés du dictionnaire, sans les valeurs associées.\n",
    "    Elle est utilisée pour accéder à toutes les clés du dictionnaire, ce qui est utile lorsque vous avez besoin de parcourir les clés ou de vérifier si une clé spécifique existe dans le dictionnaire.\n",
    "\n",
    "4. Dict.fromkeys() :\n",
    "\n",
    "    Dict.fromkeys(iterable, valeur_par_défaut) est une méthode de classe qui crée un nouveau dictionnaire avec des clés à partir des éléments de l'itérable fourni.\n",
    "    Chaque clé est associée à la même valeur par défaut spécifiée. Si aucune valeur par défaut n'est fournie, les clés sont associées à None.\n",
    "    Elle est utilisée pour initialiser un dictionnaire avec des clés à partir d'une séquence donnée, par exemple une liste ou un tuple.\n",
    "\n",
    "5. Obtenir des informations (inventaire['clé'] = 30 ou inventaire.get('pommes')) :\n",
    "\n",
    "    Vous pouvez obtenir des informations à partir d'un dictionnaire en utilisant la notation de crochets (dictionnaire['clé']) pour accéder à la valeur associée à une clé spécifique.\n",
    "    L'opération dictionnaire.get('clé') permet également d'obtenir la valeur associée à une clé, mais elle est plus sûre car elle ne génère pas d'erreur si la clé n'existe pas dans le dictionnaire. Elle renvoie plutôt None ou une valeur par défaut spécifiée.\n",
    "\n",
    "6. Dict.pop(\"clé\") :\n",
    "\n",
    "    Dict.pop(\"clé\") est une méthode qui supprime l'élément associé à la clé spécifiée dans le dictionnaire et renvoie la valeur de cet élément.\n",
    "    Si la clé n'existe pas dans le dictionnaire, elle peut renvoyer une erreur si une valeur par défaut n'est pas spécifiée.\n",
    "\n",
    "7. Dict.keys(), Dict.values(), Dict.items() :\n",
    "\n",
    "    Dict.keys() renvoie une vue d'ensemble des clés du dictionnaire.\n",
    "    Dict.values() renvoie une vue d'ensemble des valeurs du dictionnaire.\n",
    "    Dict.items() renvoie une vue d'ensemble des paires clé-valeur du dictionnaire.\n",
    "    Ces méthodes sont couramment utilisées pour parcourir ou examiner les clés, les valeurs ou les paires clé-valeur dans un dictionnaire.\n"
   ]
  },
  {
   "cell_type": "code",
   "execution_count": 1,
   "metadata": {
    "colab": {},
    "colab_type": "code",
    "id": "IxAbYNGyypdD"
   },
   "outputs": [],
   "source": [
    "inventaire = {'pommes': 100,\n",
    "              'bananes': 80,\n",
    "              'poires': 120}"
   ]
  },
  {
   "cell_type": "code",
   "execution_count": 2,
   "metadata": {
    "colab": {
     "base_uri": "https://localhost:8080/",
     "height": 34
    },
    "colab_type": "code",
    "id": "KIMrwYSF0WOx",
    "outputId": "c44e65a3-4efa-4d94-e0a3-c64872120894"
   },
   "outputs": [
    {
     "data": {
      "text/plain": [
       "dict_values([100, 80, 120])"
      ]
     },
     "execution_count": 2,
     "metadata": {},
     "output_type": "execute_result"
    }
   ],
   "source": [
    "inventaire.values()"
   ]
  },
  {
   "cell_type": "code",
   "execution_count": 3,
   "metadata": {
    "colab": {
     "base_uri": "https://localhost:8080/",
     "height": 34
    },
    "colab_type": "code",
    "id": "kiVf5n2J0Yxa",
    "outputId": "b829279b-d0cd-4df5-c4a1-57b1b5d1ea35"
   },
   "outputs": [
    {
     "data": {
      "text/plain": [
       "dict_keys(['pommes', 'bananes', 'poires'])"
      ]
     },
     "execution_count": 3,
     "metadata": {},
     "output_type": "execute_result"
    }
   ],
   "source": [
    "inventaire.keys()"
   ]
  },
  {
   "cell_type": "code",
   "execution_count": 4,
   "metadata": {
    "colab": {
     "base_uri": "https://localhost:8080/",
     "height": 163
    },
    "colab_type": "code",
    "id": "buwMNYZ40agi",
    "outputId": "fef58cfb-e270-45f8-9d85-386d36ca86cf"
   },
   "outputs": [
    {
     "data": {
      "text/plain": [
       "3"
      ]
     },
     "execution_count": 4,
     "metadata": {},
     "output_type": "execute_result"
    }
   ],
   "source": [
    "len(inventaire)"
   ]
  },
  {
   "cell_type": "markdown",
   "metadata": {
    "colab_type": "text",
    "id": "P3tAq8GJ0idV"
   },
   "source": [
    "Voici comment ajouter une association key/value dans notre dictionnaire (attention si la clef existe déja elle est remplacée)"
   ]
  },
  {
   "cell_type": "code",
   "execution_count": 2,
   "metadata": {
    "colab": {
     "base_uri": "https://localhost:8080/",
     "height": 34
    },
    "colab_type": "code",
    "id": "0cPXXWkY0eCZ",
    "outputId": "da888bd9-4c15-499c-c171-306d2dafb9eb"
   },
   "outputs": [
    {
     "name": "stdout",
     "output_type": "stream",
     "text": [
      "{'pommes': 100, 'bananes': 80, 'poires': 120, 'abricots': 30}\n"
     ]
    }
   ],
   "source": [
    "inventaire['abricots'] = 30\n",
    "print(inventaire)"
   ]
  },
  {
   "cell_type": "markdown",
   "metadata": {
    "colab_type": "text",
    "id": "tCIkswDN1L9m"
   },
   "source": [
    "Attention : si vous cherchez une clef qui n'existe pas dans un dictionnaire, python vous retourne une erreur. Pour éviter cela, vous pouvez utiliser la méthode **get()**"
   ]
  },
  {
   "cell_type": "code",
   "execution_count": 6,
   "metadata": {
    "colab": {},
    "colab_type": "code",
    "id": "8v_RHt9F1KGx"
   },
   "outputs": [],
   "source": [
    "inventaire.get('peches') # n'existe pas"
   ]
  },
  {
   "cell_type": "code",
   "execution_count": 7,
   "metadata": {
    "colab": {
     "base_uri": "https://localhost:8080/",
     "height": 34
    },
    "colab_type": "code",
    "id": "IlZRIOPb1Zd_",
    "outputId": "28332b9a-6ae8-4196-e464-117f74f0b2d7"
   },
   "outputs": [
    {
     "data": {
      "text/plain": [
       "100"
      ]
     },
     "execution_count": 7,
     "metadata": {},
     "output_type": "execute_result"
    }
   ],
   "source": [
    "inventaire.get('pommes') # pomme existe"
   ]
  },
  {
   "cell_type": "code",
   "execution_count": 22,
   "metadata": {},
   "outputs": [
    {
     "data": {
      "text/plain": [
       "{'dog': 0, 'cat': 0, 'bird': 0, 'fish': 0}"
      ]
     },
     "execution_count": 22,
     "metadata": {},
     "output_type": "execute_result"
    }
   ],
   "source": [
    "Animal_list =('dog','cat','bird','fish')\n",
    "Animal_number = 0\n",
    "MyAnimals={\n",
    "    \n",
    "}\n",
    "MyAnimals.fromkeys(Animal_list,Animal_number)"
   ]
  },
  {
   "cell_type": "markdown",
   "metadata": {
    "colab_type": "text",
    "id": "OC8GzBfW1pBr"
   },
   "source": [
    "la méthode **pop()** permet de retirer une clef d'un dictionnaire tout en retournant la valeur associée a la clef."
   ]
  },
  {
   "cell_type": "code",
   "execution_count": 8,
   "metadata": {
    "colab": {
     "base_uri": "https://localhost:8080/",
     "height": 51
    },
    "colab_type": "code",
    "id": "njAZZTkf1d7H",
    "outputId": "b8f4a6a6-7e3f-4e3e-cb09-328ff4c24373"
   },
   "outputs": [
    {
     "name": "stdout",
     "output_type": "stream",
     "text": [
      "{'pommes': 100, 'bananes': 80, 'poires': 120}\n",
      "30\n"
     ]
    }
   ],
   "source": [
    "abricots = inventaire.pop(\"abricots\")\n",
    "print(inventaire) # ne contient plus de clef abricots\n",
    "print(abricots) # abricots contient la valeur du dictionnaire"
   ]
  },
  {
   "cell_type": "markdown",
   "metadata": {
    "colab_type": "text",
    "id": "giJvo0ON2nxR"
   },
   "source": [
    "Pour utiliser une boucle for avec un dictionnaire, il est utile d'utiliser la méthode **items()** qui retourne a la fois les clefs et les valeurs"
   ]
  },
  {
   "cell_type": "code",
   "execution_count": 5,
   "metadata": {
    "colab": {
     "base_uri": "https://localhost:8080/",
     "height": 68
    },
    "colab_type": "code",
    "id": "pn0mt-wh1oj0",
    "outputId": "69707cdc-8127-451e-c6ea-73942f0f1128"
   },
   "outputs": [
    {
     "name": "stdout",
     "output_type": "stream",
     "text": [
      "this is the key: pommes\n",
      "this is the key: bananes\n",
      "this is the key: poires\n",
      "this is the key: abricots\n",
      "--------------\n",
      "this is the values: \n",
      "this is the values: \n",
      "this is the values: \n",
      "this is the values: \n",
      "--------------\n",
      "this is key-value: pommes,100\n",
      "this is key-value: bananes,80\n",
      "this is key-value: poires,120\n",
      "this is key-value: abricots,30\n"
     ]
    }
   ],
   "source": [
    "for key in inventaire.keys():\n",
    "  print(f'this is the key: {key}')\n",
    "print('--------------')\n",
    "for value in inventaire.values():\n",
    "  print('this is the values: '.format(value))\n",
    "print('--------------')\n",
    "for key, value in inventaire.items():\n",
    "  print(f'this is key-value: {key},{value}' )"
   ]
  },
  {
   "cell_type": "markdown",
   "metadata": {},
   "source": [
    "## Les ensembles (Sets)\n",
    "\n",
    "En Python, un ensemble (ou \"set\" en anglais) est une collection non ordonnée d'éléments uniques. Contrairement à d'autres structures de données comme les listes et les tuples, les ensembles ne permettent pas de stocker des éléments en doublon. Voici une explication détaillée sur les ensembles en Python :\n",
    "\n",
    "1. Collection Non Ordonnée :\n",
    "    Les ensembles ne maintiennent pas l'ordre d'insertion des éléments. Par conséquent, il n'y a pas d'indice associé à chaque élément dans un ensemble.\n",
    "    L'ordre des éléments dans un ensemble peut varier lorsque vous parcourez l'ensemble.\n",
    "\n",
    "2. Éléments Uniques :\n",
    "    Les ensembles ne permettent pas de stocker plusieurs fois le même élément. Si vous tentez d'ajouter un élément déjà présent dans l'ensemble, il ne sera pas ajouté une seconde fois.\n",
    "\n",
    "3. Définition d'un Ensemble :\n",
    "    Pour créer un ensemble en Python, vous pouvez utiliser des accolades {} ou la fonction set(). \n",
    "    Par exemple : \n",
    "    ```python\n",
    "    mon_set = {1, 2, 3} ou mon_set = set([1, 2, 3]).\n",
    "    ```\n",
    "    \n",
    "\n",
    "4. Opérations sur les Ensembles :\n",
    "    Les ensembles prennent en charge un ensemble d'opérations courantes, notamment l'ajout d'éléments, la suppression d'éléments, la vérification de l'appartenance d'un élément, l'union de deux ensembles, l'intersection, la différence, etc.\n",
    "\n",
    "5. Utilisations Courantes :\n",
    "    Les ensembles sont couramment utilisés pour effectuer des opérations ensemblistes, telles que la recherche d'éléments uniques dans une liste, la déduplication de données, la vérification de l'appartenance d'un élément à un ensemble de données, etc.\n",
    "\n",
    "6. Immuabilité des Éléments :\n",
    "    Les éléments stockés dans un ensemble doivent être immuables, c'est-à-dire qu'ils ne peuvent pas être modifiés une fois qu'ils sont ajoutés à l'ensemble. Les types de données immuables courants comprennent les nombres, les chaînes de caractères et les tuples.\n",
    "\n",
    "7. Itérabilité :\n",
    "    Vous pouvez parcourir les éléments d'un ensemble à l'aide d'une boucle for, mais rappelez-vous que l'ordre des éléments n'est pas garanti.\n",
    "\n",
    "8. Méthodes utiles :\n",
    "    Les ensembles disposent de nombreuses méthodes utiles, telles que add() pour ajouter un élément, remove() pour supprimer un élément, union() pour l'union de deux ensembles, intersection() pour l'intersection, difference() pour la différence, etc."
   ]
  },
  {
   "attachments": {},
   "cell_type": "markdown",
   "metadata": {
    "colab_type": "text",
    "id": "qWrT3hUL3nbN"
   },
   "source": [
    "## Exercice \n",
    "\n",
    "1. Transformer le code suivant qui donne la **suite de Fibonacci** pour enregistrer les résultats dans une liste et retourner cette liste a la fin de la fonction\n",
    "\n",
    "```python \n",
    "# Exercice :\n",
    "def fibonacci(n):\n",
    "    a = 0\n",
    "    b = 1\n",
    "    while b < n:\n",
    "      a, b = b, a+b\n",
    "      print(a)\n",
    "```\n",
    "2. Implémentez une fonction *trier(classeur, valeur)* qui place une valeur dans un dictionnaire en fonction de son signe\n",
    "\n",
    "```python \n",
    "classeur = {'négatifs':[],\n",
    "            'positifs':[]\n",
    "            }\n",
    "```\n",
    "3. Implémentez un code qui permet de lire les valeur du classeur parameters\n",
    "```python\n",
    "parameters = {'Ws':[1,2,3,4,8],\n",
    "            'Bs':[1,2,3,5,6]\n",
    "            }\n",
    "```\n",
    "\n",
    "4. Écrivez un programme Python qui permet à l'utilisateur de saisir une liste de nombres, puis ajoute un nombre supplémentaire à la fin de la liste. Ensuite, le programme doit compter combien de fois ce nombre supplémentaire apparaît dans la liste et afficher le résultat.\n",
    "\n",
    "\n",
    "\n",
    "5. Créez un tuple contenant une série de nombres. Écrivez un programme Python qui génère un nouveau tuple contenant la somme cumulative des nombres du tuple d'origine. Par exemple, si le tuple initial est (1, 2, 3, 4), le nouveau tuple devrait être (1, 3, 6, 10).\n",
    "\n",
    "\n",
    "\n",
    "6. Créez un dictionnaire de contacts en utilisant les noms comme clés et les numéros de téléphone comme valeurs. Écrivez un programme Python qui permet à l'utilisateur d'ajouter de nouveaux contacts, de rechercher un numéro de téléphone par nom, de supprimer un contact existant et d'afficher la liste complète des contacts.\n",
    "\n",
    "\n",
    "\n",
    "7. Écrivez un programme Python qui prend une liste de nombres et supprime tous les éléments de la liste qui sont plus petits qu'une valeur seuil spécifiée par l'utilisateur. Affichez la liste résultante après la suppression.\n",
    "\n",
    "\n",
    "\n",
    "8. Créez deux tuples contenant des noms d'étudiants. Écrivez un programme Python qui fusionne ces deux tuples en un seul, puis trie le tuple résultant par ordre alphabétique des noms. Affichez le tuple trié.\n",
    "\n"
   ]
  },
  {
   "cell_type": "markdown",
   "metadata": {},
   "source": []
  },
  {
   "cell_type": "markdown",
   "metadata": {
    "colab_type": "text",
    "id": "GhAiPHEG5IUO"
   },
   "source": [
    "# TP 3: List Comprehension et fonctions intégrées\n",
    "## List Comprehension\n",
    "La compréhension de liste, souvent appelée \"list comprehension\" en anglais, est une manière concise et puissante de créer des listes en Python. Elle permet de générer rapidement une nouvelle liste en appliquant une expression à chaque élément d'une séquence (comme une liste, un tuple, ou une chaîne de caractères) ou en utilisant des conditions pour filtrer les éléments de la séquence d'origine. Voici une explication détaillée de la compréhension de liste :\n",
    "\n",
    "Syntaxe de base de la compréhension de liste :\n",
    "\n",
    "La syntaxe générale de la compréhension de liste est la suivante :\n",
    "\n",
    "\n",
    "```python \n",
    "nouvelle_liste = [expression for élément in séquence if condition]\n",
    "```\n",
    "\n",
    "    nouvelle_liste : C'est la nouvelle liste que vous allez créer.\n",
    "    expression : C'est une expression Python qui sera évaluée pour chaque élément de la séquence.\n",
    "    élément : C'est une variable temporaire qui prend la valeur de chaque élément de la séquence à chaque itération.\n",
    "    séquence : C'est la séquence d'origine (liste, tuple, chaîne de caractères, etc.) que vous parcourez.\n",
    "    condition (optionnelle) : C'est une condition qui filtre les éléments de la séquence. Seuls les éléments pour lesquels cette condition est vraie seront inclus dans la nouvelle liste.\n",
    "\n",
    "Exemple d'utilisation :\n",
    "\n",
    "Voici un exemple simple de compréhension de liste pour créer une liste des carrés des nombres de 0 à 9 :\n",
    "\n",
    "\n",
    "\n",
    "```python \n",
    "carres = [x**2 for x in range(10)]\n",
    "```\n",
    "\n",
    "Dans cet exemple, x prend la valeur de chaque nombre de 0 à 9, l'expression x**2 calcule le carré de chaque nombre, et la nouvelle liste carres contient les carrés des nombres.\n",
    "\n",
    "Utilisation de la condition :\n",
    "\n",
    "Vous pouvez également utiliser une condition pour filtrer les éléments de la séquence d'origine. Par exemple, pour créer une liste des nombres pairs entre 0 et 9 :\n",
    "\n",
    "\n",
    "\n",
    "```python\n",
    "nombres_pairs = [x for x in range(10) if x % 2 == 0]\n",
    "```\n",
    "\n",
    "Dans cet exemple, seuls les nombres pairs (ceux pour lesquels x % 2 == 0 est vrai) sont inclus dans la nouvelle liste nombres_pairs.\n",
    "\n",
    "Avantages de la compréhension de liste :\n",
    "\n",
    "    Concision : La compréhension de liste permet d'exprimer des opérations de création de liste de manière concise et lisible.\n",
    "\n",
    "    Performance : Elle est généralement plus rapide que l'utilisation de boucles for traditionnelles pour la création de listes.\n",
    "\n",
    "    Clarté : Elle améliore la lisibilité du code en évitant d'avoir à déclarer une liste vide et à ajouter des éléments un par un.\n",
    "\n",
    "Les deux code ci-dessous effectuent chacun la meme opération. On peut voir (grace a la commande %%time) que le temps d'execution avec liste comprehenion est bien inférieur au temps d'execution avec la méthode append() "
   ]
  },
  {
   "cell_type": "code",
   "execution_count": 5,
   "metadata": {
    "colab": {
     "base_uri": "https://localhost:8080/",
     "height": 51
    },
    "colab_type": "code",
    "id": "Lzgj8bJa3Z4E",
    "outputId": "13281391-08be-4407-e169-7ecc21e8e80a"
   },
   "outputs": [
    {
     "name": "stdout",
     "output_type": "stream",
     "text": [
      "CPU times: user 406 ms, sys: 22.3 ms, total: 428 ms\n",
      "Wall time: 526 ms\n"
     ]
    }
   ],
   "source": [
    "%%time\n",
    "liste = []\n",
    "for i in range(1000000):\n",
    "  liste.append(i**2)"
   ]
  },
  {
   "cell_type": "code",
   "execution_count": 6,
   "metadata": {
    "colab": {
     "base_uri": "https://localhost:8080/",
     "height": 51
    },
    "colab_type": "code",
    "id": "CIvxRMVe6vsw",
    "outputId": "ba0c4b1f-805a-45c7-f845-ceea90e48eda"
   },
   "outputs": [
    {
     "name": "stdout",
     "output_type": "stream",
     "text": [
      "CPU times: user 334 ms, sys: 27.7 ms, total: 361 ms\n",
      "Wall time: 427 ms\n"
     ]
    }
   ],
   "source": [
    "%%time\n",
    "liste = [i**2 for i in range(1000000)]"
   ]
  },
  {
   "cell_type": "code",
   "execution_count": 7,
   "metadata": {},
   "outputs": [
    {
     "name": "stdout",
     "output_type": "stream",
     "text": [
      "[[0, 4, 16, 36, 64], [0, 4, 16, 36, 64], [0, 4, 16, 36, 64]]\n"
     ]
    }
   ],
   "source": [
    "liste = [[i**2 for i in range(0,10,2)] for i in range(3)]\n",
    "print(liste)"
   ]
  },
  {
   "cell_type": "markdown",
   "metadata": {
    "colab_type": "text",
    "id": "fvZgGNE18t6Z"
   },
   "source": [
    "On peut rajouter des conditions **if** dans les listes comprehension, par exemple :"
   ]
  },
  {
   "cell_type": "code",
   "execution_count": 8,
   "metadata": {
    "colab": {
     "base_uri": "https://localhost:8080/",
     "height": 34
    },
    "colab_type": "code",
    "id": "KeCjT4gz7Dgm",
    "outputId": "71ef2147-1333-4a38-aedc-f9a5874f7e2b"
   },
   "outputs": [
    {
     "name": "stdout",
     "output_type": "stream",
     "text": [
      "[0, 4, 16, 36, 64, 100, 144, 196, 256, 324]\n"
     ]
    }
   ],
   "source": [
    "liste = [i**2 for i in range(100000) if (i % 2) == 0] # calcule i**2 seulement pour les nombres pairs.\n",
    "\n",
    "print(liste[:10]) #affiche les 10 premiers éléments de la liste"
   ]
  },
  {
   "cell_type": "code",
   "execution_count": 9,
   "metadata": {},
   "outputs": [
    {
     "name": "stdout",
     "output_type": "stream",
     "text": [
      "{'adel': 0, 'omar': 1, 'moktar': 2, 'ali': 3}\n",
      "dict_keys(['adel', 'omar', 'moktar', 'ali'])\n",
      "dict_values([0, 1, 2, 3])\n"
     ]
    }
   ],
   "source": [
    "names=['adel','omar','moktar','ali']\n",
    "dico1={name:idx for idx,name in enumerate(names)}\n",
    "print((dico1))\n",
    "print(dico1.keys())\n",
    "print(dico1.values())"
   ]
  },
  {
   "cell_type": "code",
   "execution_count": 10,
   "metadata": {},
   "outputs": [
    {
     "name": "stdout",
     "output_type": "stream",
     "text": [
      "{'adel': 30, 'omar': 23, 'moktar': 25, 'ali': 26}\n",
      "dict_keys(['adel', 'omar', 'moktar', 'ali'])\n",
      "dict_values([30, 23, 25, 26])\n"
     ]
    }
   ],
   "source": [
    "ages=[30,23,25,26]\n",
    "dico2={names:ages for names,ages in zip(names,ages)}\n",
    "print((dico2))\n",
    "print(dico2.keys())\n",
    "print(dico2.values())"
   ]
  },
  {
   "cell_type": "code",
   "execution_count": 16,
   "metadata": {},
   "outputs": [
    {
     "name": "stdout",
     "output_type": "stream",
     "text": [
      "{'omar': 23, 'moktar': 25, 'ali': 26}\n",
      "dict_keys(['omar', 'moktar', 'ali'])\n",
      "dict_values([23, 25, 26])\n"
     ]
    }
   ],
   "source": [
    "ages=[30,23,25,26]\n",
    "dico2={names:ages for names,ages in zip(names,ages) if ages< 30}\n",
    "print((dico2))\n",
    "print(dico2.keys())\n",
    "print(dico2.values())"
   ]
  },
  {
   "cell_type": "markdown",
   "metadata": {
    "colab_type": "text",
    "id": "VVszUmwz-bFM"
   },
   "source": [
    "## Built-in Functions\n",
    "Python contient un grand nombre de fonctions intégrées tres utiles a connaitre. Cela vous permet de construire des codes plus rapidement, sans avoir a développer vos propres fonctions pour les taches les plus basique. Dans ce notebook, je vous montre les plus importantes :\n",
    "\n",
    "\n"
   ]
  },
  {
   "cell_type": "markdown",
   "metadata": {
    "colab_type": "text",
    "id": "i_Gg60cR_oFB"
   },
   "source": [
    "### Fonction de bases\n",
    "Utiles en toute circonstance !"
   ]
  },
  {
   "cell_type": "code",
   "execution_count": 2,
   "metadata": {
    "colab": {
     "base_uri": "https://localhost:8080/",
     "height": 51
    },
    "colab_type": "code",
    "id": "EAfp-li6-ZSD",
    "outputId": "c6a56073-a7b7-40b9-cdeb-114e9a607ce1"
   },
   "outputs": [
    {
     "name": "stdout",
     "output_type": "stream",
     "text": [
      "3.141592653589793\n",
      "3.14159265\n"
     ]
    }
   ],
   "source": [
    "import numpy as np\n",
    "x = np.pi\n",
    "print(abs(x)) # valeur absolue\n",
    "print(round(x,8)) # arrondi"
   ]
  },
  {
   "cell_type": "code",
   "execution_count": 3,
   "metadata": {
    "colab": {
     "base_uri": "https://localhost:8080/",
     "height": 85
    },
    "colab_type": "code",
    "id": "YnTEUj20_3Wq",
    "outputId": "349fb051-30e0-4366-8411-2e994071c9bb"
   },
   "outputs": [
    {
     "name": "stdout",
     "output_type": "stream",
     "text": [
      "-4\n",
      "3\n",
      "5\n",
      "-2\n"
     ]
    }
   ],
   "source": [
    "liste = [-2, 3, 1, 0, -4]\n",
    "\n",
    "print(min(liste)) # minimum\n",
    "print(max(liste)) # maximum\n",
    "print(len(liste)) # longueur\n",
    "print(sum(liste)) # somme des éléments"
   ]
  },
  {
   "cell_type": "code",
   "execution_count": 4,
   "metadata": {
    "colab": {
     "base_uri": "https://localhost:8080/",
     "height": 51
    },
    "colab_type": "code",
    "id": "c3I6FPVkANmN",
    "outputId": "a155cc37-193e-458c-b8af-132bb972ed4b"
   },
   "outputs": [
    {
     "name": "stdout",
     "output_type": "stream",
     "text": [
      "True\n",
      "False\n"
     ]
    }
   ],
   "source": [
    "liste = [False, False, True]\n",
    "\n",
    "print(any(liste)) # y-a-t'il au moins un élément True ?\n",
    "print(all(liste)) # est-ce-que tous les éléments sont True ?"
   ]
  },
  {
   "cell_type": "markdown",
   "metadata": {
    "colab_type": "text",
    "id": "2CKqQf0YAuvN"
   },
   "source": [
    "### Fonction de conversion\n",
    "Il peut etre tres utile de convertir une variable d'un type a un autre (par exemple pour faire des calculs). Pour cela, on dispose des fonctions int(), str() et float().\n",
    "\n",
    "La fonction **type()** est tres utile pour inspecter les types de nos variables"
   ]
  },
  {
   "cell_type": "code",
   "execution_count": 5,
   "metadata": {
    "colab": {
     "base_uri": "https://localhost:8080/",
     "height": 34
    },
    "colab_type": "code",
    "id": "-_P3CGAvAatE",
    "outputId": "b7d86d2a-ac56-4165-80cd-4c98e19f6d04"
   },
   "outputs": [
    {
     "data": {
      "text/plain": [
       "str"
      ]
     },
     "execution_count": 5,
     "metadata": {},
     "output_type": "execute_result"
    }
   ],
   "source": [
    "age = '32'\n",
    "type(age)"
   ]
  },
  {
   "cell_type": "code",
   "execution_count": 6,
   "metadata": {
    "colab": {
     "base_uri": "https://localhost:8080/",
     "height": 34
    },
    "colab_type": "code",
    "id": "9QkhdpCEBK0W",
    "outputId": "f0a8a95c-d0cb-4551-9f08-a4021a68ed93"
   },
   "outputs": [
    {
     "data": {
      "text/plain": [
       "int"
      ]
     },
     "execution_count": 6,
     "metadata": {},
     "output_type": "execute_result"
    }
   ],
   "source": [
    "age = int(age)\n",
    "type(age)"
   ]
  },
  {
   "cell_type": "code",
   "execution_count": 7,
   "metadata": {
    "colab": {
     "base_uri": "https://localhost:8080/",
     "height": 34
    },
    "colab_type": "code",
    "id": "5DDHy7qBBT9l",
    "outputId": "cef6fe90-15f3-40ad-9239-e742c56db63c"
   },
   "outputs": [
    {
     "data": {
      "text/plain": [
       "42"
      ]
     },
     "execution_count": 7,
     "metadata": {},
     "output_type": "execute_result"
    }
   ],
   "source": [
    "age + 10"
   ]
  },
  {
   "cell_type": "code",
   "execution_count": 8,
   "metadata": {},
   "outputs": [
    {
     "data": {
      "text/plain": [
       "float"
      ]
     },
     "execution_count": 8,
     "metadata": {},
     "output_type": "execute_result"
    }
   ],
   "source": [
    "float(x)\n",
    "type(x)"
   ]
  },
  {
   "cell_type": "markdown",
   "metadata": {
    "colab_type": "text",
    "id": "MYxly1nnBhxL"
   },
   "source": [
    "On peut également convertir des listes en tuples, ou des tableaux Numpy (que l'on verra par la suite) en liste..."
   ]
  },
  {
   "cell_type": "code",
   "execution_count": 9,
   "metadata": {
    "colab": {
     "base_uri": "https://localhost:8080/",
     "height": 34
    },
    "colab_type": "code",
    "id": "sl7n5xP8BWCW",
    "outputId": "b0e48c93-f717-427e-be8c-83864da48fdd"
   },
   "outputs": [
    {
     "name": "stdout",
     "output_type": "stream",
     "text": [
      "[1, 2, 3, 4]\n"
     ]
    },
    {
     "data": {
      "text/plain": [
       "list"
      ]
     },
     "execution_count": 9,
     "metadata": {},
     "output_type": "execute_result"
    }
   ],
   "source": [
    "tuple_1 = (1, 2, 3, 4)\n",
    "\n",
    "liste_1 = list(tuple_1) # convertir un tuple en liste\n",
    "print(liste_1)\n",
    "type(liste_1)"
   ]
  },
  {
   "cell_type": "code",
   "execution_count": 10,
   "metadata": {},
   "outputs": [
    {
     "name": "stdout",
     "output_type": "stream",
     "text": [
      "0b1111 0b100000\n",
      "0o17 0o40\n",
      "0xf 0x20\n"
     ]
    }
   ],
   "source": [
    "print(bin(15),bin(32))\n",
    "print(oct(15),oct(32))\n",
    "print(hex(15),hex(32))"
   ]
  },
  {
   "cell_type": "markdown",
   "metadata": {
    "colab_type": "text",
    "id": "orx_mdrPCCqx"
   },
   "source": [
    "### La fonction **input()**\n",
    "La fonction input() en Python est une fonction intégrée qui permet à un programme d'obtenir des données en entrée depuis l'utilisateur via le clavier. Elle est principalement utilisée pour interagir avec l'utilisateur en demandant des informations ou des réponses à des questions. Voici une brève explication de la fonction input() :\n",
    "\n",
    "- Lorsque la fonction input() est appelée, elle affiche un message d'invite (généralement une chaîne de caractères) à l'utilisateur, qui apparaît dans la console.\n",
    "- L'utilisateur peut alors saisir des données depuis le clavier, suivi de la touche \"Entrée\".\n",
    "- La fonction input() attend que l'utilisateur entre des données et retourne une chaîne de caractères (string) contenant les données saisies.\n",
    "L'application de la fonction input() est très utile pour créer des programmes interactifs, des questionnaires, des formulaires de saisie, etc.\n",
    "- Il est important de noter que la fonction input() renvoie toujours une chaîne de caractères (string). Si vous avez besoin de manipuler des données numériques, vous devrez les convertir en types de données appropriés, tels que des entiers ou des nombres à virgule flottante, à l'aide des fonctions de conversion telles que int() ou float()."
   ]
  },
  {
   "cell_type": "code",
   "execution_count": 12,
   "metadata": {
    "colab": {
     "base_uri": "https://localhost:8080/",
     "height": 34
    },
    "colab_type": "code",
    "id": "VRzdH0oeB3w8",
    "outputId": "4535b183-4540-477d-c649-e0446c75d2a8"
   },
   "outputs": [
    {
     "name": "stdout",
     "output_type": "stream",
     "text": [
      "quel age avez-vous ?30 ans\n"
     ]
    }
   ],
   "source": [
    "age = input('quel age avez-vous ?')"
   ]
  },
  {
   "cell_type": "code",
   "execution_count": 14,
   "metadata": {
    "colab": {
     "base_uri": "https://localhost:8080/",
     "height": 34
    },
    "colab_type": "code",
    "id": "mR0irKo7CXFj",
    "outputId": "2df066f9-12a1-4ba5-dc82-05cc376598f2"
   },
   "outputs": [
    {
     "data": {
      "text/plain": [
       "str"
      ]
     },
     "execution_count": 14,
     "metadata": {
      "tags": []
     },
     "output_type": "execute_result"
    }
   ],
   "source": [
    "type(age) # age est de type string. il faut penser a le convertir si on désire faire un calcul avec"
   ]
  },
  {
   "cell_type": "markdown",
   "metadata": {
    "colab_type": "text",
    "id": "ClGnpncTCpSh"
   },
   "source": [
    "### La fonction **format()**\n",
    "En Python, la méthode format() est utilisée pour formater des chaînes de caractères en y insérant des valeurs ou des variables dans des emplacements spécifiés, appelés \"emplacements de remplacement\" ou \"placeholders\". Elle permet de créer des chaînes de caractères dynamiques en insérant des valeurs dans des positions prédéfinies. Voici une explication en français :\n",
    "\n",
    "- La méthode format() est appelée sur une chaîne de caractères (la chaîne de format) et accepte un ou plusieurs arguments qui seront insérés dans la chaîne aux emplacements spécifiés.\n",
    "- Les emplacements de remplacement sont indiqués par des accolades {} dans la chaîne de format. Par exemple, \"Bonjour, {} !\" est une chaîne de format avec un emplacement de remplacement.\n",
    "- Vous pouvez spécifier l'ordre dans lequel les valeurs seront insérées en utilisant des indices numériques à l'intérieur des accolades. Par exemple, \"{} {} {}\" utilisera les trois premiers arguments dans cet ordre.\n",
    "- Vous pouvez également nommer les emplacements de remplacement pour une utilisation plus explicite. Par exemple, \"Bonjour, {prenom} !\" utilise un emplacement nommé {prenom}.\n",
    "- Les valeurs à insérer sont passées comme arguments à la méthode format(), soit dans l'ordre, soit en utilisant des noms de paramètres si des emplacements nommés sont utilisés.\n",
    "- La méthode format() effectue automatiquement la conversion de types, ce qui signifie que vous pouvez insérer des valeurs de différents types (entiers, nombres à virgule flottante, chaînes de caractères, etc.) dans la chaîne de format."
   ]
  },
  {
   "cell_type": "code",
   "execution_count": 15,
   "metadata": {
    "colab": {
     "base_uri": "https://localhost:8080/",
     "height": 34
    },
    "colab_type": "code",
    "id": "YNo1gncmCZjb",
    "outputId": "e4e51b60-5b8d-422b-a1c8-2d26fa34f4e0"
   },
   "outputs": [
    {
     "name": "stdout",
     "output_type": "stream",
     "text": [
      "il faut 25 degrés a Paris\n"
     ]
    }
   ],
   "source": [
    "x = 25\n",
    "ville = 'Paris'\n",
    "\n",
    "message = 'il fait {} degrés a {}'.format(x, ville)\n",
    "print(message)"
   ]
  },
  {
   "cell_type": "code",
   "execution_count": 17,
   "metadata": {
    "colab": {
     "base_uri": "https://localhost:8080/",
     "height": 34
    },
    "colab_type": "code",
    "id": "h3xtfGoHDCmu",
    "outputId": "45d10f11-4183-4daa-852c-3b86dac38002"
   },
   "outputs": [
    {
     "name": "stdout",
     "output_type": "stream",
     "text": [
      "il fait 25 degrées a Paris\n"
     ]
    }
   ],
   "source": [
    "message = f'il fait {x} degrées a {ville}'\n",
    "print(message)"
   ]
  },
  {
   "cell_type": "markdown",
   "metadata": {},
   "source": [
    "oici quelques astuces et techniques que vous pouvez utiliser avec la méthode format() en Python pour formater vos chaînes de caractères de manière plus efficace et lisible :\n",
    "\n",
    "- Alignement du texte :\n",
    "    Vous pouvez spécifier l'alignement du texte à l'intérieur de l'emplacement de remplacement en utilisant les caractères <, >, ou ^. Par exemple : \"{:>10}\".format(\"texte\") alignera le texte à droite sur une largeur de 10 caractères.\n"
   ]
  },
  {
   "cell_type": "code",
   "execution_count": 10,
   "metadata": {},
   "outputs": [
    {
     "name": "stdout",
     "output_type": "stream",
     "text": [
      "-         banana\n",
      "-         grapes\n",
      "-   strawberries\n",
      "-           pear\n",
      "-          peach\n"
     ]
    }
   ],
   "source": [
    "fruits=['banana','grapes','strawberries','pear','peach']\n",
    "for fruit in fruits:\n",
    "    print(\"-{:>15}\".format(fruit))"
   ]
  },
  {
   "cell_type": "markdown",
   "metadata": {},
   "source": [
    "\n",
    "- Remplacement conditionnel :\n",
    "    Vous pouvez conditionnellement choisir quelle valeur insérer en fonction d'une condition. Par exemple : \"Bonjour, {} !\".format(nom if condition else \"Cher utilisateur\").\n"
   ]
  },
  {
   "cell_type": "code",
   "execution_count": 12,
   "metadata": {},
   "outputs": [
    {
     "name": "stdout",
     "output_type": "stream",
     "text": [
      "Bonjour, Omar !\n",
      "Bonjour, Cher utilisateur !\n"
     ]
    }
   ],
   "source": [
    "a=3\n",
    "condition=True\n",
    "nom='Omar'\n",
    "print(\"Bonjour, {} !\".format(nom if condition else \"Cher utilisateur\"))\n",
    "\n",
    "condition=False\n",
    "\n",
    "print(\"Bonjour, {} !\".format(nom if condition else \"Cher utilisateur\"))"
   ]
  },
  {
   "cell_type": "markdown",
   "metadata": {},
   "source": [
    "\n",
    "Répétition d'un motif :\n",
    "    Vous pouvez répéter un motif dans un emplacement de remplacement. Par exemple : \"-\" * 20 crée une chaîne composée de 20 tirets.\n"
   ]
  },
  {
   "cell_type": "code",
   "execution_count": 15,
   "metadata": {},
   "outputs": [
    {
     "data": {
      "text/plain": [
       "('--------------------', '********************')"
      ]
     },
     "execution_count": 15,
     "metadata": {},
     "output_type": "execute_result"
    }
   ],
   "source": [
    "\"-\"*20,\"*\"*20"
   ]
  },
  {
   "cell_type": "markdown",
   "metadata": {
    "colab_type": "text",
    "id": "PWFMzobFDkfP"
   },
   "source": [
    "### La fonction **open()**\n",
    "Cette fonction est l'une des plus utile de Python. Elle permet d'ouvrir n'importe quel fichier de votre ordinateur et de l'utiliser dans Python. Différents modes existent :\n",
    "- le mode 'r' : lire un fichier de votre ordinateur\n",
    "- le mode 'w' : écrire un fichier sur votre ordinateur\n",
    "- le mode 'a' : (append) ajouter du contenu dans un fichier existant"
   ]
  },
  {
   "cell_type": "code",
   "execution_count": 5,
   "metadata": {
    "colab": {},
    "colab_type": "code",
    "id": "ovu_J5rhDS0-"
   },
   "outputs": [],
   "source": [
    "f = open('./assets/text.txt', 'w') # ouverture d'un objet fichier f\n",
    "f.write('hello')\n",
    "f.close() # il faut fermer notre fichier une fois le travail terminé"
   ]
  },
  {
   "cell_type": "code",
   "execution_count": 6,
   "metadata": {
    "colab": {
     "base_uri": "https://localhost:8080/",
     "height": 34
    },
    "colab_type": "code",
    "id": "3GjqncN3NvO8",
    "outputId": "c94ca820-e42b-47d4-8840-425110ad62ef"
   },
   "outputs": [
    {
     "name": "stdout",
     "output_type": "stream",
     "text": [
      "hello\n"
     ]
    }
   ],
   "source": [
    "f = open('./assets/text.txt', 'r')\n",
    "print(f.read())\n",
    "f.close() "
   ]
  },
  {
   "cell_type": "markdown",
   "metadata": {
    "colab_type": "text",
    "id": "tjuY60QsN3Ax"
   },
   "source": [
    "Dans la pratique, on écrit plus souvent **with open() as f** pour ne pas avoir a fermer le fichier une fois le travail effectué :"
   ]
  },
  {
   "cell_type": "code",
   "execution_count": 7,
   "metadata": {
    "colab": {
     "base_uri": "https://localhost:8080/",
     "height": 34
    },
    "colab_type": "code",
    "id": "8NeneA9zNy6N",
    "outputId": "74c9c575-68f2-4250-82b5-eca1c73669ee"
   },
   "outputs": [
    {
     "name": "stdout",
     "output_type": "stream",
     "text": [
      "hello\n"
     ]
    }
   ],
   "source": [
    "with open('./assets/text.txt', 'r') as f:\n",
    "    print(f.read())"
   ]
  },
  {
   "cell_type": "markdown",
   "metadata": {
    "colab_type": "text",
    "id": "4W96D02DOVmC"
   },
   "source": [
    "## Exercice \n",
    "1. Le code ci-dessous permet de créer un fichier qui contient les nombres carrée de 0 jusqu'a 19.\n",
    "L'exercice est d'implémenter un code qui permet de lire ce fichier et d'écrire chaque ligne dans une liste.\n",
    "\n",
    "Note_1 : la fonction **read().splitlines()** sera tres utile\n",
    "\n",
    "Note_2 : Pour un meilleur résultat, essayer d'utiliser une liste comprehension !"
   ]
  },
  {
   "cell_type": "code",
   "execution_count": 8,
   "metadata": {
    "colab": {},
    "colab_type": "code",
    "id": "5NOsB5k5OAlC"
   },
   "outputs": [],
   "source": [
    "# Ce bout de code permet d'écrire le fichier \n",
    "with open('./assets/fichier.txt', 'w') as f:\n",
    "    for i in range(0, 20):\n",
    "        f.write(f'{i}: {i**2} \\n')\n",
    "    f.close()\n",
    "\n",
    "# Écrivez ici le code pour lire le fichier et enregistrer chaque lignes dans une liste."
   ]
  }
 ],
 "metadata": {
  "colab": {
   "authorship_tag": "ABX9TyMFLkJWjpS73et8V2y/zKv/",
   "include_colab_link": true,
   "name": "Untitled2.ipynb",
   "provenance": []
  },
  "kernelspec": {
   "display_name": "base",
   "language": "python",
   "name": "python3"
  },
  "language_info": {
   "codemirror_mode": {
    "name": "ipython",
    "version": 3
   },
   "file_extension": ".py",
   "mimetype": "text/x-python",
   "name": "python",
   "nbconvert_exporter": "python",
   "pygments_lexer": "ipython3",
   "version": "3.8.5"
  },
  "vscode": {
   "interpreter": {
    "hash": "7b34b089ce0dfc9935940e0a22050b2949fa617f7a2b73925623c261bed16aeb"
   }
  }
 },
 "nbformat": 4,
 "nbformat_minor": 1
}
