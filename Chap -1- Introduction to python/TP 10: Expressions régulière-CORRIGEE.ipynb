{
 "cells": [
  {
   "cell_type": "markdown",
   "metadata": {},
   "source": [
    "\n",
    "# Introduction\n",
    "Pour utiliser les expressions régulières sous `Python` il faut importer le module `re` :"
   ]
  },
  {
   "cell_type": "code",
   "execution_count": 1,
   "metadata": {},
   "outputs": [],
   "source": [
    "import re"
   ]
  },
  {
   "cell_type": "markdown",
   "metadata": {},
   "source": [
    "Une expression régulière est d’abord compilée et le résultat est stocké dans un objet `RegexObject`.\n",
    "On écrit une expression régulière dans une «chaîne brute Python» : une chaîne délimitée par `r\"` et `\"`.\n",
    "Exemple :  \n"
   ]
  },
  {
   "cell_type": "code",
   "execution_count": 2,
   "metadata": {},
   "outputs": [
    {
     "data": {
      "text/plain": [
       "'[a-z]+'"
      ]
     },
     "execution_count": 2,
     "metadata": {},
     "output_type": "execute_result"
    }
   ],
   "source": [
    "reg= r\"[a-z]+\" # est l’expression régulière qui correspond aux chaînes formées d’une ou plusieurs lettres entre a et z.\n",
    "reg"
   ]
  },
  {
   "cell_type": "markdown",
   "metadata": {},
   "source": [
    "Pour compliler cette expression et créer un objet `RegexObject` on écrit :"
   ]
  },
  {
   "cell_type": "code",
   "execution_count": 3,
   "metadata": {},
   "outputs": [
    {
     "data": {
      "text/plain": [
       "re.compile(r'[a-z]+', re.UNICODE)"
      ]
     },
     "execution_count": 3,
     "metadata": {},
     "output_type": "execute_result"
    }
   ],
   "source": [
    "reg = re.compile(reg)\n",
    "reg\n"
   ]
  },
  {
   "cell_type": "markdown",
   "metadata": {},
   "source": [
    "L’objet `reg` a plusieurs méthodes, nous allons en utiliser trois :\n",
    "\n",
    "1. `findall` qui sert à appliquer l’expression régulière et à récupérer les sous-chaînes trouvées sous forme\n",
    "de liste Python ;\n",
    "\n",
    "2. `finditer` qui sert à appliquer l’expression régulière et à récupérer les sous-chaînes trouvées sous\n",
    "forme d’itérateur Python ;\n",
    "\n",
    "3. `sub` qui sert à appliquer une expression régulière, à remplacer les sous-chaînes trouvées par d’autres\n",
    "chaînes.\n",
    "\n",
    "Il s’agit donc de fonctionnalités similaires aux «chercher» et «chercher / remplacer» des éditeurs de\n",
    "texte.\n",
    "Une méthode plus simple, du nom de `match()` va simplement tester si une chaîne satisfait les contraintes\n",
    "imposées par l’objet expression régulière auquel on l’applique."
   ]
  },
  {
   "cell_type": "markdown",
   "metadata": {},
   "source": [
    "# Syntaxe des expressions régulières \n",
    "Avant de voir l’utilisation des expressions régulières sous Python, un rappel de la syntaxe des expressions\n",
    "régulières «à la Perl» :\n",
    "\n",
    "- `toto` va trouver les sous-chaînes `toto` ;\n",
    "- . est un caractère quelconque, mis à part le passage à la ligne `\\n` et le retour chariot `\\r` ;\n",
    "- [ax123Z] signifie : `un caractère quelconque parim a, x, 1, 2, 3 et Z` ;\n",
    "- [A-Z] signifie : `un caractère quelconque dans l’intervalle de A à Z` ;\n",
    "- le trait d’union sert à indiquer les intervalles mais peut faire partie des caractères recherchés s’il est\n",
    "placé à la fin : `[AZ-]` signifie : `un caractère quelconque parmi A, Z et -` ;\n",
    "- on peut combiner à volonté les caractères énumérés et les intervalles : par exemple `[A-Za-z0-9.:?]` signifie `une lettre minuscule ou majuscule, un chiffre, un point, un deux-points, ou un point\n",
    "d’interrogation` ;\n",
    "- les caractères (, ), \\, [, ] peuvent être recherchés, à condition de les protéger par un antislash : `\\(,\n",
    "\\), \\\\, \\[, \\]` ;\n",
    "- le symbole `^` placé après le crochet ouvrant indique que l’on va chercher le complémentaire de ce qui est placé entre les crochets. Exemple : `[^a-z]` va trouver un caractère quelconque qui ne soit pas une lettre entre a et z ;\n",
    "- on dispose des quantificateurs suivants :\n",
    "    1. `*` (zéro, une ou plusieurs fois),\n",
    "    2. `+` (une ou plusieurs fois),\n",
    "    3. `?` (zéro ou une fois),\n",
    "    4. `{n,m}` (entre n et m fois),\n",
    "    5. `{n,}` (plus de n fois) ;\n",
    "- on dispose également des quantificateurs «non gourmands» suivants :\n",
    "    1. `*?` (zéro, une ou plusieurs fois),\n",
    "    2. `+?` (une ou plusieurs fois),\n",
    "    3. `??` (zéro ou une fois),\n",
    "    4. `{n,m}?` (entre n et m fois),\n",
    "    5. `{n,}?` (plus de n fois) ;"
   ]
  },
  {
   "cell_type": "markdown",
   "metadata": {},
   "source": [
    "La différence entre quantificateurs «gourmands» et «non gourmands» provient du fait que les premiers vont trouver la sous-chaîne la plus longue respectant les contraintes alors que les deuxièmes vont trouver la chaîne la plus courte.\n",
    "\n",
    "1.  Exemple : l’expression `[a-z]+` appliquée à `«mon ami Pierrot»` va trouver `mon`, alors que `[a-z]+?`\n",
    "va trouver `m` (ce qui n’a que peu d’intérêt). \n",
    "\n",
    "2.  Autre exemple (qui montre l’utilité des quantificateurs non gourmands) : l’expression `\\(.+\\)` appliquée à «Brest (29) et Aix (13)» va retourner 29) et Aix (13 puisque c’est la plus longue sous-chaîne délimitée par une parenthèse ouvrante et une parenthèse fermante. Par contre \\(.+?\\) va retourner d’abord 29 et ensuite 13 "
   ]
  },
  {
   "cell_type": "markdown",
   "metadata": {},
   "source": [
    "- les symboles `^` et `$` servent à indiquer le début et la fin d’une chaîne. Par exemple : `^a.+` va trouver toutes les chaînes qui commencent par un a, `toto$` va trouver toutes les chaînes qui finissent par toto, `^` `$` va trouver toutes les chaînes égales à un blanc ;\n",
    "- l’opérateur «ou» `|` sert à indiquer un choix entre deux expressions ;\n",
    "- on peut utiliser les parenthèses pour deux raisons :\n",
    "    1. pour délimiter une expression qui sera utilisée par l’opérateur «ou» ou à laquelle on va appliquer un quantificateur (exemple : abc(toto)+ signifie «abc suivi d’un ou plusieurs toto») ;\n",
    "    2.  pour délimiter une sous-chaîne que l’on va récupérer par la suite. On appelle cette sous-chaîne, un «groupe».\n",
    "\n",
    "Ce double usage des parenthèses peut être gênant : en écrivant `abc(toto)+` on fait de toto un groupe, même si on n’a pas l’intention de le récupérer par la suite. En écrivant `abc(?:toto)+` les parenthèses ne servent qu’au premier usage, aucun groupe n’est formé."
   ]
  },
  {
   "cell_type": "markdown",
   "metadata": {},
   "source": [
    "# Utilisation des expressions régulières sous Python\n",
    "## Recherche\n",
    "Supposons que l’on veuille trouver tous les mots de la chaîne «Le bon chasseur sachant chasser sait chasser\n",
    "sans son chien» contenant un «s». On peut trouver un tel mot en écrivant `[a-rt-z]*s[a-z]*`. On peut\n",
    "donc déjà compiler une expression régulière :"
   ]
  },
  {
   "cell_type": "code",
   "execution_count": 4,
   "metadata": {},
   "outputs": [],
   "source": [
    "r = re.compile(r\"[a-rt-z]*s[a-z]*\")"
   ]
  },
  {
   "cell_type": "markdown",
   "metadata": {},
   "source": [
    "Pour l’appliquer à la chaîne on écrira :"
   ]
  },
  {
   "cell_type": "code",
   "execution_count": 5,
   "metadata": {},
   "outputs": [
    {
     "name": "stdout",
     "output_type": "stream",
     "text": [
      "['chasseur', 'sachant', 'chasser', 'sait', 'chasser', 'sans', 'son']\n"
     ]
    }
   ],
   "source": [
    "m = r.findall(\"Le bon chasseur sachant chasser sait chasser sans son chien\")\n",
    "print(m)"
   ]
  },
  {
   "cell_type": "markdown",
   "metadata": {},
   "source": [
    "On peut ré-écrire le code précédent en utilisant un `itérateur` Python :"
   ]
  },
  {
   "cell_type": "code",
   "execution_count": 6,
   "metadata": {},
   "outputs": [
    {
     "name": "stdout",
     "output_type": "stream",
     "text": [
      "chasseur\n",
      "sachant\n",
      "chasser\n",
      "sait\n",
      "chasser\n",
      "sans\n",
      "son\n"
     ]
    }
   ],
   "source": [
    "for m in r.finditer(\"Le bon chasseur sachant chasser sait chasser sans son chien\"):\n",
    "    print(m.group())"
   ]
  },
  {
   "cell_type": "markdown",
   "metadata": {},
   "source": [
    "L’avantage de cette écriture est que l’on récupère non pas des simples chaînes de caractères mais des\n",
    "objets MatchObject qui ont leurs propres méthodes et attributs."
   ]
  },
  {
   "cell_type": "markdown",
   "metadata": {},
   "source": [
    "## Recherche / remplacement\n",
    "Maintenant nous allons essayer de rendre la phrase «Le bon chasseur sachant chasser sait chasser sans son\n",
    "chien» conforme au dialecte chti-mi. On peut commencer par remplacer tous les «s» par des «ch» :"
   ]
  },
  {
   "cell_type": "code",
   "execution_count": 7,
   "metadata": {},
   "outputs": [
    {
     "name": "stdout",
     "output_type": "stream",
     "text": [
      "Le bon chachcheur chachant chachcher chait chachcher chanch chon chien\n"
     ]
    }
   ],
   "source": [
    "r = re.compile(r\"s\")\n",
    "m = r.sub(r\"ch\",\"Le bon chasseur sachant chasser sait chasser sans son chien\")\n",
    "print(m)"
   ]
  },
  {
   "cell_type": "markdown",
   "metadata": {},
   "source": [
    "Le résultat est «Le bon chachcheur chachant chachcher chait chachcher chanch chon chien», qui est\n",
    "relativement imprononçable. \n",
    "\n",
    "On peut rectifier le tir en évitant les doubles «ch». On va donc remplacer\n",
    "un nombre quelconque de lettres s consécutives par un seul «ch» :\n",
    "import re"
   ]
  },
  {
   "cell_type": "code",
   "execution_count": 8,
   "metadata": {},
   "outputs": [
    {
     "name": "stdout",
     "output_type": "stream",
     "text": [
      "Le bon chacheur chachant chacher chait chacher chanch chon chien\n"
     ]
    }
   ],
   "source": [
    "r = re.compile(r\"s+\")\n",
    "m = r.sub(r\"ch\",\"Le bon chasseur sachant chasser sait chasser sans son chien\")\n",
    "print(m)"
   ]
  },
  {
   "cell_type": "markdown",
   "metadata": {},
   "source": [
    "Le résultat «Le bon chacheur chachant chacher chait chacher chanch chon chien» est nettement plus\n",
    "chti-mi, mais il reste un cas problématique : le «s» muet du mot «sans» est devenu un «ch» prononcé\n",
    "dans «chanch». Il faut donc éviter de convertir les «s» en fin de mot :"
   ]
  },
  {
   "cell_type": "code",
   "execution_count": 9,
   "metadata": {},
   "outputs": [
    {
     "name": "stdout",
     "output_type": "stream",
     "text": [
      "Le bon chacheur chachant chacher chait chacher chans chon chien\n"
     ]
    }
   ],
   "source": [
    "r = re.compile(r\"s+([a-z]+)\")\n",
    "m = r.sub(r\"ch\\1\",\"Le bon chasseur sachant chasser sait chasser sans son chien\")\n",
    "print(m)"
   ]
  },
  {
   "cell_type": "markdown",
   "metadata": {},
   "source": [
    "Pour ce faire, on a créé un groupe ([a-z]+) que l’on retrouve dans la chaîne de remplacement (\\1).\n",
    "Le réchultat «Le bon chacheur chachant chacher chait chacher chans chon chien» est chans contechte\n",
    "parfaitement chti-mi."
   ]
  },
  {
   "cell_type": "markdown",
   "metadata": {},
   "source": [
    "## Recherche / remplacement avec utilisation de fonction\n",
    "Lorsqu’on remplace une sous-chaîne par une autre il peut être utile d’intercaler un traitement entre\n",
    "lecture de la sous-chaîne et écriture dans la nouvelle chaîne. Python nous permet d’appliquer une fonction\n",
    "à chacune des sous-chaînes trouvées. Imaginons que dans la chaîne `toto 123 blabla 456 titi` on veut\n",
    "représenter les nombres en hexadécimal. Ce calcul est trop compliqué pour être fait uniquement par des\n",
    "expressions régulières, on utilisera donc une fonction"
   ]
  },
  {
   "cell_type": "code",
   "execution_count": 10,
   "metadata": {},
   "outputs": [
    {
     "name": "stdout",
     "output_type": "stream",
     "text": [
      "toto 0x7b blabla 0x1c8 titi\n"
     ]
    }
   ],
   "source": [
    "def ecrire_en_hexa ( entree ):\n",
    "    return hex( int( entree.group() ) )\n",
    "\n",
    "\n",
    "r = re.compile(r\"[0-9]+\")\n",
    "m = r.sub( ecrire_en_hexa,\"toto 123 blabla 456 titi\" )\n",
    "print(m)"
   ]
  },
  {
   "cell_type": "markdown",
   "metadata": {},
   "source": [
    "Le résultat est bien `toto 0x7b blabla 0x1c8 titi`. L’argument de la fonction est un objet de type `MatchObject`. La méthode group() fournit la chaîne tout entière, alors que group(n) fournira le n-ième groupe de la sous-chaîne.\n",
    "\n",
    "# Exercices\n",
    "Lire le fichier Personnels.csv. Pour le lire ligne par ligne, utiliser le code Python suivant :"
   ]
  },
  {
   "cell_type": "code",
   "execution_count": 12,
   "metadata": {},
   "outputs": [],
   "source": [
    "\n",
    "f = open(\"Personnels.csv\",'r')\n",
    "for ligne in f:\n",
    "   pass;\n",
    "        #faire qqch avec la ligne ligne\n",
    "f.close()"
   ]
  },
  {
   "cell_type": "markdown",
   "metadata": {},
   "source": [
    "## EXO 1 : \n",
    "\n",
    "\n",
    "Que fait le code suivant ?"
   ]
  },
  {
   "cell_type": "code",
   "execution_count": 11,
   "metadata": {},
   "outputs": [
    {
     "name": "stdout",
     "output_type": "stream",
     "text": [
      "1 OK\n",
      "4 OK\n",
      "5 OK\n"
     ]
    }
   ],
   "source": [
    "r = re.compile(r\"^([0-9]+);[^;]*;MALIK;\")\n",
    "f = open(\"Personnels.csv\",'r')\n",
    "for ligne in f:\n",
    "    for m in r.finditer(ligne):\n",
    "        \n",
    "        print(m.group(1)+\" OK\")\n",
    "f.close()\n",
    "\n",
    "# Votre reponse en commentaire"
   ]
  },
  {
   "cell_type": "markdown",
   "metadata": {},
   "source": [
    "## EXO2 :\n",
    "Complétez ce programme afin qu’il sorte les identifiants des gens nés dans un village dont le nom commence\n",
    "par AIN."
   ]
  },
  {
   "cell_type": "code",
   "execution_count": 13,
   "metadata": {},
   "outputs": [
    {
     "name": "stdout",
     "output_type": "stream",
     "text": [
      "1 OK\n",
      "4 OK\n",
      "5 OK\n"
     ]
    }
   ],
   "source": [
    "r = re.compile(r\"^([0-9]+);[^;]*;MALIK;[^;]*;AIN\")\n",
    "f = open('Personnels.csv','r')\n",
    "for ligne in f:\n",
    "    for m in r.finditer(ligne):\n",
    "        print(m.group(1)+\" OK\")\n",
    "f.close()"
   ]
  },
  {
   "cell_type": "markdown",
   "metadata": {},
   "source": [
    "Remplacez les lieux de naissance des personnes trouvées dans l’exercice 2 par des lieux qui commencent\n",
    "par BEN- (par exemple : AINBAIDA devient BEN-BAIDA).\n",
    "Rappel : pour écrire dans un fichier on utilise le code suivant :"
   ]
  },
  {
   "cell_type": "code",
   "execution_count": 14,
   "metadata": {},
   "outputs": [],
   "source": [
    "o = open(\"fichier_sortie.csv\",'w')\n",
    "o.write(\"texte à écrire\")\n",
    "o.close()"
   ]
  },
  {
   "cell_type": "code",
   "execution_count": 15,
   "metadata": {},
   "outputs": [],
   "source": [
    "r = re.compile(r\"^([0-9]+;[^;]*;MALIK;[^;]*;)AIN\")\n",
    "f = open('Personnels.csv','r')\n",
    "o = open(\"fichier_sortie.csv\",'w')\n",
    "for ligne in f:\n",
    "    for m in r.finditer(ligne):\n",
    "        o.write(r.sub(r\"\\1BEN-\",ligne))\n",
    "f.close()\n",
    "o.close()"
   ]
  },
  {
   "cell_type": "markdown",
   "metadata": {},
   "source": [
    "## EXO 3\n",
    "Incrémentez les dates de naissance des personnes trouvées dans l’exercice 2 de 10 ans.\n",
    "\n",
    "Tips :\n",
    "1. Définir une fonction traiterdate qui va gérer le remplacement de la chaîne qui nous intéresse ;\n",
    "2. En Python on passe d’un objet nombre entier à un objet chaîne en utilisant str, pour l’opération inverse on dispose de la fonction int."
   ]
  },
  {
   "cell_type": "code",
   "execution_count": null,
   "metadata": {},
   "outputs": [],
   "source": [
    "import re\n",
    "def traiterdate( entree ):\n",
    "    return entree.group(1)+\"/\"+str(int(entree.group(2))+10)+\";AIN\"\n",
    "r = re.compile(r\"^([0-9]+;[^;]*;MALIK;[0-9][0-9]/[0-9][0-9])/([0-9]{4});AIN\")\n",
    "f = open('Personnels.csv','r')\n",
    "o = open(\"fichier_sortie.csv\",'w')\n",
    "for ligne in f:\n",
    "    o.write(r.sub(traiterdate,ligne))\n",
    "f.close()\n",
    "o.close()"
   ]
  },
  {
   "cell_type": "markdown",
   "metadata": {},
   "source": [
    "\n",
    "## EXO 4\n",
    "Calculez l’âge moyen lors des mariages, en considérant que tous les mois ont 30 jours. À noter que les dates de naissance et de mariage sont données par les champs DN et DM.\n",
    "\n",
    "Tips : si $a_m$, $m_m$, $d_m$ sont resp. l’année, le mois et le jour de mariage et $a_n$, $m_n$, $d_n$ de même pour la naissance, l’âge d’une personne lors du mariage peut être exprimé par la formule\n",
    "\n",
    "$$ A= (a_m+ \\dfrac{m_m}{12}+ \\dfrac{d_m}{360})-(a_n+\\dfrac{m_n}{12} + \\dfrac{d_n}{360} )$$"
   ]
  },
  {
   "cell_type": "code",
   "execution_count": null,
   "metadata": {},
   "outputs": [],
   "source": [
    "compteur=0\n",
    "total=0.\n",
    "r = re.compile(r\"^[0-9]+;[^;]*;[^;]*;([0-9][0-9])/([0-9][0-9])/([0-9]{4});[^;]*;([0-9][0-9])/([0-9][0-9])/([0-9]{4})\")\n",
    "f = open('Personnels.csv','r')\n",
    "for ligne in f:\n",
    "    for m in r.finditer(ligne):\n",
    "        datenaissance=float(m.group(3))+((float(m.group(2))-1)/12)+((float(m.group(1))-1)/360)\n",
    "        datemariage=float(m.group(6))+((float(m.group(5))-1)/12)+((float(m.group(4))-1)/360)\n",
    "        print(datemariage - datenaissance)\n",
    "        total = total + datemariage - datenaissance\n",
    "        compteur = compteur+1\n",
    "f.close()\n",
    "m=float(total/float(compteur))\n",
    "print(round(m,6))"
   ]
  },
  {
   "cell_type": "markdown",
   "metadata": {},
   "source": [
    "## EXO 5\n",
    "\n",
    "\n",
    "Écrivez une expression régulière qui identifie :\n",
    "\n",
    "- Nom de variable: Un identificateur est une suite de caractères qui n’est pas un nombre. Il s’agit d’une suite de caractères contenant des lettres non accentuées majuscules ou minuscules, des chiffres, et les symboles `-` ou underscore `(_)`. Un identificateur commence toujours par un caractère différent d’un chiffre (c’est-à- dire une lettre majuscule ou minuscule). Un identificateur de fonction et de variable peut avoir un seul caractère.\n",
    "- Nombre entier `15`,`000312`\n",
    "- Nombre décimal `+.3`,`0.369`,`003.021`,`-003.021`\n",
    "- Nombre hexadécimal: Un nombre hexadécimal est une séquence de chiffres et de caractères [A - F] se terminant par un h minuscule. Exemple : `AB4E51h`,`AAAh`\n",
    "- Les commentaires : Les commentaires commence par les caractères (\\#) et se terminent par les caractères (#/) ou commencent par les caractères (\\#) se terminent à la fin de la ligne. "
   ]
  },
  {
   "cell_type": "code",
   "execution_count": null,
   "metadata": {},
   "outputs": [],
   "source": [
    "def Check_score(reg,Accepted,NotAccepted):\n",
    "    r = re.compile(reg)\n",
    "    print('Accepted strings are:')\n",
    "    i=0\n",
    "    score =0\n",
    "    for m in Accepted:\n",
    "        if bool(r.fullmatch(m)):\n",
    "            i+=1\n",
    "            print(f'This string is accepted : {m}')\n",
    "    if i == len(Accepted): print(' All strings has been accepted')\n",
    "    else: print('Your regular expression is wrong')\n",
    "    score=len(Accepted)-i\n",
    "    i=0\n",
    "    print('---------------')\n",
    "    print('Not Accepted strings are:')\n",
    "    for m in NotAccepted:\n",
    "        if bool(r.fullmatch(m)):\n",
    "            i+=1\n",
    "            print(f'erreur this is accepted : {m}')\n",
    "        else:\n",
    "            print(f'This string is not accepted : {m}')\n",
    "    if i == 0: print(' All strings has not been accepted')\n",
    "    score=score+i\n",
    "    s=len(Accepted)+len(NotAccepted)\n",
    "    print(f'your score {((s-score)/(s))*100}') "
   ]
  },
  {
   "cell_type": "code",
   "execution_count": null,
   "metadata": {},
   "outputs": [],
   "source": [
    "reg =r'\\d*'\n",
    "Accepted = ['12','2312','1231','1231']\n",
    "NotAccepted=['*89','Co;)','_','-','-op','_op']\n",
    "Check_score(reg,Accepted,NotAccepted)"
   ]
  },
  {
   "cell_type": "code",
   "execution_count": null,
   "metadata": {},
   "outputs": [],
   "source": [
    "reg =r'(^[a-zA-Z1-9][a-zA-Z1-9-_]+)'\n",
    "Accepted = ['aa','a2','12a','A12_ds']\n",
    "NotAccepted=['*89','Co;)','_','-','-op','_op']\n",
    "Check_score(reg,Accepted,NotAccepted)\n"
   ]
  },
  {
   "cell_type": "code",
   "execution_count": null,
   "metadata": {},
   "outputs": [],
   "source": [
    "reg=r'^[-+]?\\d*.?\\d+'\n",
    "Accepted = ['1','22','133','.3','-0.3','+.0365','-.0365']\n",
    "NotAccepted = ['-','+','0.3,3','0..3','+-.8890']\n",
    "Check_score(reg,Accepted,NotAccepted)"
   ]
  },
  {
   "cell_type": "code",
   "execution_count": null,
   "metadata": {},
   "outputs": [],
   "source": [
    "reg =r'[A-F\\d]*\\.h$'\n",
    "Accepted = ['12h','AB12h','AACFh','1231']\n",
    "NotAccepted=['*89','Co;)','_','-','-op','_op']\n",
    "Check_score(reg,Accepted,NotAccepted)"
   ]
  },
  {
   "cell_type": "code",
   "execution_count": null,
   "metadata": {},
   "outputs": [],
   "source": [
    "reg =r'(\\\\#.*#/)|(\\\\#.*$[\\r\\n]+)'\n",
    "Accepted = ['\\#sdfsad#/','\\# 515 1526 sdfsd 565#/','\\#sdfsdfs\\r','\\#sdfsdfs\\n','\\#sdfsdfs\\r\\n']\n",
    "NotAccepted=['\\# 515 1526/','\\ 515 1526/','\\#sdfsdfs\\n\\r\\n']\n",
    "Check_score(reg,Accepted,NotAccepted)"
   ]
  }
 ],
 "metadata": {
  "kernelspec": {
   "display_name": "Python 3",
   "language": "python",
   "name": "python3"
  },
  "language_info": {
   "codemirror_mode": {
    "name": "ipython",
    "version": 3
   },
   "file_extension": ".py",
   "mimetype": "text/x-python",
   "name": "python",
   "nbconvert_exporter": "python",
   "pygments_lexer": "ipython3",
   "version": "3.8.5"
  },
  "vscode": {
   "interpreter": {
    "hash": "7b34b089ce0dfc9935940e0a22050b2949fa617f7a2b73925623c261bed16aeb"
   }
  }
 },
 "nbformat": 4,
 "nbformat_minor": 2
}
