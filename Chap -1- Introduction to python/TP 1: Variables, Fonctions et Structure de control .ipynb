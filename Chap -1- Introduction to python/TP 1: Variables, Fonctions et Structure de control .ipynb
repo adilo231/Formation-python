{
 "cells": [
  {
   "attachments": {},
   "cell_type": "markdown",
   "metadata": {
    "colab_type": "text",
    "id": "view-in-github"
   },
   "source": [
    "<a \n",
    "href=\"https://colab.research.google.com/github/adilo231/Python-for-machine-learning/blob/main/Chap -1- Introduction to python/1-Variables et Fonctions.ipynb\" \n",
    "target=\"_parent\"><img src=\"https://colab.research.google.com/assets/colab-badge.svg\" alt=\"Open In Colab\"/></a>"
   ]
  },
  {
   "cell_type": "markdown",
   "metadata": {
    "colab_type": "text",
    "id": "Mr4YM6YJTkIz"
   },
   "source": [
    "# Variables"
   ]
  },
  {
   "cell_type": "markdown",
   "metadata": {
    "colab_type": "text",
    "id": "kxKbJy3zUGqq"
   },
   "source": [
    "\n",
    "- input / output\n"
   ]
  },
  {
   "cell_type": "code",
   "execution_count": 1,
   "metadata": {},
   "outputs": [
    {
     "name": "stdout",
     "output_type": "stream",
     "text": [
      "5\n"
     ]
    }
   ],
   "source": [
    "x=input() # Lire les entrées clavier\n",
    "print(x) # afficher les results"
   ]
  },
  {
   "cell_type": "markdown",
   "metadata": {},
   "source": [
    "## Variables et Operations\n",
    "Il existe 4 grands types de variables\n",
    "- input / output\n",
    "- int (nombre entier)\n",
    "- float (nombre décimal)\n",
    "- string (chaine de characteres)\n",
    "- bool (booléen)"
   ]
  },
  {
   "cell_type": "code",
   "execution_count": 2,
   "metadata": {
    "colab": {},
    "colab_type": "code",
    "id": "sB5Lw22eThZs"
   },
   "outputs": [],
   "source": [
    "x = 3 # type int \n",
    "y = 2.5 # type float\n",
    "prenom = 'Pierre' # type string\n",
    "z = True # type Bool"
   ]
  },
  {
   "cell_type": "code",
   "execution_count": 3,
   "metadata": {
    "colab": {
     "base_uri": "https://localhost:8080/",
     "height": 119
    },
    "colab_type": "code",
    "id": "gvy__Ni0VLDg",
    "outputId": "108dc562-5cdf-493f-f804-572bb84cff36"
   },
   "outputs": [
    {
     "name": "stdout",
     "output_type": "stream",
     "text": [
      "x + y = 5.5\n",
      "x - y = 0.5\n",
      "x / y = 1.2\n",
      "x // y = 1.0\n",
      "x * y = 7.5\n",
      "x ^ y = 15.588457268119896\n"
     ]
    }
   ],
   "source": [
    "# Opérations arithmétiques\n",
    "print('x + y =', x + y)\n",
    "print('x - y =', x - y)\n",
    "print('x / y =', x / y)\n",
    "print('x // y =', x // y) # division entiere (tres utile pour les tableaux Numpy)\n",
    "print('x * y =', x * y)\n",
    "print('x ^ y =', x ** y) # x puissance y"
   ]
  },
  {
   "cell_type": "code",
   "execution_count": 4,
   "metadata": {
    "colab": {
     "base_uri": "https://localhost:8080/",
     "height": 85
    },
    "colab_type": "code",
    "id": "osU_peQiV5QH",
    "outputId": "b5e7fe5a-24da-4c26-e26d-fdb680e49f1d"
   },
   "outputs": [
    {
     "name": "stdout",
     "output_type": "stream",
     "text": [
      "égalité : False\n",
      "inégalité : True\n",
      "inférieur ou égal : False\n",
      "supérieur ou égal : True\n"
     ]
    }
   ],
   "source": [
    "# Opérations de comparaison\n",
    "print('égalité :', x == y)\n",
    "print('inégalité :', x != y)\n",
    "print('inférieur ou égal :', x <= y)\n",
    "print('supérieur ou égal :', x >= y)"
   ]
  },
  {
   "cell_type": "code",
   "execution_count": 5,
   "metadata": {
    "colab": {
     "base_uri": "https://localhost:8080/",
     "height": 68
    },
    "colab_type": "code",
    "id": "1s4g7tZxWpm0",
    "outputId": "a9487664-4832-4e20-db7f-801835d4f111"
   },
   "outputs": [
    {
     "name": "stdout",
     "output_type": "stream",
     "text": [
      "ET : False\n",
      "OU : True\n",
      "OU exclusif : True\n"
     ]
    }
   ],
   "source": [
    "# Opérations Logiques\n",
    "print('ET :', False and True)\n",
    "print('OU :', False or True)\n",
    "print('OU exclusif :', False ^ True)"
   ]
  },
  {
   "cell_type": "markdown",
   "metadata": {
    "colab_type": "text",
    "id": "z5QvguMPYVgQ"
   },
   "source": [
    "Note : Les opérations de comparaison et de logique utilisées ensemble permettent de construire des structures algorithmiques de bases (if/esle, while, ...)"
   ]
  },
  {
   "cell_type": "code",
   "execution_count": 6,
   "metadata": {},
   "outputs": [
    {
     "name": "stdout",
     "output_type": "stream",
     "text": [
      "  A     B   ||  A and B   \n",
      "-------------------------\n",
      "False True  ||   False\n",
      "False False ||   False\n",
      "True  True  ||   True\n",
      "True  False ||   False\n"
     ]
    }
   ],
   "source": [
    "# Table Logiques de AND\n",
    "print('  A     B   ||  A and B   ')\n",
    "print('-------------------------')\n",
    "print('False True  ||  ', False and True)\n",
    "print('False False ||  ', False and False)\n",
    "print('True  True  ||  ', True and True)\n",
    "print('True  False ||  ', False and False)"
   ]
  },
  {
   "cell_type": "markdown",
   "metadata": {
    "colab_type": "text",
    "id": "pLJYfhleZRqo"
   },
   "source": [
    "## 2. Fonctions\n",
    "Une fonction anonyme est une fonction créée avec **lambda**. Ce type de fonction est basique et est utile pour etre intégrée au milieu de structures de controles ou bien d'autres fonctions. On l'utilise rarement."
   ]
  },
  {
   "cell_type": "code",
   "execution_count": 7,
   "metadata": {
    "colab": {
     "base_uri": "https://localhost:8080/",
     "height": 34
    },
    "colab_type": "code",
    "id": "8nUYmJJhX7s7",
    "outputId": "f675d3bc-6d69-43c2-92d9-a69b1c24182a"
   },
   "outputs": [
    {
     "name": "stdout",
     "output_type": "stream",
     "text": [
      "9\n"
     ]
    }
   ],
   "source": [
    "# Exemple d'une fonction f(x) = x^2\n",
    "f = lambda x : x**2\n",
    "\n",
    "print(f(3))"
   ]
  },
  {
   "cell_type": "code",
   "execution_count": 8,
   "metadata": {
    "colab": {
     "base_uri": "https://localhost:8080/",
     "height": 34
    },
    "colab_type": "code",
    "id": "n15GdMX1ZdjW",
    "outputId": "f36347e2-6c28-42e5-d416-9b3799b09fde"
   },
   "outputs": [
    {
     "name": "stdout",
     "output_type": "stream",
     "text": [
      "12\n"
     ]
    }
   ],
   "source": [
    "# Exemple d'une fonction g(x, y) = x^2 - y^2\n",
    "g = lambda x, y : x**2 - y**2\n",
    "\n",
    "print(g(4, 2))"
   ]
  },
  {
   "cell_type": "code",
   "execution_count": 9,
   "metadata": {},
   "outputs": [
    {
     "name": "stdout",
     "output_type": "stream",
     "text": [
      "12\n"
     ]
    }
   ],
   "source": [
    "print(g(f(2), 2))"
   ]
  },
  {
   "cell_type": "markdown",
   "metadata": {
    "colab_type": "text",
    "id": "YjgH-JfFajmb"
   },
   "source": [
    "La meilleure facon de créer une fonction est d'utiliser la structure suivante : **def**"
   ]
  },
  {
   "cell_type": "code",
   "execution_count": 10,
   "metadata": {
    "colab": {
     "base_uri": "https://localhost:8080/",
     "height": 34
    },
    "colab_type": "code",
    "id": "kgDxdfuIadt1",
    "outputId": "32a0469a-d856-4206-931c-b013ae387720"
   },
   "outputs": [
    {
     "data": {
      "text/plain": [
       "5"
      ]
     },
     "execution_count": 10,
     "metadata": {},
     "output_type": "execute_result"
    }
   ],
   "source": [
    "# une fonction a un nom, prend des entrées (arguments) et les transforme pour retourner un résultat\n",
    "\n",
    "def nom_de_la_fonction(argument_1, argument_2):\n",
    "   restultat = argument_1 + argument_2\n",
    "   return restultat\n",
    "\n",
    "nom_de_la_fonction(3, 2)"
   ]
  },
  {
   "cell_type": "code",
   "execution_count": 11,
   "metadata": {
    "colab": {
     "base_uri": "https://localhost:8080/",
     "height": 34
    },
    "colab_type": "code",
    "id": "rB-yIhFxbUPa",
    "outputId": "77716e9a-5364-4be9-dec0-c8c750ac0f46"
   },
   "outputs": [
    {
     "data": {
      "text/plain": [
       "981.0"
      ]
     },
     "execution_count": 11,
     "metadata": {},
     "output_type": "execute_result"
    }
   ],
   "source": [
    "# Exemple concret : fonction qui calcul l'energie potentielle d'un corps\n",
    "\n",
    "def e_potentielle(masse, hauteur, g=9.81):\n",
    "  energie = masse * hauteur * g \n",
    "  return energie\n",
    "\n",
    "# ici g a une valeur par défaut donc nous ne sommes pas obligé de lui donner une valeur\n",
    "e_potentielle(masse=10, hauteur=10)"
   ]
  },
  {
   "attachments": {},
   "cell_type": "markdown",
   "metadata": {
    "colab_type": "text",
    "id": "32X3vNS3cbfE"
   },
   "source": [
    "## 3. Exercice et Solution\n",
    "Modifiez la fonction e_potentielle définie plus haut pour retourner une valeur indiquant si l'energie calculée est supérieure ou inférieur a une **energie_limite** passée en tant que $4^{eme}$ argument"
   ]
  },
  {
   "cell_type": "markdown",
   "metadata": {},
   "source": []
  },
  {
   "attachments": {},
   "cell_type": "markdown",
   "metadata": {
    "colab_type": "text",
    "id": "view-in-github"
   },
   "source": [
    "<a \n",
    "href=\"https://colab.research.google.com/github/adilo231/Python-for-machine-learning/blob/main/Chap -1- Introduction to python/2-Structures de Controles.ipynb\" \n",
    "target=\"_parent\"><img src=\"https://colab.research.google.com/assets/colab-badge.svg\" alt=\"Open In Colab\"/></a>"
   ]
  },
  {
   "cell_type": "markdown",
   "metadata": {
    "colab_type": "text",
    "id": "mc-EcvradiEm"
   },
   "source": [
    "# Structures de Controle\n",
    "Dans le monde de la programmation, il existe 3 principales **structures de controle** pour créer des algorithmes.\n",
    "- Les Blocks d'instructions\n",
    "- Les instructions conditionnelles **If / Else**\n",
    "- Les instructions itératives **For, while**\n"
   ]
  },
  {
   "cell_type": "markdown",
   "metadata": {},
   "source": [
    "## 1.Les Blocks d'instructions"
   ]
  },
  {
   "cell_type": "markdown",
   "metadata": {
    "colab_type": "text",
    "id": "GCRRr0YTdpRc"
   },
   "source": [
    "## 2. Les instructions conditionnelles  :\n",
    "Cette structure permet de tester une séquence d'alternatives. Si une condition est respéctée, alors les instructions qui la suivent sont executée et la structure de controle est stopée, sinon la condition suivante est testée."
   ]
  },
  {
   "cell_type": "code",
   "execution_count": 1,
   "metadata": {
    "colab": {},
    "colab_type": "code",
    "id": "36oymtgkdebr"
   },
   "outputs": [],
   "source": [
    "def test_du_signe(valeur):\n",
    "  if valeur < 0:\n",
    "    print('négatif')\n",
    "  elif valeur == 0:\n",
    "    print('nul')\n",
    "  else:\n",
    "    print('positif')"
   ]
  },
  {
   "cell_type": "code",
   "execution_count": 4,
   "metadata": {
    "colab": {
     "base_uri": "https://localhost:8080/",
     "height": 34
    },
    "colab_type": "code",
    "id": "eCbpqCywfazE",
    "outputId": "5f69f649-4092-473e-ed5a-2f97203b2752"
   },
   "outputs": [
    {
     "name": "stdout",
     "output_type": "stream",
     "text": [
      "négatif\n",
      "positif\n",
      "nul\n"
     ]
    }
   ],
   "source": [
    "(test_du_signe(-2))\n",
    "(test_du_signe(2))\n",
    "(test_du_signe(0))"
   ]
  },
  {
   "cell_type": "markdown",
   "metadata": {
    "colab_type": "text",
    "id": "CaHzgd9lfq5o"
   },
   "source": [
    "Note importante : Une condition est respectée si et seulement si elle correspond au résultat **booléen True**."
   ]
  },
  {
   "cell_type": "code",
   "execution_count": 5,
   "metadata": {
    "colab": {
     "base_uri": "https://localhost:8080/",
     "height": 51
    },
    "colab_type": "code",
    "id": "eT4ffeSrfeB2",
    "outputId": "80a81a89-0672-4812-a264-24e5014b059f"
   },
   "outputs": [
    {
     "name": "stdout",
     "output_type": "stream",
     "text": [
      "True\n",
      "négatif\n"
     ]
    }
   ],
   "source": [
    "valeur = -2\n",
    "print(valeur < 0) # le résultat de cette comparaison est True\n",
    "\n",
    "if valeur < 0:\n",
    "  print('négatif')"
   ]
  },
  {
   "cell_type": "markdown",
   "metadata": {
    "colab_type": "text",
    "id": "EPk6O53vhZkW"
   },
   "source": [
    "Cela permet de développer des algorithmes avec des mélanges d'opéations Logiques et d'opérations de comparaisons. Par exemple : *si il fait beau et qu'il faut chaud, alors j'irai me baigner*"
   ]
  },
  {
   "cell_type": "code",
   "execution_count": 6,
   "metadata": {
    "colab": {
     "base_uri": "https://localhost:8080/",
     "height": 34
    },
    "colab_type": "code",
    "id": "52NzMgaegVhP",
    "outputId": "e8996961-8d44-4da2-d7ae-45c8798dd543"
   },
   "outputs": [
    {
     "name": "stdout",
     "output_type": "stream",
     "text": [
      "x et y ne sont pas tous les 2 positifs\n"
     ]
    }
   ],
   "source": [
    "x = 3\n",
    "y = -1\n",
    "if (x>0) and (y>0):\n",
    "  print('x et y sont positifs')\n",
    "else:\n",
    "  print('x et y ne sont pas tous les 2 positifs')"
   ]
  },
  {
   "cell_type": "markdown",
   "metadata": {
    "colab_type": "text",
    "id": "X7ySgVEwhbFd"
   },
   "source": [
    "## 2. Les instructions itératives For, while\n",
    "### 1- Boucle for\n",
    "Une boucle for permet de créer des algorithmes itératifs (qui effectuent une certaine tache plusieurs fois de suite). Pour ca, la boucle parcourt tous les éléments d'un objet dit **itérable**. Il peut s'agir d'une liste, d'un dictionnaire, d'un range, d'un tableau numpy, ou de bien d'autres objets..."
   ]
  },
  {
   "cell_type": "code",
   "execution_count": 13,
   "metadata": {
    "colab": {
     "base_uri": "https://localhost:8080/",
     "height": 187
    },
    "colab_type": "code",
    "id": "4O5B4LHbhMze",
    "outputId": "6c890d52-f5fe-4ed7-e674-314687a88d70"
   },
   "outputs": [
    {
     "name": "stdout",
     "output_type": "stream",
     "text": [
      "0\n",
      "1\n",
      "2\n",
      "3\n",
      "4\n",
      "5\n",
      "6\n",
      "7\n",
      "8\n",
      "9\n"
     ]
    }
   ],
   "source": [
    "# range(début, fin, pas) est une built-in fonction tres utile de python qui retourne un itérable.\n",
    "for i in range(0, 10):\n",
    "  print(i)"
   ]
  },
  {
   "cell_type": "code",
   "execution_count": 16,
   "metadata": {
    "colab": {
     "base_uri": "https://localhost:8080/",
     "height": 357
    },
    "colab_type": "code",
    "id": "aZSpQmXRjJGx",
    "outputId": "87cbbc20-302d-42b3-aa70-c2f8ef4e8ef9"
   },
   "outputs": [
    {
     "name": "stdout",
     "output_type": "stream",
     "text": [
      "-10\n",
      "négatif\n",
      "-8\n",
      "négatif\n",
      "-6\n",
      "négatif\n",
      "-4\n",
      "négatif\n",
      "-2\n",
      "négatif\n",
      "0\n",
      "nul\n",
      "2\n",
      "positif\n",
      "4\n",
      "positif\n",
      "6\n",
      "positif\n",
      "8\n",
      "positif\n"
     ]
    }
   ],
   "source": [
    "# on peut s'amuser a combiner cette boucle avec notre fonction de tout a l'heure.\n",
    "for i in range(-10, 10, 2):\n",
    "  print(i)\n",
    "  test_du_signe(i)"
   ]
  },
  {
   "cell_type": "markdown",
   "metadata": {
    "colab_type": "text",
    "id": "_saAMgPukHO-"
   },
   "source": [
    "### 2. Boucle While\n",
    "Une boucle While permet d'effectuer en boucle une action, tant que la condition d'execution est validée (tant que la condition est **True**)"
   ]
  },
  {
   "cell_type": "code",
   "execution_count": 17,
   "metadata": {
    "colab": {
     "base_uri": "https://localhost:8080/",
     "height": 187
    },
    "colab_type": "code",
    "id": "M8qYGgBkj3m9",
    "outputId": "cb4df7df-e53c-4a74-ed59-7a83a72f4540"
   },
   "outputs": [
    {
     "name": "stdout",
     "output_type": "stream",
     "text": [
      "0\n",
      "1\n",
      "2\n",
      "3\n",
      "4\n",
      "5\n",
      "6\n",
      "7\n",
      "8\n",
      "9\n"
     ]
    }
   ],
   "source": [
    "x = 0\n",
    "while x < 10:\n",
    "  print(x)\n",
    "  x += 1 # incrémente x de 1 (équivalent de x = x+1)"
   ]
  },
  {
   "cell_type": "markdown",
   "metadata": {
    "colab_type": "text",
    "id": "uky4XsM2k1WE"
   },
   "source": [
    "## 4. Exercices et Solutions\n",
    "### 1) \n",
    "Implémentez la **suite de Fibonacci** [0, 1, 1, 2, 3, 5, 8, 13, 21, ...] qui part de 2 nombres a=0 et b=1, et qui calcule le nombre suivant en additionnant les 2 nombres précédents.\n",
    "\n",
    "Indices :\n",
    "- Pour cet exercice vous aurez besoin d'une bouce **While**\n",
    "- Vous pouvez imprimer cette suite jusqu'a atteindre un nombre **n** que vous aurez choisit\n",
    "- dans python il est possible de mettre a jour 2 variables simultannément sur la meme lignes : **a, b = b, a+b**"
   ]
  },
  {
   "cell_type": "code",
   "execution_count": 1,
   "metadata": {
    "colab": {
     "base_uri": "https://localhost:8080/",
     "height": 289
    },
    "colab_type": "code",
    "id": "O9D6U0bBktyC",
    "outputId": "917e9e6e-a9d7-4ab9-bd8f-42fd4061ad2c"
   },
   "outputs": [],
   "source": [
    "# Votre code ici\n",
    "\n"
   ]
  },
  {
   "cell_type": "markdown",
   "metadata": {
    "colab": {},
    "colab_type": "code",
    "id": "3wKUNitUntVE"
   },
   "source": [
    "### 2)\n",
    "Implémentez l'algorithme du jeu \"trouver le nombre\" qui est le suivant :\n",
    "Un nombre aléatoire sera généré et le but est de le trouver.\n",
    "- À chaque itération, l'utilisateur essaie de deviner le nombre.\n",
    "- si l'utilisateur devine le numéro correctement, le jeu se terminera et un message de félicitations apparaîtra\n",
    "- si l'utilisateur donne un nombre supérieur, un message \"inférieur\" apparaîtra\n",
    "- si l'utilisateur donne un nombre bas, un message \"supérieur\" apparaîtra"
   ]
  },
  {
   "cell_type": "code",
   "execution_count": 13,
   "metadata": {},
   "outputs": [
    {
     "name": "stdout",
     "output_type": "stream",
     "text": [
      "901\n"
     ]
    }
   ],
   "source": [
    "#vous pouvez utiliser la function random \n",
    "import random\n",
    "x= random.randint(0,1000)\n",
    "print(x)"
   ]
  },
  {
   "cell_type": "code",
   "execution_count": 14,
   "metadata": {},
   "outputs": [
    {
     "name": "stdout",
     "output_type": "stream",
     "text": [
      "901\n",
      "congratulation you found the number\n"
     ]
    }
   ],
   "source": [
    "# Votre code ici\n"
   ]
  }
 ],
 "metadata": {
  "colab": {
   "authorship_tag": "ABX9TyMFLkJWjpS73et8V2y/zKv/",
   "include_colab_link": true,
   "name": "Untitled2.ipynb",
   "provenance": []
  },
  "kernelspec": {
   "display_name": "base",
   "language": "python",
   "name": "python3"
  },
  "language_info": {
   "codemirror_mode": {
    "name": "ipython",
    "version": 3
   },
   "file_extension": ".py",
   "mimetype": "text/x-python",
   "name": "python",
   "nbconvert_exporter": "python",
   "pygments_lexer": "ipython3",
   "version": "3.8.5"
  },
  "vscode": {
   "interpreter": {
    "hash": "7b34b089ce0dfc9935940e0a22050b2949fa617f7a2b73925623c261bed16aeb"
   }
  }
 },
 "nbformat": 4,
 "nbformat_minor": 1
}
