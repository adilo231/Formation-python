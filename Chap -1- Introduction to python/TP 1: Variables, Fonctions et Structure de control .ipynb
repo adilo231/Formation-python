{
 "cells": [
  {
   "cell_type": "markdown",
   "metadata": {
    "colab_type": "text",
    "id": "Mr4YM6YJTkIz"
   },
   "source": [
    "# TP 1: Variables, Fonctions et Structure de control \n",
    "## Variables et Operations"
   ]
  },
  {
   "cell_type": "markdown",
   "metadata": {},
   "source": [
    "\n",
    "\n",
    "\n",
    "En programmation, une variable est un espace de stockage nommé qui permet de stocker des données. En Python, un langage de programmation polyvalent et largement utilisé, il existe quatre grands types de variables qui nous permettent de stocker différents types de données. Comprendre ces types de variables est essentiel pour manipuler efficacement les données dans un programme Python.\n",
    "Les Quatre Types Principaux de Variables en Python\n",
    "\n",
    "- int (nombre entier) : Les variables de type \"int\" sont utilisées pour stocker des nombres entiers. Par exemple, age = 25 stocke un nombre entier, dans ce cas l'âge de quelqu'un.\n",
    "\n",
    "- float (nombre décimal) : Les variables de type \"float\" sont utilisées pour stocker des nombres décimaux. Par exemple, prix = 19.99 stocke un nombre décimal, ici un prix en euros.\n",
    "\n",
    "- string (chaîne de caractères) : Les variables de type \"string\" sont utilisées pour stocker des séquences de caractères. Par exemple, nom = \"Alice\" stocke une chaîne de caractères, ici le nom d'une personne.\n",
    "\n",
    "- bool (booléen) : Les variables de type \"bool\" sont utilisées pour stocker des valeurs booléennes, c'est-à-dire True (Vrai) ou False (Faux). Par exemple, est_majeur = True stocke une valeur booléenne, indiquant si quelqu'un est majeur ou non.\n",
    "\n",
    "En Python, la déclaration d'une variable est simple. Vous pouvez attribuer une valeur à une variable en utilisant le signe égal (=). Par exemple, pour attribuer la valeur 42 à une variable nombre, vous feriez nombre = 42.\n",
    "\n",
    "Il est important de noter que les noms de variables en Python doivent suivre certaines conventions, telles que ne pas commencer par un chiffre et ne contenir que des lettres, des chiffres et des underscores.\n",
    "\n",
    "L'utilisation des variables est fondamentale en programmation, car elles nous permettent de stocker et de manipuler des données de manière dynamique. Dans ce cours, nous explorerons en détail chaque type de variable et comment les utiliser efficacement pour résoudre des problèmes de programmation.\n",
    "\n",
    "Maintenant que nous avons une compréhension de base des variables en Python, explorons chacun de ces types en détail dans les sections suivantes."
   ]
  },
  {
   "cell_type": "code",
   "execution_count": 4,
   "metadata": {
    "colab": {},
    "colab_type": "code",
    "id": "sB5Lw22eThZs"
   },
   "outputs": [
    {
     "name": "stdout",
     "output_type": "stream",
     "text": [
      "<class 'int'> <class 'float'> <class 'str'> <class 'bool'>\n"
     ]
    }
   ],
   "source": [
    "x = 3 # type int \n",
    "y = 2.5 # type float\n",
    "prenom = 'Pierre' # type string\n",
    "z = True # type Bool\n",
    "\n",
    "print(type(x),type(y), type(prenom),type(z))"
   ]
  },
  {
   "cell_type": "markdown",
   "metadata": {},
   "source": [
    "### Opérations Arithmétiques en Python\n",
    "\n",
    "Les opérations arithmétiques sont un aspect fondamental de la programmation en Python. Elles permettent de réaliser des calculs mathématiques de base, ce qui est essentiel dans le développement de tout type d'application. Dans cette section, nous explorerons les opérations arithmétiques de base en Python, notamment l'addition, la soustraction, la multiplication, la division et la puissance.\n",
    "\n",
    "Python offre une syntaxe simple et intuitive pour effectuer ces opérations, ce qui en fait un langage de programmation populaire pour les calculs mathématiques et scientifiques, ainsi que pour des applications plus générales.\n",
    "\n",
    "Nous aborderons les sujets suivants dans cette section :\n",
    "- Addition (+)\n",
    "- Soustraction (-)\n",
    "- Multiplication (*)\n",
    "- Division (/)\n",
    "- Opérations avec des nombres entiers\n",
    "- Utilisation de parenthèses pour contrôler l'ordre des opérations\n",
    "- Utilisation de la fonction `pow()` pour calculer les puissances\n",
    "\n",
    "Comprendre comment utiliser ces opérations est essentiel pour manipuler des données numériques et résoudre des problèmes mathématiques à l'aide de Python."
   ]
  },
  {
   "cell_type": "code",
   "execution_count": 3,
   "metadata": {
    "colab": {
     "base_uri": "https://localhost:8080/",
     "height": 119
    },
    "colab_type": "code",
    "id": "gvy__Ni0VLDg",
    "outputId": "108dc562-5cdf-493f-f804-572bb84cff36"
   },
   "outputs": [
    {
     "name": "stdout",
     "output_type": "stream",
     "text": [
      "x + y = 5.5\n",
      "x - y = 0.5\n",
      "x / y = 1.2\n",
      "x // y = 1.0\n",
      "x * y = 7.5\n",
      "x ^ y = 15.588457268119896\n"
     ]
    }
   ],
   "source": [
    "# Opérations arithmétiques\n",
    "print('x + y =', x + y)\n",
    "print('x - y =', x - y)\n",
    "print('x / y =', x / y)\n",
    "print('x // y =', x // y) # division entiere (tres utile pour les tableaux Numpy)\n",
    "print('x * y =', x * y)\n",
    "print('x ^ y =', x ** y) # x puissance y"
   ]
  },
  {
   "cell_type": "markdown",
   "metadata": {},
   "source": [
    "### Opérations de Comparaison en Python\n",
    "\n",
    "Les opérations de comparaison sont essentielles en programmation pour évaluer des conditions et prendre des décisions en fonction de ces évaluations. En Python, vous pouvez comparer des valeurs et des expressions pour déterminer si elles sont égales, plus grandes, plus petites ou d'autres relations. Dans cette section, nous explorerons les opérations de comparaison en Python.\n",
    "\n",
    "Voici les principales opérations de comparaison que nous allons aborder :\n",
    "- Égalité (==) : Vérifie si deux valeurs sont égales.\n",
    "- Inégalité (!=) : Vérifie si deux valeurs ne sont pas égales.\n",
    "- Supériorité (>) : Vérifie si une valeur est strictement supérieure à une autre.\n",
    "- Infériorité (<) : Vérifie si une valeur est strictement inférieure à une autre.\n",
    "- Supériorité ou égalité (>=) : Vérifie si une valeur est supérieure ou égale à une autre.\n",
    "- Infériorité ou égalité (<=) : Vérifie si une valeur est inférieure ou égale à une autre.\n",
    "\n",
    "Ces opérations de comparaison sont couramment utilisées pour créer des expressions conditionnelles, des boucles et d'autres structures de contrôle de flux dans vos programmes Python.\n",
    "\n",
    "\n",
    "\n"
   ]
  },
  {
   "cell_type": "code",
   "execution_count": 4,
   "metadata": {
    "colab": {
     "base_uri": "https://localhost:8080/",
     "height": 85
    },
    "colab_type": "code",
    "id": "osU_peQiV5QH",
    "outputId": "b5e7fe5a-24da-4c26-e26d-fdb680e49f1d"
   },
   "outputs": [
    {
     "name": "stdout",
     "output_type": "stream",
     "text": [
      "égalité : False\n",
      "inégalité : True\n",
      "inférieur ou égal : False\n",
      "supérieur ou égal : True\n"
     ]
    }
   ],
   "source": [
    "# Opérations de comparaison\n",
    "print('égalité :', x == y)\n",
    "print('inégalité :', x != y)\n",
    "print('inférieur ou égal :', x <= y)\n",
    "print('supérieur ou égal :', x >= y)"
   ]
  },
  {
   "cell_type": "markdown",
   "metadata": {},
   "source": [
    "### Opérations Logiques en Python\n",
    "\n",
    "Les opérations logiques sont un élément clé de la programmation en Python, utilisées pour évaluer des conditions complexes et prendre des décisions basées sur ces conditions. Les opérations logiques permettent de combiner et de manipuler des valeurs booléennes (Vrai ou Faux) de manière à construire des expressions conditionnelles puissantes. Dans cette section, nous explorerons les opérations logiques en Python.\n",
    "\n",
    "Les opérations logiques principales que nous allons aborder sont les suivantes :\n",
    "- ET logique (`and`) : Vérifie si deux conditions sont simultanément vraies.\n",
    "- OU logique (`or`) : Vérifie si au moins l'une des deux conditions est vraie.\n",
    "- NON logique (`not`) : Inverse une condition booléenne.\n",
    "\n",
    "Ces opérations logiques sont utilisées pour créer des expressions conditionnelles complexes qui permettent de contrôler le flux de votre programme. Elles sont essentielles pour prendre des décisions, exécuter certaines parties du code en fonction de conditions, et créer des boucles conditionnelles.\n",
    "\n",
    "\n"
   ]
  },
  {
   "cell_type": "code",
   "execution_count": 5,
   "metadata": {
    "colab": {
     "base_uri": "https://localhost:8080/",
     "height": 68
    },
    "colab_type": "code",
    "id": "1s4g7tZxWpm0",
    "outputId": "a9487664-4832-4e20-db7f-801835d4f111"
   },
   "outputs": [
    {
     "name": "stdout",
     "output_type": "stream",
     "text": [
      "ET : False\n",
      "OU : True\n",
      "OU exclusif : True\n"
     ]
    }
   ],
   "source": [
    "# Opérations Logiques\n",
    "print('ET :', False and True)\n",
    "print('OU :', False or True)\n",
    "print('OU exclusif :', False ^ True)"
   ]
  },
  {
   "cell_type": "markdown",
   "metadata": {
    "colab_type": "text",
    "id": "z5QvguMPYVgQ"
   },
   "source": [
    "Note : Les opérations de comparaison et de logique utilisées ensemble permettent de construire des structures algorithmiques de bases (if/esle, while, ...)"
   ]
  },
  {
   "cell_type": "code",
   "execution_count": 6,
   "metadata": {},
   "outputs": [
    {
     "name": "stdout",
     "output_type": "stream",
     "text": [
      "  A     B   ||  A and B   \n",
      "-------------------------\n",
      "False True  ||   False\n",
      "False False ||   False\n",
      "True  True  ||   True\n",
      "True  False ||   False\n"
     ]
    }
   ],
   "source": [
    "# Table Logiques de AND\n",
    "print('  A     B   ||  A and B   ')\n",
    "print('-------------------------')\n",
    "print('False True  ||  ', False and True)\n",
    "print('False False ||  ', False and False)\n",
    "print('True  True  ||  ', True and True)\n",
    "print('True  False ||  ', False and False)"
   ]
  },
  {
   "cell_type": "markdown",
   "metadata": {
    "colab_type": "text",
    "id": "pLJYfhleZRqo"
   },
   "source": [
    "## Fonctions\n",
    "\n",
    "Les fonctions sont des éléments fondamentaux de la programmation en Python. Elles permettent d'organiser et de structurer le code en le divisant en blocs de code réutilisables. Une fonction est un ensemble d'instructions qui effectuent une tâche spécifique et peuvent prendre des arguments en entrée pour personnaliser leur comportement. Les fonctions sont essentielles pour rendre le code plus lisible, modulaire et facile à entretenir.\n",
    "\n",
    "Dans Python, une fonction est définie à l'aide du mot-clé def, suivi du nom de la fonction et de ses paramètres entre parenthèses. Elle peut avoir un corps de fonction qui contient les instructions à exécuter lorsque la fonction est appelée. Les fonctions peuvent également retourner des valeurs à l'aide du mot-clé return.\n",
    "\n",
    "L'utilisation de fonctions permet de réduire la redondance du code en regroupant des actions similaires sous une seule fonction. Elles offrent également la possibilité de diviser un programme en morceaux plus petits et plus gérables, ce qui simplifie le débogage et la maintenance du code.\n",
    "\n",
    "### Les Fonctions Lambda en Python\n",
    "\n",
    "Les fonctions lambda, également connues sous le nom de fonctions anonymes, sont un concept intéressant en Python. Contrairement aux fonctions définies avec def, les fonctions lambda sont des fonctions courtes et temporaires qui peuvent être créées sans avoir à nommer explicitement la fonction. Elles sont définies à l'aide du mot-clé lambda, suivi des paramètres entre parenthèses et d'une expression unique qui est évaluée et renvoyée comme résultat.\n",
    "\n",
    "Présentation des Fonctions Lambda :\n",
    "\n",
    "Les fonctions lambda sont souvent utilisées pour des opérations simples et ponctuelles, telles que les transformations de données dans une liste, les filtres ou les opérations mathématiques simples. Elles sont particulièrement utiles lorsque vous avez besoin d'une petite fonction pour effectuer une tâche spécifique, sans la complexité d'une fonction définie avec def.\n",
    "\n",
    "Définition des Fonctions Lambda :\n",
    "\n",
    "Une fonction lambda est définie comme suit :\n",
    "```python \n",
    "lambda arguments: expression\n",
    "\n",
    "```\n",
    "\n",
    "- arguments : Les paramètres que la fonction lambda prend en entrée, séparés par des virgules.\n",
    "- expression : L'expression unique qui est évaluée et renvoyée comme résultat lorsque la fonction lambda est appelée.\n",
    "\n",
    "Voici un exemple simple d'une fonction lambda qui additionne deux nombres :"
   ]
  },
  {
   "cell_type": "code",
   "execution_count": 7,
   "metadata": {
    "colab": {
     "base_uri": "https://localhost:8080/",
     "height": 34
    },
    "colab_type": "code",
    "id": "8nUYmJJhX7s7",
    "outputId": "f675d3bc-6d69-43c2-92d9-a69b1c24182a"
   },
   "outputs": [
    {
     "name": "stdout",
     "output_type": "stream",
     "text": [
      "9\n"
     ]
    }
   ],
   "source": [
    "# Exemple d'une fonction f(x) = x^2\n",
    "f = lambda x : x**2\n",
    "\n",
    "print(f(3))"
   ]
  },
  {
   "cell_type": "code",
   "execution_count": 8,
   "metadata": {
    "colab": {
     "base_uri": "https://localhost:8080/",
     "height": 34
    },
    "colab_type": "code",
    "id": "n15GdMX1ZdjW",
    "outputId": "f36347e2-6c28-42e5-d416-9b3799b09fde"
   },
   "outputs": [
    {
     "name": "stdout",
     "output_type": "stream",
     "text": [
      "12\n"
     ]
    }
   ],
   "source": [
    "# Exemple d'une fonction g(x, y) = x^2 - y^2\n",
    "g = lambda x, y : x**2 - y**2\n",
    "\n",
    "print(g(4, 2))"
   ]
  },
  {
   "cell_type": "code",
   "execution_count": 9,
   "metadata": {},
   "outputs": [
    {
     "name": "stdout",
     "output_type": "stream",
     "text": [
      "12\n"
     ]
    }
   ],
   "source": [
    "print(g(f(2), 2))"
   ]
  },
  {
   "cell_type": "markdown",
   "metadata": {
    "colab_type": "text",
    "id": "YjgH-JfFajmb"
   },
   "source": [
    "### Fonction en Python\n",
    "\n",
    "Une fonction en Python est une portion de code qui effectue une tâche spécifique ou une série de tâches. Les fonctions sont utilisées pour organiser et réutiliser du code en le divisant en blocs autonomes. Une fonction peut être conçue pour prendre des arguments en entrée, effectuer des opérations sur ces arguments, et renvoyer un résultat en sortie. Les fonctions sont définies à l'aide du mot-clé def, suivi du nom de la fonction et de ses paramètres entre parenthèses, le cas échéant.\n",
    "\n",
    "Définition d'une Fonction :\n",
    "\n",
    "Voici la structure de base de la définition d'une fonction en Python :\n",
    "\n",
    "```python\n",
    "\n",
    "def nom_de_la_fonction(parametre1, parametre2, ...):\n",
    "    # Instructions de la fonction\n",
    "    # Ces instructions décrivent ce que la fonction fait\n",
    "    # Elles peuvent inclure des calculs, des opérations, des boucles, etc.\n",
    "    return resultat\n",
    "```\n",
    "\n",
    "- nom_de_la_fonction : Le nom que vous choisissez pour votre fonction.\n",
    "- parametre1, parametre2, ... : Les paramètres (également appelés arguments) que la fonction peut accepter en entrée. Vous pouvez en spécifier un ou plusieurs, ou même aucun.\n",
    "- return resultat : Facultatif. Si vous souhaitez que votre fonction renvoie un résultat, utilisez l'instruction return pour le spécifier. Le résultat peut être une valeur, un objet, une liste, etc."
   ]
  },
  {
   "cell_type": "code",
   "execution_count": 10,
   "metadata": {
    "colab": {
     "base_uri": "https://localhost:8080/",
     "height": 34
    },
    "colab_type": "code",
    "id": "kgDxdfuIadt1",
    "outputId": "32a0469a-d856-4206-931c-b013ae387720"
   },
   "outputs": [
    {
     "data": {
      "text/plain": [
       "5"
      ]
     },
     "execution_count": 10,
     "metadata": {},
     "output_type": "execute_result"
    }
   ],
   "source": [
    "# une fonction a un nom, prend des entrées (arguments) et les transforme pour retourner un résultat\n",
    "\n",
    "def nom_de_la_fonction(argument_1, argument_2):\n",
    "   restultat = argument_1 + argument_2\n",
    "   return restultat\n",
    "\n",
    "nom_de_la_fonction(3, 2)"
   ]
  },
  {
   "cell_type": "code",
   "execution_count": 11,
   "metadata": {
    "colab": {
     "base_uri": "https://localhost:8080/",
     "height": 34
    },
    "colab_type": "code",
    "id": "rB-yIhFxbUPa",
    "outputId": "77716e9a-5364-4be9-dec0-c8c750ac0f46"
   },
   "outputs": [
    {
     "data": {
      "text/plain": [
       "981.0"
      ]
     },
     "execution_count": 11,
     "metadata": {},
     "output_type": "execute_result"
    }
   ],
   "source": [
    "# Exemple concret : fonction qui calcul l'energie potentielle d'un corps\n",
    "\n",
    "def e_potentielle(masse, hauteur, g=9.81):\n",
    "  energie = masse * hauteur * g \n",
    "  return energie\n",
    "\n",
    "# ici g a une valeur par défaut donc nous ne sommes pas obligé de lui donner une valeur\n",
    "e_potentielle(masse=10, hauteur=10)"
   ]
  },
  {
   "cell_type": "markdown",
   "metadata": {},
   "source": [
    "a notion de docstring, ou chaîne de documentation, est un concept important en programmation Python. Il s'agit d'une convention utilisée pour documenter des fonctions, des classes, des modules ou des méthodes en fournissant une description claire et concise de ce qu'ils font, de leurs paramètres, de leurs valeurs de retour, et de toute autre information pertinente. Les docstrings sont des commentaires spéciaux dans le code Python qui sont accessibles via l'attribut __doc__ d'un objet.\n",
    "\n",
    "Voici quelques points clés pour comprendre les docstrings en Python :\n",
    "\n",
    "    Format des Docstrings : Les docstrings sont généralement encadrées par trois guillemets simples (''') ou triples guillemets doubles (\"\"\"). Voici un exemple de docstring pour une fonction "
   ]
  },
  {
   "cell_type": "code",
   "execution_count": 5,
   "metadata": {},
   "outputs": [],
   "source": [
    "def ma_fonction(parametre):\n",
    "    \"\"\"\n",
    "    Description de la fonction.\n",
    "    \n",
    "    Args:\n",
    "        parametre (type): Description du paramètre.\n",
    "    \n",
    "    Returns:\n",
    "        type_de_retour: Description de la valeur de retour.\n",
    "    \"\"\"\n",
    "    # Le code de la fonction\n"
   ]
  },
  {
   "cell_type": "markdown",
   "metadata": {},
   "source": [
    "Contenu des Docstrings : Les docstrings doivent contenir des informations claires et utiles sur l'objet qu'ils documentent. Cela peut inclure :\n",
    "\n",
    "    Une brève description de ce que fait la fonction.\n",
    "    Une liste des paramètres, avec leur type et une description.\n",
    "    Une description de la valeur de retour de la fonction.\n",
    "    Des exemples d'utilisation.\n",
    "\n",
    "Accès aux Docstrings : Vous pouvez accéder au contenu d'un docstring à l'aide de l'attribut __doc__ de l'objet. Par exemple :"
   ]
  },
  {
   "cell_type": "code",
   "execution_count": 6,
   "metadata": {},
   "outputs": [
    {
     "name": "stdout",
     "output_type": "stream",
     "text": [
      "\n",
      "    Description de la fonction.\n",
      "    \n",
      "    Args:\n",
      "        parametre (type): Description du paramètre.\n",
      "    \n",
      "    Returns:\n",
      "        type_de_retour: Description de la valeur de retour.\n",
      "    \n"
     ]
    }
   ],
   "source": [
    "print(ma_fonction.__doc__)"
   ]
  },
  {
   "cell_type": "markdown",
   "metadata": {},
   "source": [
    "Cela affichera la documentation de la fonction ma_fonction à la console.\n",
    "\n",
    "Utilité des Docstrings : Les docstrings sont utiles pour plusieurs raisons :\n",
    "\n",
    "    Ils aident les autres développeurs (ou vous-même) à comprendre rapidement comment utiliser une fonction, une classe ou un module.\n",
    "    Ils servent de référence lors de la documentation du code.\n",
    "    Ils sont utilisés par des outils de documentation automatique tels que Sphinx pour générer des documents de référence et des pages de documentation.\n"
   ]
  },
  {
   "cell_type": "markdown",
   "metadata": {
    "colab_type": "text",
    "id": "mc-EcvradiEm"
   },
   "source": [
    "## Structures de Contrôle en Programmation\n",
    "\n",
    "Les structures de contrôle jouent un rôle central dans la programmation en Python (et dans de nombreux autres langages). Elles sont essentielles pour définir le flux d'exécution d'un programme, permettant ainsi de prendre des décisions, de répéter des tâches et d'organiser le code de manière logique. Dans cette section, nous explorerons trois principales structures de contrôle qui sont fondamentales pour la création d'algorithmes efficaces :\n",
    "\n",
    "- **Les Blocks d'Instructions :** Ces structures délimitent des sections de code qui s'exécutent ensemble, souvent à l'intérieur d'une fonction ou d'une boucle. Les blocs d'instructions contribuent à organiser et à structurer votre code de manière compréhensible.\n",
    "\n",
    "- **Les Instructions Conditionnelles (If / Else) :** Les instructions conditionnelles permettent de prendre des décisions dans un programme. Selon une condition donnée, le programme peut exécuter différentes parties de code. Le constructeur \"If\" permet d'exécuter une action si une condition est vraie, tandis que \"Else\" permet de définir une action alternative si la condition n'est pas remplie.\n",
    "\n",
    "- **Les Instructions Itératives (For, While) :** Les instructions itératives sont utilisées pour répéter des actions plusieurs fois. La boucle \"For\" permet de parcourir un ensemble de données ou de répéter un bloc de code un nombre spécifique de fois. La boucle \"While\" répète un bloc de code tant qu'une condition reste vraie.\n",
    "\n"
   ]
  },
  {
   "cell_type": "markdown",
   "metadata": {},
   "source": [
    "### Les Blocks d'instructions\n",
    "En programmation, un bloc d'instructions, aussi appelé \"suite d'instructions\" ou \"bloc de code\", est une séquence d'instructions qui sont regroupées ensemble et exécutées comme une seule unité. Les blocs d'instructions sont utilisés pour organiser et structurer le code de manière logique et cohérente. Ils jouent un rôle essentiel pour rendre un programme lisible et maintenable. Voici quelques points clés pour comprendre les blocs d'instructions :\n",
    "\n",
    "    Définition des Blocs d'Instructions : Un bloc d'instructions est généralement délimité par des symboles spéciaux, tels que des accolades {} en langages comme Python, C, C++, Java, etc., ou par des mots-clés tels que begin et end en langage Pascal. Par exemple, en Python, un bloc d'instructions peut ressembler à ceci :\n",
    "\n",
    "\n"
   ]
  },
  {
   "cell_type": "code",
   "execution_count": null,
   "metadata": {},
   "outputs": [],
   "source": [
    "def ma_fonction():\n",
    "    # Ceci est le début du bloc d'instructions\n",
    "    instruction_1\n",
    "    instruction_2\n",
    "    # ...\n",
    "    instruction_n\n",
    "    # Ceci est la fin du bloc d'instructions\n"
   ]
  },
  {
   "cell_type": "markdown",
   "metadata": {},
   "source": [
    "\n",
    "Les blocs d'instructions servent principalement à :\n",
    "\n",
    "- Regrouper des instructions associées : Les instructions à l'intérieur d'un bloc ont souvent un objectif commun ou sont liées à une tâche spécifique.\n",
    "- Définir la portée : Les variables déclarées à l'intérieur d'un bloc sont généralement visibles uniquement à l'intérieur de ce bloc, ce qui permet de limiter leur portée (scope).\n",
    "- Faciliter la lisibilité : En regroupant des instructions similaires dans un bloc, le code devient plus lisible et plus facile à comprendre.\n",
    "\n",
    "Usage Courant : Les blocs d'instructions sont couramment utilisés dans les fonctions et les méthodes, où ils regroupent le code spécifique à la fonction. Les boucles et les structures conditionnelles utilisent également des blocs pour déterminer quelles parties du code doivent être répétées ou exécutées sous certaines conditions.\n",
    "\n",
    "Emboîtement de Blocs : Il est important de noter que les blocs d'instructions peuvent être emboîtés, c'est-à-dire qu'un bloc peut contenir d'autres blocs. Cela permet de hiérarchiser et de structurer le code de manière complexe. Par exemple, une fonction peut contenir une boucle, et cette boucle peut elle-même contenir un bloc conditionnel, et ainsi de suite.\n",
    "\n",
    "Indentation : En Python, contrairement à certains autres langages, l'indentation est cruciale pour définir les blocs d'instructions. Les lignes de code appartenant au même bloc doivent être indentées de la même manière, ce qui garantit la lisibilité du code"
   ]
  },
  {
   "cell_type": "markdown",
   "metadata": {
    "colab_type": "text",
    "id": "GCRRr0YTdpRc"
   },
   "source": [
    "### Les instructions conditionnelles  :\n",
    "\n",
    "\n",
    "Les instructions conditionnelles, également appelées structures de contrôle conditionnelles, sont un élément essentiel de la programmation. Elles permettent à un programme de prendre des décisions basées sur des conditions spécifiques. En Python, les instructions conditionnelles les plus couramment utilisées sont `if`, `elif` (else if), et `else`. Voici une explication détaillée des instructions conditionnelles :\n",
    "\n",
    "1. **Instruction `if` :** L'instruction `if` permet d'exécuter un bloc de code uniquement si une condition spécifiée est évaluée comme vraie (True). La syntaxe de base est la suivante :\n",
    "```python\n",
    "   if condition:\n",
    "       # Bloc de code à exécuter si la condition est vraie\n",
    "```\n",
    "Par exemple, vous pouvez utiliser une instruction if pour vérifier si un nombre est positif.\n",
    "\n",
    "2. Instruction elif (Else If) : L'instruction elif est utilisée pour spécifier une condition alternative à vérifier si la première condition (if) n'est pas remplie. Elle permet de gérer plusieurs conditions différentes. Voici comment elle est utilisée :\n",
    "\n",
    "```python\n",
    "\n",
    "if condition1:\n",
    "    # Bloc de code à exécuter si condition1 est vraie\n",
    "elif condition2:\n",
    "    # Bloc de code à exécuter si condition2 est vraie\n",
    "```\n",
    "Par exemple, vous pouvez utiliser elif pour vérifier si un nombre est nul, positif ou négatif.\n",
    "\n",
    "3. Instruction else : L'instruction else est utilisée pour spécifier un bloc de code à exécuter si aucune des conditions précédentes n'est vraie. Elle est souvent utilisée comme option de secours lorsque toutes les autres conditions échouent. Voici comment elle est utilisée :\n",
    "\n",
    "```python\n",
    "\n",
    "if condition:\n",
    "    # Bloc de code à exécuter si la condition est vraie\n",
    "else:\n",
    "    # Bloc de code à exécuter si la condition n'est pas vraie\n",
    "```\n",
    "Par exemple, dans l'exemple précédent, le bloc de code associé à else sera exécuté lorsque nombre est égal à 0."
   ]
  },
  {
   "cell_type": "code",
   "execution_count": 1,
   "metadata": {
    "colab": {},
    "colab_type": "code",
    "id": "36oymtgkdebr"
   },
   "outputs": [],
   "source": [
    "def test_du_signe(valeur):\n",
    "  if valeur < 0:\n",
    "    print('négatif')\n",
    "  elif valeur == 0:\n",
    "    print('nul')\n",
    "  else:\n",
    "    print('positif')"
   ]
  },
  {
   "cell_type": "code",
   "execution_count": 4,
   "metadata": {
    "colab": {
     "base_uri": "https://localhost:8080/",
     "height": 34
    },
    "colab_type": "code",
    "id": "eCbpqCywfazE",
    "outputId": "5f69f649-4092-473e-ed5a-2f97203b2752"
   },
   "outputs": [
    {
     "name": "stdout",
     "output_type": "stream",
     "text": [
      "négatif\n",
      "positif\n",
      "nul\n"
     ]
    }
   ],
   "source": [
    "(test_du_signe(-2))\n",
    "(test_du_signe(2))\n",
    "(test_du_signe(0))"
   ]
  },
  {
   "cell_type": "markdown",
   "metadata": {
    "colab_type": "text",
    "id": "CaHzgd9lfq5o"
   },
   "source": [
    "Note importante : Une condition est respectée si et seulement si elle correspond au résultat **booléen True**."
   ]
  },
  {
   "cell_type": "code",
   "execution_count": 5,
   "metadata": {
    "colab": {
     "base_uri": "https://localhost:8080/",
     "height": 51
    },
    "colab_type": "code",
    "id": "eT4ffeSrfeB2",
    "outputId": "80a81a89-0672-4812-a264-24e5014b059f"
   },
   "outputs": [
    {
     "name": "stdout",
     "output_type": "stream",
     "text": [
      "True\n",
      "négatif\n"
     ]
    }
   ],
   "source": [
    "valeur = -2\n",
    "print(valeur < 0) # le résultat de cette comparaison est True\n",
    "\n",
    "if valeur < 0:\n",
    "  print('négatif')"
   ]
  },
  {
   "cell_type": "markdown",
   "metadata": {
    "colab_type": "text",
    "id": "EPk6O53vhZkW"
   },
   "source": [
    "Cela permet de développer des algorithmes avec des mélanges d'opéations Logiques et d'opérations de comparaisons. Par exemple : *si il fait beau et qu'il faut chaud, alors j'irai me baigner*"
   ]
  },
  {
   "cell_type": "code",
   "execution_count": 6,
   "metadata": {
    "colab": {
     "base_uri": "https://localhost:8080/",
     "height": 34
    },
    "colab_type": "code",
    "id": "52NzMgaegVhP",
    "outputId": "e8996961-8d44-4da2-d7ae-45c8798dd543"
   },
   "outputs": [
    {
     "name": "stdout",
     "output_type": "stream",
     "text": [
      "x et y ne sont pas tous les 2 positifs\n"
     ]
    }
   ],
   "source": [
    "x = 3\n",
    "y = -1\n",
    "if (x>0) and (y>0):\n",
    "  print('x et y sont positifs')\n",
    "else:\n",
    "  print('x et y ne sont pas tous les 2 positifs')"
   ]
  },
  {
   "cell_type": "markdown",
   "metadata": {
    "colab_type": "text",
    "id": "X7ySgVEwhbFd"
   },
   "source": [
    "### 2. Les instructions itératives For, while\n",
    "Dans Python, les instructions itératives, notamment les boucles for et while, sont des structures de contrôle permettant de répéter des actions ou des séquences d'instructions un certain nombre de fois ou tant qu'une condition est remplie. Elles sont essentielles pour automatiser des tâches répétitives et pour parcourir des collections de données telles que des listes, des chaînes de caractères, ou des dictionnaires. Voici une présentation et une description détaillée de chacune de ces boucles :\n",
    "#### 1- Boucle for\n",
    "a boucle for est utilisée pour parcourir une séquence (comme une liste, une chaîne de caractères, un dictionnaire, etc.) et exécuter un bloc de code pour chaque élément de la séquence. La syntaxe de base de la boucle for est la suivante :\n",
    "\n",
    "```python\n",
    "\n",
    "for element in sequence:\n",
    "    # Bloc de code à exécuter pour chaque élément\n",
    "```\n",
    "- element : Une variable qui prend la valeur de chaque élément de la séquence à chaque itération.\n",
    "- sequence : La séquence à parcourir, telle qu'une liste, une chaîne de caractères, ou une plage générée par range().\n",
    "Exemple d'utilisation de la boucle for :\n"
   ]
  },
  {
   "cell_type": "code",
   "execution_count": 13,
   "metadata": {
    "colab": {
     "base_uri": "https://localhost:8080/",
     "height": 187
    },
    "colab_type": "code",
    "id": "4O5B4LHbhMze",
    "outputId": "6c890d52-f5fe-4ed7-e674-314687a88d70"
   },
   "outputs": [
    {
     "name": "stdout",
     "output_type": "stream",
     "text": [
      "0\n",
      "1\n",
      "2\n",
      "3\n",
      "4\n",
      "5\n",
      "6\n",
      "7\n",
      "8\n",
      "9\n"
     ]
    }
   ],
   "source": [
    "# range(début, fin, pas) est une built-in fonction tres utile de python qui retourne un itérable.\n",
    "for i in range(0, 10):\n",
    "  print(i)"
   ]
  },
  {
   "cell_type": "code",
   "execution_count": 16,
   "metadata": {
    "colab": {
     "base_uri": "https://localhost:8080/",
     "height": 357
    },
    "colab_type": "code",
    "id": "aZSpQmXRjJGx",
    "outputId": "87cbbc20-302d-42b3-aa70-c2f8ef4e8ef9"
   },
   "outputs": [
    {
     "name": "stdout",
     "output_type": "stream",
     "text": [
      "-10\n",
      "négatif\n",
      "-8\n",
      "négatif\n",
      "-6\n",
      "négatif\n",
      "-4\n",
      "négatif\n",
      "-2\n",
      "négatif\n",
      "0\n",
      "nul\n",
      "2\n",
      "positif\n",
      "4\n",
      "positif\n",
      "6\n",
      "positif\n",
      "8\n",
      "positif\n"
     ]
    }
   ],
   "source": [
    "# on peut s'amuser a combiner cette boucle avec notre fonction de tout a l'heure.\n",
    "for i in range(-10, 10, 2):\n",
    "  print(i)\n",
    "  test_du_signe(i)"
   ]
  },
  {
   "cell_type": "markdown",
   "metadata": {
    "colab_type": "text",
    "id": "_saAMgPukHO-"
   },
   "source": [
    "### 2. Boucle While\n",
    "La boucle while permet d'exécuter un bloc de code tant qu'une condition spécifiée reste vraie. Elle est utile lorsque vous ne savez pas à l'avance combien d'itérations seront nécessaires. La syntaxe de base de la boucle while est la suivante :\n",
    "\n",
    "```python\n",
    "\n",
    "while condition:\n",
    "    # Bloc de code à exécuter tant que la condition est vraie\n",
    "```\n",
    "condition : Une expression booléenne qui est évaluée à chaque itération. La boucle continue tant que cette condition est vraie."
   ]
  },
  {
   "cell_type": "code",
   "execution_count": 17,
   "metadata": {
    "colab": {
     "base_uri": "https://localhost:8080/",
     "height": 187
    },
    "colab_type": "code",
    "id": "M8qYGgBkj3m9",
    "outputId": "cb4df7df-e53c-4a74-ed59-7a83a72f4540"
   },
   "outputs": [
    {
     "name": "stdout",
     "output_type": "stream",
     "text": [
      "0\n",
      "1\n",
      "2\n",
      "3\n",
      "4\n",
      "5\n",
      "6\n",
      "7\n",
      "8\n",
      "9\n"
     ]
    }
   ],
   "source": [
    "x = 0\n",
    "while x < 10:\n",
    "  print(x)\n",
    "  x += 1 # incrémente x de 1 (équivalent de x = x+1)"
   ]
  },
  {
   "cell_type": "markdown",
   "metadata": {
    "colab_type": "text",
    "id": "uky4XsM2k1WE"
   },
   "source": [
    "## Exercices \n",
    "### Exercices Partie 1\n",
    "1. Modifiez la fonction e_potentielle définie plus haut pour retourner une valeur indiquant si l'energie calculée est supérieure ou inférieur a une **energie_limite** passée en tant que $4^{eme}$ argument\n",
    "\n",
    "\n",
    "\n",
    "2. Créez une fonction Python qui prend deux nombres et un opérateur (+, -, *, /) en entrée.\n",
    "Effectuez l'opération arithmétique correspondante et renvoyez le résultat.\n",
    "Testez la fonction avec diverses valeurs d'entrée et d'opérateurs.\n",
    "\n",
    "\n",
    "3. Écrivez une fonction Python qui calcule l'aire d'un cercle en fonction de son rayon.\n",
    "Utilisez la formule `aire = π * r^2`, où π (pi) est une constante.\n",
    "Permettez à l'utilisateur de saisir le rayon et affichez l'aire.\n",
    "\n",
    "\n",
    "4. Créez un programme Python capable de convertir entre les températures Celsius et Fahrenheit.\n",
    "Écrivez des fonctions pour la conversion de Celsius en Fahrenheit et vice versa.\n",
    "Demandez à l'utilisateur de saisir la température et affichez la température convertie.\n",
    "\n",
    "\n",
    "5. Écrivez une fonction Python qui vérifie si un entier donné est pair ou impair.\n",
    "Utilisez des déclarations conditionnelles (if/else) pour déterminer et renvoyer le résultat.\n",
    "Testez la fonction avec divers nombres.\n",
    "\n",
    "\n",
    "6. Développez une fonction Python qui vérifie si une chaîne donnée est un palindrome (se lit de la même manière de gauche à droite et de droite à gauche).\n",
    "Supprimez les espaces et convertissez la chaîne en minuscules pour une vérification insensible à la casse.\n",
    "Renvoyez True s'il s'agit d'un palindrome et False sinon.\n",
    "Testez la fonction avec différents mots et phrases.\n",
    "\n",
    "### Exercices Partie 2\n",
    "1. Implémentez la **suite de Fibonacci** [0, 1, 1, 2, 3, 5, 8, 13, 21, ...] qui part de 2 nombres a=0 et b=1, et qui calcule le nombre suivant en additionnant les 2 nombres précédents.\n",
    "\n",
    "Indices :\n",
    "- Pour cet exercice vous aurez besoin d'une bouce **While**\n",
    "- Vous pouvez imprimer cette suite jusqu'a atteindre un nombre **n** que vous aurez choisit\n",
    "- dans python il est possible de mettre a jour 2 variables simultannément sur la meme lignes : **a, b = b, a+b**"
   ]
  },
  {
   "cell_type": "markdown",
   "metadata": {
    "colab": {},
    "colab_type": "code",
    "id": "3wKUNitUntVE"
   },
   "source": [
    "2. Implémentez l'algorithme du jeu \"trouver le nombre\" qui est le suivant :\n",
    "Un nombre aléatoire sera généré et le but est de le trouver.\n",
    "- À chaque itération, l'utilisateur essaie de deviner le nombre.\n",
    "- si l'utilisateur devine le numéro correctement, le jeu se terminera et un message de félicitations apparaîtra\n",
    "- si l'utilisateur donne un nombre supérieur, un message \"inférieur\" apparaîtra\n",
    "- si l'utilisateur donne un nombre bas, un message \"supérieur\" apparaîtra"
   ]
  },
  {
   "cell_type": "code",
   "execution_count": 13,
   "metadata": {},
   "outputs": [
    {
     "name": "stdout",
     "output_type": "stream",
     "text": [
      "901\n"
     ]
    }
   ],
   "source": [
    "#vous pouvez utiliser la function random \n",
    "import random\n",
    "x= random.randint(0,1000)\n",
    "print(x)"
   ]
  },
  {
   "cell_type": "markdown",
   "metadata": {},
   "source": [
    "3. Write a Python program that prints all the multiples of 5 between 1 and 50 (inclusive).\n",
    "\n",
    "4. Create a Python function that calculates the factorial of a given positive integer. Ask the user for input and display the result.\n",
    "\n",
    "5. Create a Python program that generates prime numbers within a specified range. Ask the user to input the range and display the prime numbers found."
   ]
  }
 ],
 "metadata": {
  "colab": {
   "authorship_tag": "ABX9TyMFLkJWjpS73et8V2y/zKv/",
   "include_colab_link": true,
   "name": "Untitled2.ipynb",
   "provenance": []
  },
  "kernelspec": {
   "display_name": "base",
   "language": "python",
   "name": "python3"
  },
  "language_info": {
   "codemirror_mode": {
    "name": "ipython",
    "version": 3
   },
   "file_extension": ".py",
   "mimetype": "text/x-python",
   "name": "python",
   "nbconvert_exporter": "python",
   "pygments_lexer": "ipython3",
   "version": "3.8.5"
  },
  "vscode": {
   "interpreter": {
    "hash": "7b34b089ce0dfc9935940e0a22050b2949fa617f7a2b73925623c261bed16aeb"
   }
  }
 },
 "nbformat": 4,
 "nbformat_minor": 1
}
